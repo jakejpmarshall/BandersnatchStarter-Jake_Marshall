{
 "cells": [
  {
   "cell_type": "code",
   "execution_count": 4,
   "metadata": {},
   "outputs": [
    {
     "data": {
      "text/html": [
       "<div>\n",
       "<style scoped>\n",
       "    .dataframe tbody tr th:only-of-type {\n",
       "        vertical-align: middle;\n",
       "    }\n",
       "\n",
       "    .dataframe tbody tr th {\n",
       "        vertical-align: top;\n",
       "    }\n",
       "\n",
       "    .dataframe thead th {\n",
       "        text-align: right;\n",
       "    }\n",
       "</style>\n",
       "<table border=\"1\" class=\"dataframe\">\n",
       "  <thead>\n",
       "    <tr style=\"text-align: right;\">\n",
       "      <th></th>\n",
       "      <th>Name</th>\n",
       "      <th>Miles_per_Gallon</th>\n",
       "      <th>Cylinders</th>\n",
       "      <th>Displacement</th>\n",
       "      <th>Horsepower</th>\n",
       "      <th>Weight_in_lbs</th>\n",
       "      <th>Acceleration</th>\n",
       "      <th>Year</th>\n",
       "      <th>Origin</th>\n",
       "    </tr>\n",
       "  </thead>\n",
       "  <tbody>\n",
       "    <tr>\n",
       "      <th>0</th>\n",
       "      <td>chevrolet chevelle malibu</td>\n",
       "      <td>18.0</td>\n",
       "      <td>8</td>\n",
       "      <td>307.0</td>\n",
       "      <td>130.0</td>\n",
       "      <td>3504</td>\n",
       "      <td>12.0</td>\n",
       "      <td>1970-01-01</td>\n",
       "      <td>USA</td>\n",
       "    </tr>\n",
       "    <tr>\n",
       "      <th>1</th>\n",
       "      <td>buick skylark 320</td>\n",
       "      <td>15.0</td>\n",
       "      <td>8</td>\n",
       "      <td>350.0</td>\n",
       "      <td>165.0</td>\n",
       "      <td>3693</td>\n",
       "      <td>11.5</td>\n",
       "      <td>1970-01-01</td>\n",
       "      <td>USA</td>\n",
       "    </tr>\n",
       "    <tr>\n",
       "      <th>2</th>\n",
       "      <td>plymouth satellite</td>\n",
       "      <td>18.0</td>\n",
       "      <td>8</td>\n",
       "      <td>318.0</td>\n",
       "      <td>150.0</td>\n",
       "      <td>3436</td>\n",
       "      <td>11.0</td>\n",
       "      <td>1970-01-01</td>\n",
       "      <td>USA</td>\n",
       "    </tr>\n",
       "    <tr>\n",
       "      <th>3</th>\n",
       "      <td>amc rebel sst</td>\n",
       "      <td>16.0</td>\n",
       "      <td>8</td>\n",
       "      <td>304.0</td>\n",
       "      <td>150.0</td>\n",
       "      <td>3433</td>\n",
       "      <td>12.0</td>\n",
       "      <td>1970-01-01</td>\n",
       "      <td>USA</td>\n",
       "    </tr>\n",
       "    <tr>\n",
       "      <th>4</th>\n",
       "      <td>ford torino</td>\n",
       "      <td>17.0</td>\n",
       "      <td>8</td>\n",
       "      <td>302.0</td>\n",
       "      <td>140.0</td>\n",
       "      <td>3449</td>\n",
       "      <td>10.5</td>\n",
       "      <td>1970-01-01</td>\n",
       "      <td>USA</td>\n",
       "    </tr>\n",
       "  </tbody>\n",
       "</table>\n",
       "</div>"
      ],
      "text/plain": [
       "                        Name  Miles_per_Gallon  Cylinders  Displacement  \\\n",
       "0  chevrolet chevelle malibu              18.0          8         307.0   \n",
       "1          buick skylark 320              15.0          8         350.0   \n",
       "2         plymouth satellite              18.0          8         318.0   \n",
       "3              amc rebel sst              16.0          8         304.0   \n",
       "4                ford torino              17.0          8         302.0   \n",
       "\n",
       "   Horsepower  Weight_in_lbs  Acceleration       Year Origin  \n",
       "0       130.0           3504          12.0 1970-01-01    USA  \n",
       "1       165.0           3693          11.5 1970-01-01    USA  \n",
       "2       150.0           3436          11.0 1970-01-01    USA  \n",
       "3       150.0           3433          12.0 1970-01-01    USA  \n",
       "4       140.0           3449          10.5 1970-01-01    USA  "
      ]
     },
     "execution_count": 4,
     "metadata": {},
     "output_type": "execute_result"
    }
   ],
   "source": [
    "import pandas as pd\n",
    "import altair\n",
    "from vega_datasets import data\n",
    "\n",
    "car = data.cars()\n",
    "df = pd.DataFrame(car)\n",
    "df.head(5)"
   ]
  },
  {
   "cell_type": "code",
   "execution_count": 71,
   "metadata": {},
   "outputs": [
    {
     "ename": "ValueError",
     "evalue": "Unable to determine data type for the field \"Origin\"; verify that the field name is not misspelled. If you are referencing a field from a transform, also confirm that the data type is specified correctly.",
     "output_type": "error",
     "traceback": [
      "\u001b[0;31m---------------------------------------------------------------------------\u001b[0m",
      "\u001b[0;31mValueError\u001b[0m                                Traceback (most recent call last)",
      "\u001b[0;32m~/Desktop/BloomTech_labs/.venv/lib/python3.8/site-packages/altair/vegalite/v5/api.py\u001b[0m in \u001b[0;36m?\u001b[0;34m(self, *args, **kwds)\u001b[0m\n\u001b[1;32m   3409\u001b[0m         \u001b[0;31m# see https://github.com/ipython/ipython/issues/11038\u001b[0m\u001b[0;34m\u001b[0m\u001b[0;34m\u001b[0m\u001b[0;34m\u001b[0m\u001b[0m\n\u001b[1;32m   3410\u001b[0m         \u001b[0;32mtry\u001b[0m\u001b[0;34m:\u001b[0m\u001b[0;34m\u001b[0m\u001b[0;34m\u001b[0m\u001b[0m\n\u001b[1;32m   3411\u001b[0m             \u001b[0mdct\u001b[0m \u001b[0;34m=\u001b[0m \u001b[0mself\u001b[0m\u001b[0;34m.\u001b[0m\u001b[0mto_dict\u001b[0m\u001b[0;34m(\u001b[0m\u001b[0mcontext\u001b[0m\u001b[0;34m=\u001b[0m\u001b[0;34m{\u001b[0m\u001b[0;34m\"pre_transform\"\u001b[0m\u001b[0;34m:\u001b[0m \u001b[0;32mFalse\u001b[0m\u001b[0;34m}\u001b[0m\u001b[0;34m)\u001b[0m\u001b[0;34m\u001b[0m\u001b[0;34m\u001b[0m\u001b[0m\n\u001b[1;32m   3412\u001b[0m         \u001b[0;32mexcept\u001b[0m \u001b[0mException\u001b[0m\u001b[0;34m:\u001b[0m\u001b[0;34m\u001b[0m\u001b[0;34m\u001b[0m\u001b[0m\n\u001b[0;32m-> 3413\u001b[0;31m             \u001b[0mutils\u001b[0m\u001b[0;34m.\u001b[0m\u001b[0mdisplay_traceback\u001b[0m\u001b[0;34m(\u001b[0m\u001b[0min_ipython\u001b[0m\u001b[0;34m=\u001b[0m\u001b[0;32mTrue\u001b[0m\u001b[0;34m)\u001b[0m\u001b[0;34m\u001b[0m\u001b[0;34m\u001b[0m\u001b[0m\n\u001b[0m\u001b[1;32m   3414\u001b[0m             \u001b[0;32mreturn\u001b[0m \u001b[0;34m{\u001b[0m\u001b[0;34m}\u001b[0m\u001b[0;34m\u001b[0m\u001b[0;34m\u001b[0m\u001b[0m\n\u001b[1;32m   3415\u001b[0m         \u001b[0;32melse\u001b[0m\u001b[0;34m:\u001b[0m\u001b[0;34m\u001b[0m\u001b[0;34m\u001b[0m\u001b[0m\n\u001b[1;32m   3416\u001b[0m             \u001b[0;32mif\u001b[0m \u001b[0mrenderer\u001b[0m \u001b[0;34m:=\u001b[0m \u001b[0mrenderers\u001b[0m\u001b[0;34m.\u001b[0m\u001b[0mget\u001b[0m\u001b[0;34m(\u001b[0m\u001b[0;34m)\u001b[0m\u001b[0;34m:\u001b[0m\u001b[0;34m\u001b[0m\u001b[0;34m\u001b[0m\u001b[0m\n",
      "\u001b[0;32m~/Desktop/BloomTech_labs/.venv/lib/python3.8/site-packages/altair/vegalite/v5/api.py\u001b[0m in \u001b[0;36m?\u001b[0;34m(self, validate, format, ignore, context)\u001b[0m\n\u001b[1;32m   3774\u001b[0m             \u001b[0;31m# for easier specification of datum encodings.\u001b[0m\u001b[0;34m\u001b[0m\u001b[0;34m\u001b[0m\u001b[0;34m\u001b[0m\u001b[0m\n\u001b[1;32m   3775\u001b[0m             \u001b[0mcopy\u001b[0m \u001b[0;34m=\u001b[0m \u001b[0mself\u001b[0m\u001b[0;34m.\u001b[0m\u001b[0mcopy\u001b[0m\u001b[0;34m(\u001b[0m\u001b[0mdeep\u001b[0m\u001b[0;34m=\u001b[0m\u001b[0;32mFalse\u001b[0m\u001b[0;34m)\u001b[0m\u001b[0;34m\u001b[0m\u001b[0;34m\u001b[0m\u001b[0m\n\u001b[1;32m   3776\u001b[0m             \u001b[0mcopy\u001b[0m\u001b[0;34m.\u001b[0m\u001b[0mdata\u001b[0m \u001b[0;34m=\u001b[0m \u001b[0mcore\u001b[0m\u001b[0;34m.\u001b[0m\u001b[0mInlineData\u001b[0m\u001b[0;34m(\u001b[0m\u001b[0mvalues\u001b[0m\u001b[0;34m=\u001b[0m\u001b[0;34m[\u001b[0m\u001b[0;34m{\u001b[0m\u001b[0;34m}\u001b[0m\u001b[0;34m]\u001b[0m\u001b[0;34m)\u001b[0m\u001b[0;34m\u001b[0m\u001b[0;34m\u001b[0m\u001b[0m\n\u001b[1;32m   3777\u001b[0m             \u001b[0;32mreturn\u001b[0m \u001b[0msuper\u001b[0m\u001b[0;34m(\u001b[0m\u001b[0mChart\u001b[0m\u001b[0;34m,\u001b[0m \u001b[0mcopy\u001b[0m\u001b[0;34m)\u001b[0m\u001b[0;34m.\u001b[0m\u001b[0mto_dict\u001b[0m\u001b[0;34m(\u001b[0m\u001b[0;34m**\u001b[0m\u001b[0mkwds\u001b[0m\u001b[0;34m)\u001b[0m\u001b[0;34m\u001b[0m\u001b[0;34m\u001b[0m\u001b[0m\n\u001b[0;32m-> 3778\u001b[0;31m         \u001b[0;32mreturn\u001b[0m \u001b[0msuper\u001b[0m\u001b[0;34m(\u001b[0m\u001b[0;34m)\u001b[0m\u001b[0;34m.\u001b[0m\u001b[0mto_dict\u001b[0m\u001b[0;34m(\u001b[0m\u001b[0;34m**\u001b[0m\u001b[0mkwds\u001b[0m\u001b[0;34m)\u001b[0m\u001b[0;34m\u001b[0m\u001b[0;34m\u001b[0m\u001b[0m\n\u001b[0m",
      "\u001b[0;32m~/Desktop/BloomTech_labs/.venv/lib/python3.8/site-packages/altair/vegalite/v5/api.py\u001b[0m in \u001b[0;36m?\u001b[0;34m(self, validate, format, ignore, context)\u001b[0m\n\u001b[1;32m   1809\u001b[0m \u001b[0;34m\u001b[0m\u001b[0m\n\u001b[1;32m   1810\u001b[0m         \u001b[0;31m# TopLevelMixin instance does not necessarily have to_dict defined\u001b[0m\u001b[0;34m\u001b[0m\u001b[0;34m\u001b[0m\u001b[0;34m\u001b[0m\u001b[0m\n\u001b[1;32m   1811\u001b[0m         \u001b[0;31m# but due to how Altair is set up this should hold.\u001b[0m\u001b[0;34m\u001b[0m\u001b[0;34m\u001b[0m\u001b[0;34m\u001b[0m\u001b[0m\n\u001b[1;32m   1812\u001b[0m         \u001b[0;31m# Too complex to type hint right now\u001b[0m\u001b[0;34m\u001b[0m\u001b[0;34m\u001b[0m\u001b[0;34m\u001b[0m\u001b[0m\n\u001b[0;32m-> 1813\u001b[0;31m         vegalite_spec: Any = super(TopLevelMixin, copy).to_dict(  # type: ignore[misc]\n\u001b[0m\u001b[1;32m   1814\u001b[0m             \u001b[0mvalidate\u001b[0m\u001b[0;34m=\u001b[0m\u001b[0mvalidate\u001b[0m\u001b[0;34m,\u001b[0m \u001b[0mignore\u001b[0m\u001b[0;34m=\u001b[0m\u001b[0mignore\u001b[0m\u001b[0;34m,\u001b[0m \u001b[0mcontext\u001b[0m\u001b[0;34m=\u001b[0m\u001b[0mdict\u001b[0m\u001b[0;34m(\u001b[0m\u001b[0mcontext\u001b[0m\u001b[0;34m,\u001b[0m \u001b[0mpre_transform\u001b[0m\u001b[0;34m=\u001b[0m\u001b[0;32mFalse\u001b[0m\u001b[0;34m)\u001b[0m\u001b[0;34m\u001b[0m\u001b[0;34m\u001b[0m\u001b[0m\n\u001b[1;32m   1815\u001b[0m         )\n\u001b[1;32m   1816\u001b[0m \u001b[0;34m\u001b[0m\u001b[0m\n",
      "\u001b[0;32m~/Desktop/BloomTech_labs/.venv/lib/python3.8/site-packages/altair/utils/schemapi.py\u001b[0m in \u001b[0;36m?\u001b[0;34m(self, validate, ignore, context)\u001b[0m\n\u001b[1;32m   1056\u001b[0m                 \u001b[0mk\u001b[0m\u001b[0;34m:\u001b[0m \u001b[0mv\u001b[0m \u001b[0;32mfor\u001b[0m \u001b[0mk\u001b[0m\u001b[0;34m,\u001b[0m \u001b[0mv\u001b[0m \u001b[0;32min\u001b[0m \u001b[0mkwds\u001b[0m\u001b[0;34m.\u001b[0m\u001b[0mitems\u001b[0m\u001b[0;34m(\u001b[0m\u001b[0;34m)\u001b[0m \u001b[0;32mif\u001b[0m \u001b[0mk\u001b[0m \u001b[0;32mnot\u001b[0m \u001b[0;32min\u001b[0m \u001b[0;34m{\u001b[0m\u001b[0;34m*\u001b[0m\u001b[0mlist\u001b[0m\u001b[0;34m(\u001b[0m\u001b[0mignore\u001b[0m\u001b[0;34m)\u001b[0m\u001b[0;34m,\u001b[0m \u001b[0;34m\"shorthand\"\u001b[0m\u001b[0;34m}\u001b[0m\u001b[0;34m\u001b[0m\u001b[0;34m\u001b[0m\u001b[0m\n\u001b[1;32m   1057\u001b[0m             }\n\u001b[1;32m   1058\u001b[0m             \u001b[0;32mif\u001b[0m \u001b[0;34m\"mark\"\u001b[0m \u001b[0;32min\u001b[0m \u001b[0mkwds\u001b[0m \u001b[0;32mand\u001b[0m \u001b[0misinstance\u001b[0m\u001b[0;34m(\u001b[0m\u001b[0mkwds\u001b[0m\u001b[0;34m[\u001b[0m\u001b[0;34m\"mark\"\u001b[0m\u001b[0;34m]\u001b[0m\u001b[0;34m,\u001b[0m \u001b[0mstr\u001b[0m\u001b[0;34m)\u001b[0m\u001b[0;34m:\u001b[0m\u001b[0;34m\u001b[0m\u001b[0;34m\u001b[0m\u001b[0m\n\u001b[1;32m   1059\u001b[0m                 \u001b[0mkwds\u001b[0m\u001b[0;34m[\u001b[0m\u001b[0;34m\"mark\"\u001b[0m\u001b[0;34m]\u001b[0m \u001b[0;34m=\u001b[0m \u001b[0;34m{\u001b[0m\u001b[0;34m\"type\"\u001b[0m\u001b[0;34m:\u001b[0m \u001b[0mkwds\u001b[0m\u001b[0;34m[\u001b[0m\u001b[0;34m\"mark\"\u001b[0m\u001b[0;34m]\u001b[0m\u001b[0;34m}\u001b[0m\u001b[0;34m\u001b[0m\u001b[0;34m\u001b[0m\u001b[0m\n\u001b[0;32m-> 1060\u001b[0;31m             \u001b[0mresult\u001b[0m \u001b[0;34m=\u001b[0m \u001b[0m_todict\u001b[0m\u001b[0;34m(\u001b[0m\u001b[0mkwds\u001b[0m\u001b[0;34m,\u001b[0m \u001b[0mcontext\u001b[0m\u001b[0;34m=\u001b[0m\u001b[0mcontext\u001b[0m\u001b[0;34m,\u001b[0m \u001b[0mnp_opt\u001b[0m\u001b[0;34m=\u001b[0m\u001b[0mnp_opt\u001b[0m\u001b[0;34m,\u001b[0m \u001b[0mpd_opt\u001b[0m\u001b[0;34m=\u001b[0m\u001b[0mpd_opt\u001b[0m\u001b[0;34m)\u001b[0m\u001b[0;34m\u001b[0m\u001b[0;34m\u001b[0m\u001b[0m\n\u001b[0m\u001b[1;32m   1061\u001b[0m         \u001b[0;32melse\u001b[0m\u001b[0;34m:\u001b[0m\u001b[0;34m\u001b[0m\u001b[0;34m\u001b[0m\u001b[0m\n\u001b[1;32m   1062\u001b[0m             msg = (\n\u001b[1;32m   1063\u001b[0m                 \u001b[0;34mf\"{self.__class__} instance has both a value and properties : \"\u001b[0m\u001b[0;34m\u001b[0m\u001b[0;34m\u001b[0m\u001b[0m\n",
      "\u001b[0;32m~/Desktop/BloomTech_labs/.venv/lib/python3.8/site-packages/altair/utils/schemapi.py\u001b[0m in \u001b[0;36m?\u001b[0;34m(obj, context, np_opt, pd_opt)\u001b[0m\n\u001b[1;32m    516\u001b[0m         \u001b[0;32mreturn\u001b[0m \u001b[0mobj\u001b[0m\u001b[0;34m.\u001b[0m\u001b[0mto_dict\u001b[0m\u001b[0;34m(\u001b[0m\u001b[0mvalidate\u001b[0m\u001b[0;34m=\u001b[0m\u001b[0;32mFalse\u001b[0m\u001b[0;34m,\u001b[0m \u001b[0mcontext\u001b[0m\u001b[0;34m=\u001b[0m\u001b[0mcontext\u001b[0m\u001b[0;34m)\u001b[0m\u001b[0;34m\u001b[0m\u001b[0;34m\u001b[0m\u001b[0m\n\u001b[1;32m    517\u001b[0m     \u001b[0;32melif\u001b[0m \u001b[0misinstance\u001b[0m\u001b[0;34m(\u001b[0m\u001b[0mobj\u001b[0m\u001b[0;34m,\u001b[0m \u001b[0;34m(\u001b[0m\u001b[0mlist\u001b[0m\u001b[0;34m,\u001b[0m \u001b[0mtuple\u001b[0m\u001b[0;34m)\u001b[0m\u001b[0;34m)\u001b[0m\u001b[0;34m:\u001b[0m\u001b[0;34m\u001b[0m\u001b[0;34m\u001b[0m\u001b[0m\n\u001b[1;32m    518\u001b[0m         \u001b[0;32mreturn\u001b[0m \u001b[0;34m[\u001b[0m\u001b[0m_todict\u001b[0m\u001b[0;34m(\u001b[0m\u001b[0mv\u001b[0m\u001b[0;34m,\u001b[0m \u001b[0mcontext\u001b[0m\u001b[0;34m,\u001b[0m \u001b[0mnp_opt\u001b[0m\u001b[0;34m,\u001b[0m \u001b[0mpd_opt\u001b[0m\u001b[0;34m)\u001b[0m \u001b[0;32mfor\u001b[0m \u001b[0mv\u001b[0m \u001b[0;32min\u001b[0m \u001b[0mobj\u001b[0m\u001b[0;34m]\u001b[0m\u001b[0;34m\u001b[0m\u001b[0;34m\u001b[0m\u001b[0m\n\u001b[1;32m    519\u001b[0m     \u001b[0;32melif\u001b[0m \u001b[0misinstance\u001b[0m\u001b[0;34m(\u001b[0m\u001b[0mobj\u001b[0m\u001b[0;34m,\u001b[0m \u001b[0mdict\u001b[0m\u001b[0;34m)\u001b[0m\u001b[0;34m:\u001b[0m\u001b[0;34m\u001b[0m\u001b[0;34m\u001b[0m\u001b[0m\n\u001b[0;32m--> 520\u001b[0;31m         return {\n\u001b[0m\u001b[1;32m    521\u001b[0m             \u001b[0mk\u001b[0m\u001b[0;34m:\u001b[0m \u001b[0m_todict\u001b[0m\u001b[0;34m(\u001b[0m\u001b[0mv\u001b[0m\u001b[0;34m,\u001b[0m \u001b[0mcontext\u001b[0m\u001b[0;34m,\u001b[0m \u001b[0mnp_opt\u001b[0m\u001b[0;34m,\u001b[0m \u001b[0mpd_opt\u001b[0m\u001b[0;34m)\u001b[0m\u001b[0;34m\u001b[0m\u001b[0;34m\u001b[0m\u001b[0m\n\u001b[1;32m    522\u001b[0m             \u001b[0;32mfor\u001b[0m \u001b[0mk\u001b[0m\u001b[0;34m,\u001b[0m \u001b[0mv\u001b[0m \u001b[0;32min\u001b[0m \u001b[0mobj\u001b[0m\u001b[0;34m.\u001b[0m\u001b[0mitems\u001b[0m\u001b[0;34m(\u001b[0m\u001b[0;34m)\u001b[0m\u001b[0;34m\u001b[0m\u001b[0;34m\u001b[0m\u001b[0m\n\u001b[1;32m    523\u001b[0m             \u001b[0;32mif\u001b[0m \u001b[0mv\u001b[0m \u001b[0;32mis\u001b[0m \u001b[0;32mnot\u001b[0m \u001b[0mUndefined\u001b[0m\u001b[0;34m\u001b[0m\u001b[0;34m\u001b[0m\u001b[0m\n",
      "\u001b[0;32m~/Desktop/BloomTech_labs/.venv/lib/python3.8/site-packages/altair/utils/schemapi.py\u001b[0m in \u001b[0;36m?\u001b[0;34m(.0)\u001b[0m\n\u001b[1;32m    520\u001b[0m \u001b[0;32mdef\u001b[0m \u001b[0m_todict\u001b[0m\u001b[0;34m(\u001b[0m\u001b[0mobj\u001b[0m\u001b[0;34m:\u001b[0m \u001b[0mAny\u001b[0m\u001b[0;34m,\u001b[0m \u001b[0mcontext\u001b[0m\u001b[0;34m:\u001b[0m \u001b[0mdict\u001b[0m\u001b[0;34m[\u001b[0m\u001b[0mstr\u001b[0m\u001b[0;34m,\u001b[0m \u001b[0mAny\u001b[0m\u001b[0;34m]\u001b[0m \u001b[0;34m|\u001b[0m \u001b[0;32mNone\u001b[0m\u001b[0;34m,\u001b[0m \u001b[0mnp_opt\u001b[0m\u001b[0;34m:\u001b[0m \u001b[0mAny\u001b[0m\u001b[0;34m,\u001b[0m \u001b[0mpd_opt\u001b[0m\u001b[0;34m:\u001b[0m \u001b[0mAny\u001b[0m\u001b[0;34m)\u001b[0m \u001b[0;34m->\u001b[0m \u001b[0mAny\u001b[0m\u001b[0;34m:\u001b[0m  \u001b[0;31m# noqa: C901\u001b[0m\u001b[0;34m\u001b[0m\u001b[0;34m\u001b[0m\u001b[0m\n\u001b[0;32m--> 521\u001b[0;31m     \u001b[0;34m\"\"\"Convert an object to a dict representation.\"\"\"\u001b[0m\u001b[0;34m\u001b[0m\u001b[0;34m\u001b[0m\u001b[0m\n\u001b[0m\u001b[1;32m    522\u001b[0m     \u001b[0;32mif\u001b[0m \u001b[0mnp_opt\u001b[0m \u001b[0;32mis\u001b[0m \u001b[0;32mnot\u001b[0m \u001b[0;32mNone\u001b[0m\u001b[0;34m:\u001b[0m\u001b[0;34m\u001b[0m\u001b[0;34m\u001b[0m\u001b[0m\n\u001b[1;32m    523\u001b[0m         \u001b[0mnp\u001b[0m \u001b[0;34m=\u001b[0m \u001b[0mnp_opt\u001b[0m\u001b[0;34m\u001b[0m\u001b[0;34m\u001b[0m\u001b[0m\n\u001b[1;32m    524\u001b[0m         \u001b[0;32mif\u001b[0m \u001b[0misinstance\u001b[0m\u001b[0;34m(\u001b[0m\u001b[0mobj\u001b[0m\u001b[0;34m,\u001b[0m \u001b[0mnp\u001b[0m\u001b[0;34m.\u001b[0m\u001b[0mndarray\u001b[0m\u001b[0;34m)\u001b[0m\u001b[0;34m:\u001b[0m\u001b[0;34m\u001b[0m\u001b[0;34m\u001b[0m\u001b[0m\n",
      "\u001b[0;32m~/Desktop/BloomTech_labs/.venv/lib/python3.8/site-packages/altair/utils/schemapi.py\u001b[0m in \u001b[0;36m?\u001b[0;34m(obj, context, np_opt, pd_opt)\u001b[0m\n\u001b[1;32m    512\u001b[0m                 \u001b[0;31m# See https://github.com/vega/altair/issues/1027 for why this is necessary.\u001b[0m\u001b[0;34m\u001b[0m\u001b[0;34m\u001b[0m\u001b[0;34m\u001b[0m\u001b[0m\n\u001b[1;32m    513\u001b[0m                 \u001b[0mresult\u001b[0m \u001b[0;34m+=\u001b[0m \u001b[0;34m\"T00:00:00\"\u001b[0m\u001b[0;34m\u001b[0m\u001b[0;34m\u001b[0m\u001b[0m\n\u001b[1;32m    514\u001b[0m             \u001b[0;32mreturn\u001b[0m \u001b[0mresult\u001b[0m\u001b[0;34m\u001b[0m\u001b[0;34m\u001b[0m\u001b[0m\n\u001b[1;32m    515\u001b[0m     \u001b[0;32mif\u001b[0m \u001b[0misinstance\u001b[0m\u001b[0;34m(\u001b[0m\u001b[0mobj\u001b[0m\u001b[0;34m,\u001b[0m \u001b[0mSchemaBase\u001b[0m\u001b[0;34m)\u001b[0m\u001b[0;34m:\u001b[0m\u001b[0;34m\u001b[0m\u001b[0;34m\u001b[0m\u001b[0m\n\u001b[0;32m--> 516\u001b[0;31m         \u001b[0;32mreturn\u001b[0m \u001b[0mobj\u001b[0m\u001b[0;34m.\u001b[0m\u001b[0mto_dict\u001b[0m\u001b[0;34m(\u001b[0m\u001b[0mvalidate\u001b[0m\u001b[0;34m=\u001b[0m\u001b[0;32mFalse\u001b[0m\u001b[0;34m,\u001b[0m \u001b[0mcontext\u001b[0m\u001b[0;34m=\u001b[0m\u001b[0mcontext\u001b[0m\u001b[0;34m)\u001b[0m\u001b[0;34m\u001b[0m\u001b[0;34m\u001b[0m\u001b[0m\n\u001b[0m\u001b[1;32m    517\u001b[0m     \u001b[0;32melif\u001b[0m \u001b[0misinstance\u001b[0m\u001b[0;34m(\u001b[0m\u001b[0mobj\u001b[0m\u001b[0;34m,\u001b[0m \u001b[0;34m(\u001b[0m\u001b[0mlist\u001b[0m\u001b[0;34m,\u001b[0m \u001b[0mtuple\u001b[0m\u001b[0;34m)\u001b[0m\u001b[0;34m)\u001b[0m\u001b[0;34m:\u001b[0m\u001b[0;34m\u001b[0m\u001b[0;34m\u001b[0m\u001b[0m\n\u001b[1;32m    518\u001b[0m         \u001b[0;32mreturn\u001b[0m \u001b[0;34m[\u001b[0m\u001b[0m_todict\u001b[0m\u001b[0;34m(\u001b[0m\u001b[0mv\u001b[0m\u001b[0;34m,\u001b[0m \u001b[0mcontext\u001b[0m\u001b[0;34m,\u001b[0m \u001b[0mnp_opt\u001b[0m\u001b[0;34m,\u001b[0m \u001b[0mpd_opt\u001b[0m\u001b[0;34m)\u001b[0m \u001b[0;32mfor\u001b[0m \u001b[0mv\u001b[0m \u001b[0;32min\u001b[0m \u001b[0mobj\u001b[0m\u001b[0;34m]\u001b[0m\u001b[0;34m\u001b[0m\u001b[0;34m\u001b[0m\u001b[0m\n\u001b[1;32m    519\u001b[0m     \u001b[0;32melif\u001b[0m \u001b[0misinstance\u001b[0m\u001b[0;34m(\u001b[0m\u001b[0mobj\u001b[0m\u001b[0;34m,\u001b[0m \u001b[0mdict\u001b[0m\u001b[0;34m)\u001b[0m\u001b[0;34m:\u001b[0m\u001b[0;34m\u001b[0m\u001b[0;34m\u001b[0m\u001b[0m\n",
      "\u001b[0;32m~/Desktop/BloomTech_labs/.venv/lib/python3.8/site-packages/altair/utils/schemapi.py\u001b[0m in \u001b[0;36m?\u001b[0;34m(self, validate, ignore, context)\u001b[0m\n\u001b[1;32m   1056\u001b[0m                 \u001b[0mk\u001b[0m\u001b[0;34m:\u001b[0m \u001b[0mv\u001b[0m \u001b[0;32mfor\u001b[0m \u001b[0mk\u001b[0m\u001b[0;34m,\u001b[0m \u001b[0mv\u001b[0m \u001b[0;32min\u001b[0m \u001b[0mkwds\u001b[0m\u001b[0;34m.\u001b[0m\u001b[0mitems\u001b[0m\u001b[0;34m(\u001b[0m\u001b[0;34m)\u001b[0m \u001b[0;32mif\u001b[0m \u001b[0mk\u001b[0m \u001b[0;32mnot\u001b[0m \u001b[0;32min\u001b[0m \u001b[0;34m{\u001b[0m\u001b[0;34m*\u001b[0m\u001b[0mlist\u001b[0m\u001b[0;34m(\u001b[0m\u001b[0mignore\u001b[0m\u001b[0;34m)\u001b[0m\u001b[0;34m,\u001b[0m \u001b[0;34m\"shorthand\"\u001b[0m\u001b[0;34m}\u001b[0m\u001b[0;34m\u001b[0m\u001b[0;34m\u001b[0m\u001b[0m\n\u001b[1;32m   1057\u001b[0m             }\n\u001b[1;32m   1058\u001b[0m             \u001b[0;32mif\u001b[0m \u001b[0;34m\"mark\"\u001b[0m \u001b[0;32min\u001b[0m \u001b[0mkwds\u001b[0m \u001b[0;32mand\u001b[0m \u001b[0misinstance\u001b[0m\u001b[0;34m(\u001b[0m\u001b[0mkwds\u001b[0m\u001b[0;34m[\u001b[0m\u001b[0;34m\"mark\"\u001b[0m\u001b[0;34m]\u001b[0m\u001b[0;34m,\u001b[0m \u001b[0mstr\u001b[0m\u001b[0;34m)\u001b[0m\u001b[0;34m:\u001b[0m\u001b[0;34m\u001b[0m\u001b[0;34m\u001b[0m\u001b[0m\n\u001b[1;32m   1059\u001b[0m                 \u001b[0mkwds\u001b[0m\u001b[0;34m[\u001b[0m\u001b[0;34m\"mark\"\u001b[0m\u001b[0;34m]\u001b[0m \u001b[0;34m=\u001b[0m \u001b[0;34m{\u001b[0m\u001b[0;34m\"type\"\u001b[0m\u001b[0;34m:\u001b[0m \u001b[0mkwds\u001b[0m\u001b[0;34m[\u001b[0m\u001b[0;34m\"mark\"\u001b[0m\u001b[0;34m]\u001b[0m\u001b[0;34m}\u001b[0m\u001b[0;34m\u001b[0m\u001b[0;34m\u001b[0m\u001b[0m\n\u001b[0;32m-> 1060\u001b[0;31m             \u001b[0mresult\u001b[0m \u001b[0;34m=\u001b[0m \u001b[0m_todict\u001b[0m\u001b[0;34m(\u001b[0m\u001b[0mkwds\u001b[0m\u001b[0;34m,\u001b[0m \u001b[0mcontext\u001b[0m\u001b[0;34m=\u001b[0m\u001b[0mcontext\u001b[0m\u001b[0;34m,\u001b[0m \u001b[0mnp_opt\u001b[0m\u001b[0;34m=\u001b[0m\u001b[0mnp_opt\u001b[0m\u001b[0;34m,\u001b[0m \u001b[0mpd_opt\u001b[0m\u001b[0;34m=\u001b[0m\u001b[0mpd_opt\u001b[0m\u001b[0;34m)\u001b[0m\u001b[0;34m\u001b[0m\u001b[0;34m\u001b[0m\u001b[0m\n\u001b[0m\u001b[1;32m   1061\u001b[0m         \u001b[0;32melse\u001b[0m\u001b[0;34m:\u001b[0m\u001b[0;34m\u001b[0m\u001b[0;34m\u001b[0m\u001b[0m\n\u001b[1;32m   1062\u001b[0m             msg = (\n\u001b[1;32m   1063\u001b[0m                 \u001b[0;34mf\"{self.__class__} instance has both a value and properties : \"\u001b[0m\u001b[0;34m\u001b[0m\u001b[0;34m\u001b[0m\u001b[0m\n",
      "\u001b[0;32m~/Desktop/BloomTech_labs/.venv/lib/python3.8/site-packages/altair/utils/schemapi.py\u001b[0m in \u001b[0;36m?\u001b[0;34m(obj, context, np_opt, pd_opt)\u001b[0m\n\u001b[1;32m    516\u001b[0m         \u001b[0;32mreturn\u001b[0m \u001b[0mobj\u001b[0m\u001b[0;34m.\u001b[0m\u001b[0mto_dict\u001b[0m\u001b[0;34m(\u001b[0m\u001b[0mvalidate\u001b[0m\u001b[0;34m=\u001b[0m\u001b[0;32mFalse\u001b[0m\u001b[0;34m,\u001b[0m \u001b[0mcontext\u001b[0m\u001b[0;34m=\u001b[0m\u001b[0mcontext\u001b[0m\u001b[0;34m)\u001b[0m\u001b[0;34m\u001b[0m\u001b[0;34m\u001b[0m\u001b[0m\n\u001b[1;32m    517\u001b[0m     \u001b[0;32melif\u001b[0m \u001b[0misinstance\u001b[0m\u001b[0;34m(\u001b[0m\u001b[0mobj\u001b[0m\u001b[0;34m,\u001b[0m \u001b[0;34m(\u001b[0m\u001b[0mlist\u001b[0m\u001b[0;34m,\u001b[0m \u001b[0mtuple\u001b[0m\u001b[0;34m)\u001b[0m\u001b[0;34m)\u001b[0m\u001b[0;34m:\u001b[0m\u001b[0;34m\u001b[0m\u001b[0;34m\u001b[0m\u001b[0m\n\u001b[1;32m    518\u001b[0m         \u001b[0;32mreturn\u001b[0m \u001b[0;34m[\u001b[0m\u001b[0m_todict\u001b[0m\u001b[0;34m(\u001b[0m\u001b[0mv\u001b[0m\u001b[0;34m,\u001b[0m \u001b[0mcontext\u001b[0m\u001b[0;34m,\u001b[0m \u001b[0mnp_opt\u001b[0m\u001b[0;34m,\u001b[0m \u001b[0mpd_opt\u001b[0m\u001b[0;34m)\u001b[0m \u001b[0;32mfor\u001b[0m \u001b[0mv\u001b[0m \u001b[0;32min\u001b[0m \u001b[0mobj\u001b[0m\u001b[0;34m]\u001b[0m\u001b[0;34m\u001b[0m\u001b[0;34m\u001b[0m\u001b[0m\n\u001b[1;32m    519\u001b[0m     \u001b[0;32melif\u001b[0m \u001b[0misinstance\u001b[0m\u001b[0;34m(\u001b[0m\u001b[0mobj\u001b[0m\u001b[0;34m,\u001b[0m \u001b[0mdict\u001b[0m\u001b[0;34m)\u001b[0m\u001b[0;34m:\u001b[0m\u001b[0;34m\u001b[0m\u001b[0;34m\u001b[0m\u001b[0m\n\u001b[0;32m--> 520\u001b[0;31m         return {\n\u001b[0m\u001b[1;32m    521\u001b[0m             \u001b[0mk\u001b[0m\u001b[0;34m:\u001b[0m \u001b[0m_todict\u001b[0m\u001b[0;34m(\u001b[0m\u001b[0mv\u001b[0m\u001b[0;34m,\u001b[0m \u001b[0mcontext\u001b[0m\u001b[0;34m,\u001b[0m \u001b[0mnp_opt\u001b[0m\u001b[0;34m,\u001b[0m \u001b[0mpd_opt\u001b[0m\u001b[0;34m)\u001b[0m\u001b[0;34m\u001b[0m\u001b[0;34m\u001b[0m\u001b[0m\n\u001b[1;32m    522\u001b[0m             \u001b[0;32mfor\u001b[0m \u001b[0mk\u001b[0m\u001b[0;34m,\u001b[0m \u001b[0mv\u001b[0m \u001b[0;32min\u001b[0m \u001b[0mobj\u001b[0m\u001b[0;34m.\u001b[0m\u001b[0mitems\u001b[0m\u001b[0;34m(\u001b[0m\u001b[0;34m)\u001b[0m\u001b[0;34m\u001b[0m\u001b[0;34m\u001b[0m\u001b[0m\n\u001b[1;32m    523\u001b[0m             \u001b[0;32mif\u001b[0m \u001b[0mv\u001b[0m \u001b[0;32mis\u001b[0m \u001b[0;32mnot\u001b[0m \u001b[0mUndefined\u001b[0m\u001b[0;34m\u001b[0m\u001b[0;34m\u001b[0m\u001b[0m\n",
      "\u001b[0;32m~/Desktop/BloomTech_labs/.venv/lib/python3.8/site-packages/altair/utils/schemapi.py\u001b[0m in \u001b[0;36m?\u001b[0;34m(.0)\u001b[0m\n\u001b[1;32m    520\u001b[0m \u001b[0;32mdef\u001b[0m \u001b[0m_todict\u001b[0m\u001b[0;34m(\u001b[0m\u001b[0mobj\u001b[0m\u001b[0;34m:\u001b[0m \u001b[0mAny\u001b[0m\u001b[0;34m,\u001b[0m \u001b[0mcontext\u001b[0m\u001b[0;34m:\u001b[0m \u001b[0mdict\u001b[0m\u001b[0;34m[\u001b[0m\u001b[0mstr\u001b[0m\u001b[0;34m,\u001b[0m \u001b[0mAny\u001b[0m\u001b[0;34m]\u001b[0m \u001b[0;34m|\u001b[0m \u001b[0;32mNone\u001b[0m\u001b[0;34m,\u001b[0m \u001b[0mnp_opt\u001b[0m\u001b[0;34m:\u001b[0m \u001b[0mAny\u001b[0m\u001b[0;34m,\u001b[0m \u001b[0mpd_opt\u001b[0m\u001b[0;34m:\u001b[0m \u001b[0mAny\u001b[0m\u001b[0;34m)\u001b[0m \u001b[0;34m->\u001b[0m \u001b[0mAny\u001b[0m\u001b[0;34m:\u001b[0m  \u001b[0;31m# noqa: C901\u001b[0m\u001b[0;34m\u001b[0m\u001b[0;34m\u001b[0m\u001b[0m\n\u001b[0;32m--> 521\u001b[0;31m     \u001b[0;34m\"\"\"Convert an object to a dict representation.\"\"\"\u001b[0m\u001b[0;34m\u001b[0m\u001b[0;34m\u001b[0m\u001b[0m\n\u001b[0m\u001b[1;32m    522\u001b[0m     \u001b[0;32mif\u001b[0m \u001b[0mnp_opt\u001b[0m \u001b[0;32mis\u001b[0m \u001b[0;32mnot\u001b[0m \u001b[0;32mNone\u001b[0m\u001b[0;34m:\u001b[0m\u001b[0;34m\u001b[0m\u001b[0;34m\u001b[0m\u001b[0m\n\u001b[1;32m    523\u001b[0m         \u001b[0mnp\u001b[0m \u001b[0;34m=\u001b[0m \u001b[0mnp_opt\u001b[0m\u001b[0;34m\u001b[0m\u001b[0;34m\u001b[0m\u001b[0m\n\u001b[1;32m    524\u001b[0m         \u001b[0;32mif\u001b[0m \u001b[0misinstance\u001b[0m\u001b[0;34m(\u001b[0m\u001b[0mobj\u001b[0m\u001b[0;34m,\u001b[0m \u001b[0mnp\u001b[0m\u001b[0;34m.\u001b[0m\u001b[0mndarray\u001b[0m\u001b[0;34m)\u001b[0m\u001b[0;34m:\u001b[0m\u001b[0;34m\u001b[0m\u001b[0;34m\u001b[0m\u001b[0m\n",
      "\u001b[0;32m~/Desktop/BloomTech_labs/.venv/lib/python3.8/site-packages/altair/utils/schemapi.py\u001b[0m in \u001b[0;36m?\u001b[0;34m(obj, context, np_opt, pd_opt)\u001b[0m\n\u001b[1;32m    512\u001b[0m                 \u001b[0;31m# See https://github.com/vega/altair/issues/1027 for why this is necessary.\u001b[0m\u001b[0;34m\u001b[0m\u001b[0;34m\u001b[0m\u001b[0;34m\u001b[0m\u001b[0m\n\u001b[1;32m    513\u001b[0m                 \u001b[0mresult\u001b[0m \u001b[0;34m+=\u001b[0m \u001b[0;34m\"T00:00:00\"\u001b[0m\u001b[0;34m\u001b[0m\u001b[0;34m\u001b[0m\u001b[0m\n\u001b[1;32m    514\u001b[0m             \u001b[0;32mreturn\u001b[0m \u001b[0mresult\u001b[0m\u001b[0;34m\u001b[0m\u001b[0;34m\u001b[0m\u001b[0m\n\u001b[1;32m    515\u001b[0m     \u001b[0;32mif\u001b[0m \u001b[0misinstance\u001b[0m\u001b[0;34m(\u001b[0m\u001b[0mobj\u001b[0m\u001b[0;34m,\u001b[0m \u001b[0mSchemaBase\u001b[0m\u001b[0;34m)\u001b[0m\u001b[0;34m:\u001b[0m\u001b[0;34m\u001b[0m\u001b[0;34m\u001b[0m\u001b[0m\n\u001b[0;32m--> 516\u001b[0;31m         \u001b[0;32mreturn\u001b[0m \u001b[0mobj\u001b[0m\u001b[0;34m.\u001b[0m\u001b[0mto_dict\u001b[0m\u001b[0;34m(\u001b[0m\u001b[0mvalidate\u001b[0m\u001b[0;34m=\u001b[0m\u001b[0;32mFalse\u001b[0m\u001b[0;34m,\u001b[0m \u001b[0mcontext\u001b[0m\u001b[0;34m=\u001b[0m\u001b[0mcontext\u001b[0m\u001b[0;34m)\u001b[0m\u001b[0;34m\u001b[0m\u001b[0;34m\u001b[0m\u001b[0m\n\u001b[0m\u001b[1;32m    517\u001b[0m     \u001b[0;32melif\u001b[0m \u001b[0misinstance\u001b[0m\u001b[0;34m(\u001b[0m\u001b[0mobj\u001b[0m\u001b[0;34m,\u001b[0m \u001b[0;34m(\u001b[0m\u001b[0mlist\u001b[0m\u001b[0;34m,\u001b[0m \u001b[0mtuple\u001b[0m\u001b[0;34m)\u001b[0m\u001b[0;34m)\u001b[0m\u001b[0;34m:\u001b[0m\u001b[0;34m\u001b[0m\u001b[0;34m\u001b[0m\u001b[0m\n\u001b[1;32m    518\u001b[0m         \u001b[0;32mreturn\u001b[0m \u001b[0;34m[\u001b[0m\u001b[0m_todict\u001b[0m\u001b[0;34m(\u001b[0m\u001b[0mv\u001b[0m\u001b[0;34m,\u001b[0m \u001b[0mcontext\u001b[0m\u001b[0;34m,\u001b[0m \u001b[0mnp_opt\u001b[0m\u001b[0;34m,\u001b[0m \u001b[0mpd_opt\u001b[0m\u001b[0;34m)\u001b[0m \u001b[0;32mfor\u001b[0m \u001b[0mv\u001b[0m \u001b[0;32min\u001b[0m \u001b[0mobj\u001b[0m\u001b[0;34m]\u001b[0m\u001b[0;34m\u001b[0m\u001b[0;34m\u001b[0m\u001b[0m\n\u001b[1;32m    519\u001b[0m     \u001b[0;32melif\u001b[0m \u001b[0misinstance\u001b[0m\u001b[0;34m(\u001b[0m\u001b[0mobj\u001b[0m\u001b[0;34m,\u001b[0m \u001b[0mdict\u001b[0m\u001b[0;34m)\u001b[0m\u001b[0;34m:\u001b[0m\u001b[0;34m\u001b[0m\u001b[0;34m\u001b[0m\u001b[0m\n",
      "\u001b[0;32m~/Desktop/BloomTech_labs/.venv/lib/python3.8/site-packages/altair/vegalite/v5/schema/channels.py\u001b[0m in \u001b[0;36m?\u001b[0;34m(self, validate, ignore, context)\u001b[0m\n\u001b[1;32m    186\u001b[0m                         \u001b[0;34m\" verify that the field name is not misspelled.\"\u001b[0m\u001b[0;34m\u001b[0m\u001b[0;34m\u001b[0m\u001b[0m\n\u001b[1;32m    187\u001b[0m                         \u001b[0;34m\" If you are referencing a field from a transform,\"\u001b[0m\u001b[0;34m\u001b[0m\u001b[0;34m\u001b[0m\u001b[0m\n\u001b[1;32m    188\u001b[0m                         \u001b[0;34m\" also confirm that the data type is specified correctly.\"\u001b[0m\u001b[0;34m\u001b[0m\u001b[0;34m\u001b[0m\u001b[0m\n\u001b[1;32m    189\u001b[0m                     )\n\u001b[0;32m--> 190\u001b[0;31m                     \u001b[0;32mraise\u001b[0m \u001b[0mValueError\u001b[0m\u001b[0;34m(\u001b[0m\u001b[0mmsg\u001b[0m\u001b[0;34m)\u001b[0m\u001b[0;34m\u001b[0m\u001b[0;34m\u001b[0m\u001b[0m\n\u001b[0m\u001b[1;32m    191\u001b[0m                 \u001b[0;32melse\u001b[0m\u001b[0;34m:\u001b[0m\u001b[0;34m\u001b[0m\u001b[0;34m\u001b[0m\u001b[0m\n\u001b[1;32m    192\u001b[0m                     msg = (\n\u001b[1;32m    193\u001b[0m                         \u001b[0;34mf\"{shorthand} encoding field is specified without a type; \"\u001b[0m\u001b[0;34m\u001b[0m\u001b[0;34m\u001b[0m\u001b[0m\n",
      "\u001b[0;31mValueError\u001b[0m: Unable to determine data type for the field \"Origin\"; verify that the field name is not misspelled. If you are referencing a field from a transform, also confirm that the data type is specified correctly."
     ]
    },
    {
     "data": {
      "text/plain": [
       "alt.Chart(...)"
      ]
     },
     "execution_count": 71,
     "metadata": {},
     "output_type": "execute_result"
    }
   ],
   "source": [
    "altair.Chart(df).mark_point().encode(\n",
    "    x='Miles_per_Gallon',\n",
    "    y='Horsepower',\n",
    "    color='Origin'\n",
    ")"
   ]
  },
  {
   "cell_type": "code",
   "execution_count": 7,
   "metadata": {},
   "outputs": [],
   "source": [
    "from MonsterLab import Monster"
   ]
  },
  {
   "cell_type": "code",
   "execution_count": 8,
   "metadata": {},
   "outputs": [],
   "source": [
    "def mons_df(num):\n",
    "    doc_list = []\n",
    "    for _ in range(num):\n",
    "        mon = Monster()\n",
    "        dict = {\"Name\": mon.name,\n",
    "                \"Type\": mon.type,\n",
    "                \"Level\": mon.level,\n",
    "                \"Rarity\": mon.rarity,\n",
    "                \"Damage\": mon.damage,\n",
    "                \"Health\": mon.health,\n",
    "                \"Energy\": mon.energy,\n",
    "                \"Sanity\": mon.sanity,\n",
    "                \"Timestamp\": mon.timestamp}\n",
    "        doc_list.append(dict)\n",
    "    return pd.DataFrame(doc_list)"
   ]
  },
  {
   "cell_type": "code",
   "execution_count": 6,
   "metadata": {},
   "outputs": [
    {
     "data": {
      "text/html": [
       "<div>\n",
       "<style scoped>\n",
       "    .dataframe tbody tr th:only-of-type {\n",
       "        vertical-align: middle;\n",
       "    }\n",
       "\n",
       "    .dataframe tbody tr th {\n",
       "        vertical-align: top;\n",
       "    }\n",
       "\n",
       "    .dataframe thead th {\n",
       "        text-align: right;\n",
       "    }\n",
       "</style>\n",
       "<table border=\"1\" class=\"dataframe\">\n",
       "  <thead>\n",
       "    <tr style=\"text-align: right;\">\n",
       "      <th></th>\n",
       "      <th>Name</th>\n",
       "      <th>Type</th>\n",
       "      <th>Level</th>\n",
       "      <th>Rarity</th>\n",
       "      <th>Damage</th>\n",
       "      <th>Health</th>\n",
       "      <th>Energy</th>\n",
       "      <th>Sanity</th>\n",
       "      <th>Timestamp</th>\n",
       "    </tr>\n",
       "  </thead>\n",
       "  <tbody>\n",
       "    <tr>\n",
       "      <th>0</th>\n",
       "      <td>Imp</td>\n",
       "      <td>Demonic</td>\n",
       "      <td>6</td>\n",
       "      <td>Rank 3</td>\n",
       "      <td>6d8</td>\n",
       "      <td>46.31</td>\n",
       "      <td>48.11</td>\n",
       "      <td>48.49</td>\n",
       "      <td>2024-10-03 19:46:52</td>\n",
       "    </tr>\n",
       "    <tr>\n",
       "      <th>1</th>\n",
       "      <td>Dust Mephit</td>\n",
       "      <td>Elemental</td>\n",
       "      <td>11</td>\n",
       "      <td>Rank 3</td>\n",
       "      <td>11d8+3</td>\n",
       "      <td>86.61</td>\n",
       "      <td>88.74</td>\n",
       "      <td>91.67</td>\n",
       "      <td>2024-10-03 19:46:52</td>\n",
       "    </tr>\n",
       "    <tr>\n",
       "      <th>2</th>\n",
       "      <td>Ghoul</td>\n",
       "      <td>Undead</td>\n",
       "      <td>9</td>\n",
       "      <td>Rank 0</td>\n",
       "      <td>9d2+1</td>\n",
       "      <td>17.44</td>\n",
       "      <td>17.69</td>\n",
       "      <td>18.94</td>\n",
       "      <td>2024-10-03 19:46:52</td>\n",
       "    </tr>\n",
       "    <tr>\n",
       "      <th>3</th>\n",
       "      <td>Lightning Spirit</td>\n",
       "      <td>Fey</td>\n",
       "      <td>9</td>\n",
       "      <td>Rank 2</td>\n",
       "      <td>9d6+3</td>\n",
       "      <td>54.74</td>\n",
       "      <td>55.65</td>\n",
       "      <td>54.52</td>\n",
       "      <td>2024-10-03 19:46:52</td>\n",
       "    </tr>\n",
       "    <tr>\n",
       "      <th>4</th>\n",
       "      <td>Ice Mephit</td>\n",
       "      <td>Elemental</td>\n",
       "      <td>3</td>\n",
       "      <td>Rank 1</td>\n",
       "      <td>3d4</td>\n",
       "      <td>11.73</td>\n",
       "      <td>12.57</td>\n",
       "      <td>11.01</td>\n",
       "      <td>2024-10-03 19:46:52</td>\n",
       "    </tr>\n",
       "  </tbody>\n",
       "</table>\n",
       "</div>"
      ],
      "text/plain": [
       "               Name       Type  Level  Rarity  Damage  Health  Energy  Sanity  \\\n",
       "0               Imp    Demonic      6  Rank 3     6d8   46.31   48.11   48.49   \n",
       "1       Dust Mephit  Elemental     11  Rank 3  11d8+3   86.61   88.74   91.67   \n",
       "2             Ghoul     Undead      9  Rank 0   9d2+1   17.44   17.69   18.94   \n",
       "3  Lightning Spirit        Fey      9  Rank 2   9d6+3   54.74   55.65   54.52   \n",
       "4        Ice Mephit  Elemental      3  Rank 1     3d4   11.73   12.57   11.01   \n",
       "\n",
       "             Timestamp  \n",
       "0  2024-10-03 19:46:52  \n",
       "1  2024-10-03 19:46:52  \n",
       "2  2024-10-03 19:46:52  \n",
       "3  2024-10-03 19:46:52  \n",
       "4  2024-10-03 19:46:52  "
      ]
     },
     "execution_count": 6,
     "metadata": {},
     "output_type": "execute_result"
    }
   ],
   "source": [
    "mf = mons_df()\n",
    "mf.head(5)"
   ]
  },
  {
   "cell_type": "code",
   "execution_count": 17,
   "metadata": {},
   "outputs": [
    {
     "data": {
      "text/html": [
       "\n",
       "<style>\n",
       "  #altair-viz-1ab1629c62474b3eb506d870995246ad.vega-embed {\n",
       "    width: 100%;\n",
       "    display: flex;\n",
       "  }\n",
       "\n",
       "  #altair-viz-1ab1629c62474b3eb506d870995246ad.vega-embed details,\n",
       "  #altair-viz-1ab1629c62474b3eb506d870995246ad.vega-embed details summary {\n",
       "    position: relative;\n",
       "  }\n",
       "</style>\n",
       "<div id=\"altair-viz-1ab1629c62474b3eb506d870995246ad\"></div>\n",
       "<script type=\"text/javascript\">\n",
       "  var VEGA_DEBUG = (typeof VEGA_DEBUG == \"undefined\") ? {} : VEGA_DEBUG;\n",
       "  (function(spec, embedOpt){\n",
       "    let outputDiv = document.currentScript.previousElementSibling;\n",
       "    if (outputDiv.id !== \"altair-viz-1ab1629c62474b3eb506d870995246ad\") {\n",
       "      outputDiv = document.getElementById(\"altair-viz-1ab1629c62474b3eb506d870995246ad\");\n",
       "    }\n",
       "    const paths = {\n",
       "      \"vega\": \"https://cdn.jsdelivr.net/npm/vega@5?noext\",\n",
       "      \"vega-lib\": \"https://cdn.jsdelivr.net/npm/vega-lib?noext\",\n",
       "      \"vega-lite\": \"https://cdn.jsdelivr.net/npm/vega-lite@5.20.1?noext\",\n",
       "      \"vega-embed\": \"https://cdn.jsdelivr.net/npm/vega-embed@6?noext\",\n",
       "    };\n",
       "\n",
       "    function maybeLoadScript(lib, version) {\n",
       "      var key = `${lib.replace(\"-\", \"\")}_version`;\n",
       "      return (VEGA_DEBUG[key] == version) ?\n",
       "        Promise.resolve(paths[lib]) :\n",
       "        new Promise(function(resolve, reject) {\n",
       "          var s = document.createElement('script');\n",
       "          document.getElementsByTagName(\"head\")[0].appendChild(s);\n",
       "          s.async = true;\n",
       "          s.onload = () => {\n",
       "            VEGA_DEBUG[key] = version;\n",
       "            return resolve(paths[lib]);\n",
       "          };\n",
       "          s.onerror = () => reject(`Error loading script: ${paths[lib]}`);\n",
       "          s.src = paths[lib];\n",
       "        });\n",
       "    }\n",
       "\n",
       "    function showError(err) {\n",
       "      outputDiv.innerHTML = `<div class=\"error\" style=\"color:red;\">${err}</div>`;\n",
       "      throw err;\n",
       "    }\n",
       "\n",
       "    function displayChart(vegaEmbed) {\n",
       "      vegaEmbed(outputDiv, spec, embedOpt)\n",
       "        .catch(err => showError(`Javascript Error: ${err.message}<br>This usually means there's a typo in your chart specification. See the javascript console for the full traceback.`));\n",
       "    }\n",
       "\n",
       "    if(typeof define === \"function\" && define.amd) {\n",
       "      requirejs.config({paths});\n",
       "      require([\"vega-embed\"], displayChart, err => showError(`Error loading script: ${err.message}`));\n",
       "    } else {\n",
       "      maybeLoadScript(\"vega\", \"5\")\n",
       "        .then(() => maybeLoadScript(\"vega-lite\", \"5.20.1\"))\n",
       "        .then(() => maybeLoadScript(\"vega-embed\", \"6\"))\n",
       "        .catch(showError)\n",
       "        .then(() => displayChart(vegaEmbed));\n",
       "    }\n",
       "  })({\"config\": {\"view\": {\"continuousWidth\": 300, \"continuousHeight\": 300}}, \"data\": {\"name\": \"data-38aac09fbca52e82a559913d8f8374d1\"}, \"mark\": {\"type\": \"point\"}, \"encoding\": {\"color\": {\"field\": \"Rarity\", \"type\": \"nominal\"}, \"tooltip\": [{\"field\": \"Name\", \"type\": \"nominal\"}, {\"field\": \"Type\", \"type\": \"nominal\"}, {\"field\": \"Level\", \"type\": \"quantitative\"}, {\"field\": \"Rarity\", \"type\": \"nominal\"}, {\"field\": \"Damage\", \"type\": \"nominal\"}, {\"field\": \"Health\", \"type\": \"quantitative\"}, {\"field\": \"Energy\", \"type\": \"quantitative\"}, {\"field\": \"Sanity\", \"type\": \"quantitative\"}, {\"field\": \"Timestamp\", \"type\": \"nominal\"}], \"x\": {\"field\": \"Health\", \"type\": \"quantitative\"}, \"y\": {\"field\": \"Energy\", \"type\": \"quantitative\"}}, \"title\": \"title\", \"$schema\": \"https://vega.github.io/schema/vega-lite/v5.20.1.json\", \"datasets\": {\"data-38aac09fbca52e82a559913d8f8374d1\": [{\"Name\": \"Imp\", \"Type\": \"Demonic\", \"Level\": 6, \"Rarity\": \"Rank 3\", \"Damage\": \"6d8\", \"Health\": 46.31, \"Energy\": 48.11, \"Sanity\": 48.49, \"Timestamp\": \"2024-10-03 19:46:52\"}, {\"Name\": \"Dust Mephit\", \"Type\": \"Elemental\", \"Level\": 11, \"Rarity\": \"Rank 3\", \"Damage\": \"11d8+3\", \"Health\": 86.61, \"Energy\": 88.74, \"Sanity\": 91.67, \"Timestamp\": \"2024-10-03 19:46:52\"}, {\"Name\": \"Ghoul\", \"Type\": \"Undead\", \"Level\": 9, \"Rarity\": \"Rank 0\", \"Damage\": \"9d2+1\", \"Health\": 17.44, \"Energy\": 17.69, \"Sanity\": 18.94, \"Timestamp\": \"2024-10-03 19:46:52\"}, {\"Name\": \"Lightning Spirit\", \"Type\": \"Fey\", \"Level\": 9, \"Rarity\": \"Rank 2\", \"Damage\": \"9d6+3\", \"Health\": 54.74, \"Energy\": 55.65, \"Sanity\": 54.52, \"Timestamp\": \"2024-10-03 19:46:52\"}, {\"Name\": \"Ice Mephit\", \"Type\": \"Elemental\", \"Level\": 3, \"Rarity\": \"Rank 1\", \"Damage\": \"3d4\", \"Health\": 11.73, \"Energy\": 12.57, \"Sanity\": 11.01, \"Timestamp\": \"2024-10-03 19:46:52\"}, {\"Name\": \"Hell Hound\", \"Type\": \"Demonic\", \"Level\": 7, \"Rarity\": \"Rank 3\", \"Damage\": \"7d8+3\", \"Health\": 52.22, \"Energy\": 58.21, \"Sanity\": 53.47, \"Timestamp\": \"2024-10-03 19:46:52\"}, {\"Name\": \"Magma Mephit\", \"Type\": \"Elemental\", \"Level\": 3, \"Rarity\": \"Rank 0\", \"Damage\": \"3d2+1\", \"Health\": 5.6, \"Energy\": 5.31, \"Sanity\": 6.69, \"Timestamp\": \"2024-10-03 19:46:52\"}, {\"Name\": \"Pit Fiend\", \"Type\": \"Demonic\", \"Level\": 4, \"Rarity\": \"Rank 2\", \"Damage\": \"4d6\", \"Health\": 21.96, \"Energy\": 24.46, \"Sanity\": 25.53, \"Timestamp\": \"2024-10-03 19:46:52\"}, {\"Name\": \"Djinni\", \"Type\": \"Elemental\", \"Level\": 12, \"Rarity\": \"Rank 0\", \"Damage\": \"12d2+1\", \"Health\": 23.91, \"Energy\": 23.59, \"Sanity\": 24.43, \"Timestamp\": \"2024-10-03 19:46:52\"}, {\"Name\": \"Demilich\", \"Type\": \"Undead\", \"Level\": 4, \"Rarity\": \"Rank 1\", \"Damage\": \"4d4+3\", \"Health\": 17.78, \"Energy\": 16.93, \"Sanity\": 15.4, \"Timestamp\": \"2024-10-03 19:46:52\"}, {\"Name\": \"Incubus\", \"Type\": \"Devilkin\", \"Level\": 10, \"Rarity\": \"Rank 1\", \"Damage\": \"10d4+2\", \"Health\": 40.39, \"Energy\": 41.82, \"Sanity\": 39.68, \"Timestamp\": \"2024-10-03 19:46:52\"}, {\"Name\": \"Black Drake\", \"Type\": \"Dragon\", \"Level\": 15, \"Rarity\": \"Rank 2\", \"Damage\": \"15d6+3\", \"Health\": 92.09, \"Energy\": 89.09, \"Sanity\": 89.7, \"Timestamp\": \"2024-10-03 19:46:52\"}, {\"Name\": \"Hell Hound\", \"Type\": \"Demonic\", \"Level\": 4, \"Rarity\": \"Rank 3\", \"Damage\": \"4d8+3\", \"Health\": 31.02, \"Energy\": 32.2, \"Sanity\": 34.77, \"Timestamp\": \"2024-10-03 19:46:52\"}, {\"Name\": \"Pit Lord\", \"Type\": \"Devilkin\", \"Level\": 6, \"Rarity\": \"Rank 3\", \"Damage\": \"6d8+2\", \"Health\": 51.36, \"Energy\": 46.13, \"Sanity\": 49.56, \"Timestamp\": \"2024-10-03 19:46:52\"}, {\"Name\": \"Ruby Drake\", \"Type\": \"Dragon\", \"Level\": 9, \"Rarity\": \"Rank 1\", \"Damage\": \"9d4\", \"Health\": 35.67, \"Energy\": 35.78, \"Sanity\": 36.06, \"Timestamp\": \"2024-10-03 19:46:52\"}, {\"Name\": \"Diamond Demon\", \"Type\": \"Demonic\", \"Level\": 2, \"Rarity\": \"Rank 3\", \"Damage\": \"2d8\", \"Health\": 13.43, \"Energy\": 16.57, \"Sanity\": 15.01, \"Timestamp\": \"2024-10-03 19:46:52\"}, {\"Name\": \"Prince of Fear\", \"Type\": \"Devilkin\", \"Level\": 6, \"Rarity\": \"Rank 3\", \"Damage\": \"6d8+2\", \"Health\": 50.34, \"Energy\": 48.09, \"Sanity\": 47.49, \"Timestamp\": \"2024-10-03 19:46:52\"}, {\"Name\": \"Wyvern\", \"Type\": \"Dragon\", \"Level\": 13, \"Rarity\": \"Rank 2\", \"Damage\": \"13d6+3\", \"Health\": 78.29, \"Energy\": 75.12, \"Sanity\": 78.65, \"Timestamp\": \"2024-10-03 19:46:52\"}, {\"Name\": \"Hook Horror\", \"Type\": \"Demonic\", \"Level\": 6, \"Rarity\": \"Rank 2\", \"Damage\": \"6d6+2\", \"Health\": 33.73, \"Energy\": 38.0, \"Sanity\": 34.7, \"Timestamp\": \"2024-10-03 19:46:52\"}, {\"Name\": \"Pit Lord\", \"Type\": \"Devilkin\", \"Level\": 14, \"Rarity\": \"Rank 3\", \"Damage\": \"14d8+4\", \"Health\": 114.26, \"Energy\": 109.54, \"Sanity\": 110.94, \"Timestamp\": \"2024-10-03 19:46:52\"}, {\"Name\": \"Death Knight\", \"Type\": \"Undead\", \"Level\": 11, \"Rarity\": \"Rank 0\", \"Damage\": \"11d2\", \"Health\": 21.74, \"Energy\": 22.71, \"Sanity\": 22.09, \"Timestamp\": \"2024-10-03 19:46:52\"}, {\"Name\": \"Blue Archfey\", \"Type\": \"Fey\", \"Level\": 2, \"Rarity\": \"Rank 4\", \"Damage\": \"2d10+3\", \"Health\": 18.17, \"Energy\": 16.46, \"Sanity\": 15.9, \"Timestamp\": \"2024-10-03 19:46:52\"}, {\"Name\": \"Dust Elemental\", \"Type\": \"Elemental\", \"Level\": 6, \"Rarity\": \"Rank 2\", \"Damage\": \"6d6+1\", \"Health\": 36.6, \"Energy\": 37.23, \"Sanity\": 35.51, \"Timestamp\": \"2024-10-03 19:46:52\"}, {\"Name\": \"Lich\", \"Type\": \"Undead\", \"Level\": 4, \"Rarity\": \"Rank 1\", \"Damage\": \"4d4\", \"Health\": 16.59, \"Energy\": 17.87, \"Sanity\": 16.35, \"Timestamp\": \"2024-10-03 19:46:52\"}, {\"Name\": \"Goblin Guard\", \"Type\": \"Devilkin\", \"Level\": 15, \"Rarity\": \"Rank 1\", \"Damage\": \"15d4+3\", \"Health\": 60.2, \"Energy\": 60.85, \"Sanity\": 58.81, \"Timestamp\": \"2024-10-03 19:46:52\"}, {\"Name\": \"Djinni\", \"Type\": \"Elemental\", \"Level\": 1, \"Rarity\": \"Rank 0\", \"Damage\": \"1d2+3\", \"Health\": 2.14, \"Energy\": 1.12, \"Sanity\": 2.89, \"Timestamp\": \"2024-10-03 19:46:52\"}, {\"Name\": \"Red Dragon\", \"Type\": \"Dragon\", \"Level\": 10, \"Rarity\": \"Rank 2\", \"Damage\": \"10d6\", \"Health\": 61.21, \"Energy\": 58.14, \"Sanity\": 58.8, \"Timestamp\": \"2024-10-03 19:46:52\"}, {\"Name\": \"Steam Archfey\", \"Type\": \"Fey\", \"Level\": 4, \"Rarity\": \"Rank 4\", \"Damage\": \"4d10+3\", \"Health\": 41.58, \"Energy\": 39.46, \"Sanity\": 38.48, \"Timestamp\": \"2024-10-03 19:46:52\"}, {\"Name\": \"Prince of Fear\", \"Type\": \"Devilkin\", \"Level\": 10, \"Rarity\": \"Rank 2\", \"Damage\": \"10d6+4\", \"Health\": 61.21, \"Energy\": 61.12, \"Sanity\": 57.4, \"Timestamp\": \"2024-10-03 19:46:52\"}, {\"Name\": \"Pseudodragon\", \"Type\": \"Dragon\", \"Level\": 7, \"Rarity\": \"Rank 2\", \"Damage\": \"7d6\", \"Health\": 44.36, \"Energy\": 42.94, \"Sanity\": 41.89, \"Timestamp\": \"2024-10-03 19:46:52\"}, {\"Name\": \"Sapphire Demon\", \"Type\": \"Demonic\", \"Level\": 12, \"Rarity\": \"Rank 1\", \"Damage\": \"12d4\", \"Health\": 48.97, \"Energy\": 47.98, \"Sanity\": 47.69, \"Timestamp\": \"2024-10-03 19:46:52\"}, {\"Name\": \"Spore Elemental\", \"Type\": \"Elemental\", \"Level\": 14, \"Rarity\": \"Rank 1\", \"Damage\": \"14d4+3\", \"Health\": 57.86, \"Energy\": 55.1, \"Sanity\": 54.7, \"Timestamp\": \"2024-10-03 19:46:52\"}, {\"Name\": \"Demilich\", \"Type\": \"Undead\", \"Level\": 15, \"Rarity\": \"Rank 0\", \"Damage\": \"15d2+1\", \"Health\": 30.67, \"Energy\": 30.98, \"Sanity\": 30.1, \"Timestamp\": \"2024-10-03 19:46:52\"}, {\"Name\": \"Balor\", \"Type\": \"Demonic\", \"Level\": 11, \"Rarity\": \"Rank 0\", \"Damage\": \"11d2+1\", \"Health\": 21.54, \"Energy\": 21.02, \"Sanity\": 22.71, \"Timestamp\": \"2024-10-03 19:46:52\"}, {\"Name\": \"Pit Lord\", \"Type\": \"Devilkin\", \"Level\": 3, \"Rarity\": \"Rank 0\", \"Damage\": \"3d2+1\", \"Health\": 6.4, \"Energy\": 6.33, \"Sanity\": 5.54, \"Timestamp\": \"2024-10-03 19:46:52\"}, {\"Name\": \"Djinni\", \"Type\": \"Elemental\", \"Level\": 10, \"Rarity\": \"Rank 1\", \"Damage\": \"10d4\", \"Health\": 39.12, \"Energy\": 40.04, \"Sanity\": 41.52, \"Timestamp\": \"2024-10-03 19:46:52\"}, {\"Name\": \"Lich King\", \"Type\": \"Undead\", \"Level\": 5, \"Rarity\": \"Rank 0\", \"Damage\": \"5d2+2\", \"Health\": 9.72, \"Energy\": 10.66, \"Sanity\": 9.45, \"Timestamp\": \"2024-10-03 19:46:52\"}, {\"Name\": \"Silver Faerie\", \"Type\": \"Fey\", \"Level\": 6, \"Rarity\": \"Rank 0\", \"Damage\": \"6d2+3\", \"Health\": 12.68, \"Energy\": 11.4, \"Sanity\": 11.84, \"Timestamp\": \"2024-10-03 19:46:52\"}, {\"Name\": \"Faerie Dragon\", \"Type\": \"Dragon\", \"Level\": 4, \"Rarity\": \"Rank 1\", \"Damage\": \"4d4+2\", \"Health\": 14.83, \"Energy\": 16.45, \"Sanity\": 17.87, \"Timestamp\": \"2024-10-03 19:46:52\"}, {\"Name\": \"Ghoul\", \"Type\": \"Undead\", \"Level\": 8, \"Rarity\": \"Rank 1\", \"Damage\": \"8d4+4\", \"Health\": 32.43, \"Energy\": 31.27, \"Sanity\": 32.18, \"Timestamp\": \"2024-10-03 19:46:52\"}, {\"Name\": \"Hook Horror\", \"Type\": \"Demonic\", \"Level\": 2, \"Rarity\": \"Rank 0\", \"Damage\": \"2d2+5\", \"Health\": 3.27, \"Energy\": 3.12, \"Sanity\": 3.86, \"Timestamp\": \"2024-10-03 19:46:52\"}, {\"Name\": \"Kobold Archer\", \"Type\": \"Devilkin\", \"Level\": 10, \"Rarity\": \"Rank 3\", \"Damage\": \"10d8\", \"Health\": 83.59, \"Energy\": 81.91, \"Sanity\": 81.07, \"Timestamp\": \"2024-10-03 19:46:52\"}, {\"Name\": \"Faerie Dragon\", \"Type\": \"Dragon\", \"Level\": 7, \"Rarity\": \"Rank 1\", \"Damage\": \"7d4+1\", \"Health\": 28.6, \"Energy\": 29.84, \"Sanity\": 28.79, \"Timestamp\": \"2024-10-03 19:46:52\"}, {\"Name\": \"Black Faerie\", \"Type\": \"Fey\", \"Level\": 4, \"Rarity\": \"Rank 0\", \"Damage\": \"4d2\", \"Health\": 7.73, \"Energy\": 8.91, \"Sanity\": 7.32, \"Timestamp\": \"2024-10-03 19:46:52\"}, {\"Name\": \"Pseudodragon\", \"Type\": \"Dragon\", \"Level\": 4, \"Rarity\": \"Rank 4\", \"Damage\": \"4d10\", \"Health\": 44.39, \"Energy\": 42.2, \"Sanity\": 42.41, \"Timestamp\": \"2024-10-03 19:46:52\"}, {\"Name\": \"Revenant\", \"Type\": \"Undead\", \"Level\": 18, \"Rarity\": \"Rank 4\", \"Damage\": \"18d10\", \"Health\": 182.36, \"Energy\": 178.25, \"Sanity\": 179.53, \"Timestamp\": \"2024-10-03 19:46:52\"}, {\"Name\": \"Balor\", \"Type\": \"Demonic\", \"Level\": 4, \"Rarity\": \"Rank 1\", \"Damage\": \"4d4\", \"Health\": 14.86, \"Energy\": 17.62, \"Sanity\": 15.11, \"Timestamp\": \"2024-10-03 19:46:52\"}, {\"Name\": \"Incubus\", \"Type\": \"Devilkin\", \"Level\": 15, \"Rarity\": \"Rank 3\", \"Damage\": \"15d8+1\", \"Health\": 118.21, \"Energy\": 122.9, \"Sanity\": 120.83, \"Timestamp\": \"2024-10-03 19:46:52\"}, {\"Name\": \"Ruby Dragon\", \"Type\": \"Dragon\", \"Level\": 17, \"Rarity\": \"Rank 1\", \"Damage\": \"17d4+3\", \"Health\": 67.79, \"Energy\": 68.15, \"Sanity\": 67.1, \"Timestamp\": \"2024-10-03 19:46:52\"}, {\"Name\": \"Imp\", \"Type\": \"Demonic\", \"Level\": 3, \"Rarity\": \"Rank 0\", \"Damage\": \"3d2\", \"Health\": 6.12, \"Energy\": 5.0, \"Sanity\": 6.25, \"Timestamp\": \"2024-10-03 19:46:52\"}, {\"Name\": \"Pit Lord\", \"Type\": \"Devilkin\", \"Level\": 4, \"Rarity\": \"Rank 0\", \"Damage\": \"4d2+3\", \"Health\": 8.39, \"Energy\": 7.15, \"Sanity\": 7.3, \"Timestamp\": \"2024-10-03 19:46:52\"}, {\"Name\": \"Green Wyrmling\", \"Type\": \"Dragon\", \"Level\": 14, \"Rarity\": \"Rank 0\", \"Damage\": \"14d2+3\", \"Health\": 27.12, \"Energy\": 27.37, \"Sanity\": 28.25, \"Timestamp\": \"2024-10-03 19:46:52\"}, {\"Name\": \"Imp\", \"Type\": \"Demonic\", \"Level\": 4, \"Rarity\": \"Rank 5\", \"Damage\": \"4d12+1\", \"Health\": 44.38, \"Energy\": 49.65, \"Sanity\": 47.39, \"Timestamp\": \"2024-10-03 19:46:52\"}, {\"Name\": \"Platinum Faerie\", \"Type\": \"Fey\", \"Level\": 4, \"Rarity\": \"Rank 3\", \"Damage\": \"4d8+4\", \"Health\": 33.32, \"Energy\": 30.23, \"Sanity\": 34.04, \"Timestamp\": \"2024-10-03 19:46:52\"}, {\"Name\": \"Mud Mephit\", \"Type\": \"Elemental\", \"Level\": 2, \"Rarity\": \"Rank 0\", \"Damage\": \"2d2+3\", \"Health\": 3.2, \"Energy\": 4.29, \"Sanity\": 4.34, \"Timestamp\": \"2024-10-03 19:46:52\"}, {\"Name\": \"Night Hag\", \"Type\": \"Demonic\", \"Level\": 5, \"Rarity\": \"Rank 1\", \"Damage\": \"5d4+3\", \"Health\": 20.19, \"Energy\": 21.63, \"Sanity\": 20.51, \"Timestamp\": \"2024-10-03 19:46:52\"}, {\"Name\": \"Steam Devil\", \"Type\": \"Devilkin\", \"Level\": 3, \"Rarity\": \"Rank 0\", \"Damage\": \"3d2+3\", \"Health\": 5.42, \"Energy\": 6.66, \"Sanity\": 5.19, \"Timestamp\": \"2024-10-03 19:46:52\"}, {\"Name\": \"Bronze Drake\", \"Type\": \"Dragon\", \"Level\": 10, \"Rarity\": \"Rank 3\", \"Damage\": \"10d8+2\", \"Health\": 79.16, \"Energy\": 78.5, \"Sanity\": 78.08, \"Timestamp\": \"2024-10-03 19:46:52\"}, {\"Name\": \"Poltergeist\", \"Type\": \"Undead\", \"Level\": 4, \"Rarity\": \"Rank 0\", \"Damage\": \"4d2+3\", \"Health\": 8.95, \"Energy\": 8.58, \"Sanity\": 7.34, \"Timestamp\": \"2024-10-03 19:46:52\"}, {\"Name\": \"Ice Spirit\", \"Type\": \"Fey\", \"Level\": 12, \"Rarity\": \"Rank 2\", \"Damage\": \"12d6+3\", \"Health\": 73.8, \"Energy\": 73.21, \"Sanity\": 70.14, \"Timestamp\": \"2024-10-03 19:46:52\"}, {\"Name\": \"Faerie Dragon\", \"Type\": \"Dragon\", \"Level\": 3, \"Rarity\": \"Rank 0\", \"Damage\": \"3d2+4\", \"Health\": 5.76, \"Energy\": 6.6, \"Sanity\": 6.76, \"Timestamp\": \"2024-10-03 19:46:52\"}, {\"Name\": \"Hook Horror\", \"Type\": \"Demonic\", \"Level\": 5, \"Rarity\": \"Rank 0\", \"Damage\": \"5d2+3\", \"Health\": 10.44, \"Energy\": 9.58, \"Sanity\": 9.48, \"Timestamp\": \"2024-10-03 19:46:52\"}, {\"Name\": \"Spore Spirit\", \"Type\": \"Fey\", \"Level\": 9, \"Rarity\": \"Rank 2\", \"Damage\": \"9d6\", \"Health\": 55.71, \"Energy\": 52.26, \"Sanity\": 53.63, \"Timestamp\": \"2024-10-03 19:46:52\"}, {\"Name\": \"Mud Elemental\", \"Type\": \"Elemental\", \"Level\": 17, \"Rarity\": \"Rank 1\", \"Damage\": \"17d4\", \"Health\": 68.31, \"Energy\": 68.03, \"Sanity\": 67.35, \"Timestamp\": \"2024-10-03 19:46:52\"}, {\"Name\": \"Wight\", \"Type\": \"Undead\", \"Level\": 2, \"Rarity\": \"Rank 2\", \"Damage\": \"2d6+2\", \"Health\": 10.29, \"Energy\": 13.38, \"Sanity\": 12.48, \"Timestamp\": \"2024-10-03 19:46:52\"}, {\"Name\": \"Flame Spirit\", \"Type\": \"Fey\", \"Level\": 6, \"Rarity\": \"Rank 0\", \"Damage\": \"6d2+4\", \"Health\": 12.35, \"Energy\": 12.44, \"Sanity\": 11.34, \"Timestamp\": \"2024-10-03 19:46:52\"}, {\"Name\": \"Wyvern\", \"Type\": \"Dragon\", \"Level\": 5, \"Rarity\": \"Rank 0\", \"Damage\": \"5d2+2\", \"Health\": 10.56, \"Energy\": 9.65, \"Sanity\": 9.11, \"Timestamp\": \"2024-10-03 19:46:52\"}, {\"Name\": \"Night Hag\", \"Type\": \"Demonic\", \"Level\": 11, \"Rarity\": \"Rank 1\", \"Damage\": \"11d4\", \"Health\": 44.53, \"Energy\": 45.02, \"Sanity\": 44.69, \"Timestamp\": \"2024-10-03 19:46:52\"}, {\"Name\": \"Spore Mephit\", \"Type\": \"Elemental\", \"Level\": 8, \"Rarity\": \"Rank 0\", \"Damage\": \"8d2\", \"Health\": 15.97, \"Energy\": 16.35, \"Sanity\": 16.48, \"Timestamp\": \"2024-10-03 19:46:52\"}, {\"Name\": \"Demilich\", \"Type\": \"Undead\", \"Level\": 2, \"Rarity\": \"Rank 4\", \"Damage\": \"2d10+2\", \"Health\": 17.44, \"Energy\": 20.74, \"Sanity\": 16.8, \"Timestamp\": \"2024-10-03 19:46:52\"}, {\"Name\": \"Imp\", \"Type\": \"Demonic\", \"Level\": 16, \"Rarity\": \"Rank 5\", \"Damage\": \"16d12+2\", \"Health\": 195.06, \"Energy\": 189.48, \"Sanity\": 193.94, \"Timestamp\": \"2024-10-03 19:46:52\"}, {\"Name\": \"Blue Archfey\", \"Type\": \"Fey\", \"Level\": 13, \"Rarity\": \"Rank 1\", \"Damage\": \"13d4+2\", \"Health\": 52.89, \"Energy\": 51.87, \"Sanity\": 50.51, \"Timestamp\": \"2024-10-03 19:46:52\"}, {\"Name\": \"Mud Mephit\", \"Type\": \"Elemental\", \"Level\": 2, \"Rarity\": \"Rank 0\", \"Damage\": \"2d2+2\", \"Health\": 4.68, \"Energy\": 4.04, \"Sanity\": 3.49, \"Timestamp\": \"2024-10-03 19:46:52\"}, {\"Name\": \"Black Drake\", \"Type\": \"Dragon\", \"Level\": 12, \"Rarity\": \"Rank 1\", \"Damage\": \"12d4+1\", \"Health\": 47.39, \"Energy\": 47.47, \"Sanity\": 47.71, \"Timestamp\": \"2024-10-03 19:46:52\"}, {\"Name\": \"Mummy\", \"Type\": \"Undead\", \"Level\": 3, \"Rarity\": \"Rank 1\", \"Damage\": \"3d4\", \"Health\": 12.87, \"Energy\": 11.95, \"Sanity\": 11.92, \"Timestamp\": \"2024-10-03 19:46:52\"}, {\"Name\": \"Hook Horror\", \"Type\": \"Demonic\", \"Level\": 10, \"Rarity\": \"Rank 2\", \"Damage\": \"10d6\", \"Health\": 58.4, \"Energy\": 59.57, \"Sanity\": 60.42, \"Timestamp\": \"2024-10-03 19:46:52\"}, {\"Name\": \"Goblin Knight\", \"Type\": \"Devilkin\", \"Level\": 3, \"Rarity\": \"Rank 2\", \"Damage\": \"3d6+2\", \"Health\": 16.27, \"Energy\": 15.46, \"Sanity\": 15.84, \"Timestamp\": \"2024-10-03 19:46:52\"}, {\"Name\": \"Faerie Dragon\", \"Type\": \"Dragon\", \"Level\": 2, \"Rarity\": \"Rank 1\", \"Damage\": \"2d4+3\", \"Health\": 8.92, \"Energy\": 8.93, \"Sanity\": 7.17, \"Timestamp\": \"2024-10-03 19:46:52\"}, {\"Name\": \"Imp\", \"Type\": \"Demonic\", \"Level\": 9, \"Rarity\": \"Rank 0\", \"Damage\": \"9d2\", \"Health\": 17.18, \"Energy\": 17.55, \"Sanity\": 17.23, \"Timestamp\": \"2024-10-03 19:46:52\"}, {\"Name\": \"Pit Lord\", \"Type\": \"Devilkin\", \"Level\": 8, \"Rarity\": \"Rank 1\", \"Damage\": \"8d4+4\", \"Health\": 30.97, \"Energy\": 31.01, \"Sanity\": 31.04, \"Timestamp\": \"2024-10-03 19:46:52\"}, {\"Name\": \"Ghast\", \"Type\": \"Undead\", \"Level\": 5, \"Rarity\": \"Rank 1\", \"Damage\": \"5d4+4\", \"Health\": 20.01, \"Energy\": 21.91, \"Sanity\": 19.61, \"Timestamp\": \"2024-10-03 19:46:52\"}, {\"Name\": \"Hell Hound\", \"Type\": \"Demonic\", \"Level\": 2, \"Rarity\": \"Rank 5\", \"Damage\": \"2d12+1\", \"Health\": 26.41, \"Energy\": 21.2, \"Sanity\": 22.05, \"Timestamp\": \"2024-10-03 19:46:52\"}, {\"Name\": \"Goblin Villager\", \"Type\": \"Devilkin\", \"Level\": 3, \"Rarity\": \"Rank 2\", \"Damage\": \"3d6+4\", \"Health\": 17.33, \"Energy\": 18.46, \"Sanity\": 19.0, \"Timestamp\": \"2024-10-03 19:46:52\"}, {\"Name\": \"Lich King\", \"Type\": \"Undead\", \"Level\": 3, \"Rarity\": \"Rank 0\", \"Damage\": \"3d2+2\", \"Health\": 5.26, \"Energy\": 5.69, \"Sanity\": 6.93, \"Timestamp\": \"2024-10-03 19:46:52\"}, {\"Name\": \"Ruby Faerie\", \"Type\": \"Fey\", \"Level\": 6, \"Rarity\": \"Rank 1\", \"Damage\": \"6d4+3\", \"Health\": 24.8, \"Energy\": 22.95, \"Sanity\": 23.06, \"Timestamp\": \"2024-10-03 19:46:52\"}, {\"Name\": \"Shadow Elemental\", \"Type\": \"Elemental\", \"Level\": 13, \"Rarity\": \"Rank 4\", \"Damage\": \"13d10\", \"Health\": 129.3, \"Energy\": 128.59, \"Sanity\": 130.6, \"Timestamp\": \"2024-10-03 19:46:52\"}, {\"Name\": \"Revenant\", \"Type\": \"Undead\", \"Level\": 6, \"Rarity\": \"Rank 0\", \"Damage\": \"6d2\", \"Health\": 11.77, \"Energy\": 12.26, \"Sanity\": 12.36, \"Timestamp\": \"2024-10-03 19:46:52\"}, {\"Name\": \"Silver Demon\", \"Type\": \"Demonic\", \"Level\": 11, \"Rarity\": \"Rank 0\", \"Damage\": \"11d2\", \"Health\": 21.3, \"Energy\": 22.56, \"Sanity\": 22.72, \"Timestamp\": \"2024-10-03 19:46:52\"}, {\"Name\": \"Green Faerie\", \"Type\": \"Fey\", \"Level\": 2, \"Rarity\": \"Rank 2\", \"Damage\": \"2d6+3\", \"Health\": 12.35, \"Energy\": 12.29, \"Sanity\": 12.72, \"Timestamp\": \"2024-10-03 19:46:52\"}, {\"Name\": \"Efreeti\", \"Type\": \"Elemental\", \"Level\": 10, \"Rarity\": \"Rank 1\", \"Damage\": \"10d4+1\", \"Health\": 38.26, \"Energy\": 40.22, \"Sanity\": 39.85, \"Timestamp\": \"2024-10-03 19:46:52\"}, {\"Name\": \"Lich\", \"Type\": \"Undead\", \"Level\": 11, \"Rarity\": \"Rank 1\", \"Damage\": \"11d4+2\", \"Health\": 43.15, \"Energy\": 43.5, \"Sanity\": 43.97, \"Timestamp\": \"2024-10-03 19:46:52\"}, {\"Name\": \"Brass Faerie\", \"Type\": \"Fey\", \"Level\": 11, \"Rarity\": \"Rank 0\", \"Damage\": \"11d2+5\", \"Health\": 22.37, \"Energy\": 22.93, \"Sanity\": 21.22, \"Timestamp\": \"2024-10-03 19:46:52\"}, {\"Name\": \"Lightning Elemental\", \"Type\": \"Elemental\", \"Level\": 3, \"Rarity\": \"Rank 0\", \"Damage\": \"3d2+2\", \"Health\": 6.12, \"Energy\": 6.96, \"Sanity\": 5.23, \"Timestamp\": \"2024-10-03 19:46:52\"}, {\"Name\": \"Emerald Wyrmling\", \"Type\": \"Dragon\", \"Level\": 7, \"Rarity\": \"Rank 0\", \"Damage\": \"7d2+1\", \"Health\": 14.22, \"Energy\": 14.57, \"Sanity\": 13.06, \"Timestamp\": \"2024-10-03 19:46:52\"}, {\"Name\": \"Imp\", \"Type\": \"Demonic\", \"Level\": 9, \"Rarity\": \"Rank 2\", \"Damage\": \"9d6+1\", \"Health\": 55.99, \"Energy\": 55.06, \"Sanity\": 52.02, \"Timestamp\": \"2024-10-03 19:46:52\"}, {\"Name\": \"Succubus\", \"Type\": \"Devilkin\", \"Level\": 15, \"Rarity\": \"Rank 4\", \"Damage\": \"15d10+1\", \"Health\": 152.99, \"Energy\": 151.92, \"Sanity\": 146.64, \"Timestamp\": \"2024-10-03 19:46:52\"}, {\"Name\": \"Poltergeist\", \"Type\": \"Undead\", \"Level\": 7, \"Rarity\": \"Rank 1\", \"Damage\": \"7d4+1\", \"Health\": 26.49, \"Energy\": 28.55, \"Sanity\": 26.1, \"Timestamp\": \"2024-10-03 19:46:52\"}, {\"Name\": \"Pit Fiend\", \"Type\": \"Demonic\", \"Level\": 7, \"Rarity\": \"Rank 2\", \"Damage\": \"7d6+1\", \"Health\": 44.01, \"Energy\": 43.33, \"Sanity\": 39.67, \"Timestamp\": \"2024-10-03 19:46:52\"}, {\"Name\": \"Magma Mephit\", \"Type\": \"Elemental\", \"Level\": 7, \"Rarity\": \"Rank 1\", \"Damage\": \"7d4+2\", \"Health\": 27.34, \"Energy\": 27.14, \"Sanity\": 26.45, \"Timestamp\": \"2024-10-03 19:46:52\"}, {\"Name\": \"Silver Wyrmling\", \"Type\": \"Dragon\", \"Level\": 9, \"Rarity\": \"Rank 2\", \"Damage\": \"9d6+2\", \"Health\": 55.89, \"Energy\": 52.86, \"Sanity\": 51.08, \"Timestamp\": \"2024-10-03 19:46:52\"}, {\"Name\": \"Poltergeist\", \"Type\": \"Undead\", \"Level\": 4, \"Rarity\": \"Rank 5\", \"Damage\": \"4d12\", \"Health\": 46.73, \"Energy\": 44.84, \"Sanity\": 43.34, \"Timestamp\": \"2024-10-03 19:46:52\"}, {\"Name\": \"Goblin Mage\", \"Type\": \"Devilkin\", \"Level\": 10, \"Rarity\": \"Rank 0\", \"Damage\": \"10d2\", \"Health\": 20.28, \"Energy\": 19.23, \"Sanity\": 19.15, \"Timestamp\": \"2024-10-03 19:46:52\"}, {\"Name\": \"Brass Dragon\", \"Type\": \"Dragon\", \"Level\": 14, \"Rarity\": \"Rank 0\", \"Damage\": \"14d2+2\", \"Health\": 28.56, \"Energy\": 27.36, \"Sanity\": 27.04, \"Timestamp\": \"2024-10-03 19:46:52\"}, {\"Name\": \"Pit Fiend\", \"Type\": \"Demonic\", \"Level\": 12, \"Rarity\": \"Rank 4\", \"Damage\": \"12d10+2\", \"Health\": 121.54, \"Energy\": 117.05, \"Sanity\": 116.75, \"Timestamp\": \"2024-10-03 19:46:52\"}, {\"Name\": \"Prince of Fear\", \"Type\": \"Devilkin\", \"Level\": 8, \"Rarity\": \"Rank 0\", \"Damage\": \"8d2+2\", \"Health\": 16.4, \"Energy\": 15.73, \"Sanity\": 15.32, \"Timestamp\": \"2024-10-03 19:46:52\"}, {\"Name\": \"Faerie Dragon\", \"Type\": \"Dragon\", \"Level\": 4, \"Rarity\": \"Rank 2\", \"Damage\": \"4d6+2\", \"Health\": 23.17, \"Energy\": 22.39, \"Sanity\": 22.85, \"Timestamp\": \"2024-10-03 19:46:52\"}, {\"Name\": \"Wraith\", \"Type\": \"Undead\", \"Level\": 4, \"Rarity\": \"Rank 3\", \"Damage\": \"4d8+1\", \"Health\": 29.54, \"Energy\": 31.91, \"Sanity\": 30.68, \"Timestamp\": \"2024-10-03 19:46:52\"}, {\"Name\": \"Nightmare\", \"Type\": \"Demonic\", \"Level\": 7, \"Rarity\": \"Rank 1\", \"Damage\": \"7d4+1\", \"Health\": 26.96, \"Energy\": 27.83, \"Sanity\": 26.75, \"Timestamp\": \"2024-10-03 19:46:52\"}, {\"Name\": \"Succubus\", \"Type\": \"Devilkin\", \"Level\": 2, \"Rarity\": \"Rank 2\", \"Damage\": \"2d6\", \"Health\": 9.61, \"Energy\": 12.76, \"Sanity\": 9.41, \"Timestamp\": \"2024-10-03 19:46:52\"}, {\"Name\": \"Revenant\", \"Type\": \"Undead\", \"Level\": 8, \"Rarity\": \"Rank 2\", \"Damage\": \"8d6\", \"Health\": 49.91, \"Energy\": 46.38, \"Sanity\": 48.27, \"Timestamp\": \"2024-10-03 19:46:52\"}, {\"Name\": \"Dust Archfey\", \"Type\": \"Fey\", \"Level\": 7, \"Rarity\": \"Rank 0\", \"Damage\": \"7d2\", \"Health\": 13.59, \"Energy\": 14.46, \"Sanity\": 13.02, \"Timestamp\": \"2024-10-03 19:46:52\"}, {\"Name\": \"Efreeti\", \"Type\": \"Elemental\", \"Level\": 3, \"Rarity\": \"Rank 0\", \"Damage\": \"3d2+2\", \"Health\": 6.67, \"Energy\": 5.69, \"Sanity\": 5.18, \"Timestamp\": \"2024-10-03 19:46:52\"}, {\"Name\": \"Faerie Dragon\", \"Type\": \"Dragon\", \"Level\": 8, \"Rarity\": \"Rank 1\", \"Damage\": \"8d4+4\", \"Health\": 30.33, \"Energy\": 32.77, \"Sanity\": 32.3, \"Timestamp\": \"2024-10-03 19:46:52\"}, {\"Name\": \"Banshee\", \"Type\": \"Undead\", \"Level\": 6, \"Rarity\": \"Rank 2\", \"Damage\": \"6d6\", \"Health\": 33.25, \"Energy\": 35.25, \"Sanity\": 38.0, \"Timestamp\": \"2024-10-03 19:46:52\"}, {\"Name\": \"Prince of Fear\", \"Type\": \"Devilkin\", \"Level\": 4, \"Rarity\": \"Rank 2\", \"Damage\": \"4d6+1\", \"Health\": 22.39, \"Energy\": 26.03, \"Sanity\": 25.77, \"Timestamp\": \"2024-10-03 19:46:52\"}, {\"Name\": \"Efreeti\", \"Type\": \"Elemental\", \"Level\": 4, \"Rarity\": \"Rank 0\", \"Damage\": \"4d2+1\", \"Health\": 7.3, \"Energy\": 7.07, \"Sanity\": 7.69, \"Timestamp\": \"2024-10-03 19:46:52\"}, {\"Name\": \"Emerald Dragon\", \"Type\": \"Dragon\", \"Level\": 18, \"Rarity\": \"Rank 0\", \"Damage\": \"18d2+1\", \"Health\": 35.08, \"Energy\": 36.62, \"Sanity\": 35.9, \"Timestamp\": \"2024-10-03 19:46:52\"}, {\"Name\": \"Wight\", \"Type\": \"Undead\", \"Level\": 6, \"Rarity\": \"Rank 2\", \"Damage\": \"6d6\", \"Health\": 37.44, \"Energy\": 35.09, \"Sanity\": 33.53, \"Timestamp\": \"2024-10-03 19:46:52\"}, {\"Name\": \"Flame Spirit\", \"Type\": \"Fey\", \"Level\": 6, \"Rarity\": \"Rank 1\", \"Damage\": \"6d4+1\", \"Health\": 25.95, \"Energy\": 22.03, \"Sanity\": 25.16, \"Timestamp\": \"2024-10-03 19:46:52\"}, {\"Name\": \"Efreeti\", \"Type\": \"Elemental\", \"Level\": 16, \"Rarity\": \"Rank 2\", \"Damage\": \"16d6+5\", \"Health\": 95.53, \"Energy\": 93.85, \"Sanity\": 94.79, \"Timestamp\": \"2024-10-03 19:46:52\"}, {\"Name\": \"Revenant\", \"Type\": \"Undead\", \"Level\": 6, \"Rarity\": \"Rank 1\", \"Damage\": \"6d4+1\", \"Health\": 23.29, \"Energy\": 23.11, \"Sanity\": 23.33, \"Timestamp\": \"2024-10-03 19:46:52\"}, {\"Name\": \"Pit Lord\", \"Type\": \"Devilkin\", \"Level\": 5, \"Rarity\": \"Rank 1\", \"Damage\": \"5d4\", \"Health\": 20.47, \"Energy\": 20.53, \"Sanity\": 18.23, \"Timestamp\": \"2024-10-03 19:46:52\"}, {\"Name\": \"Pseudodragon\", \"Type\": \"Dragon\", \"Level\": 8, \"Rarity\": \"Rank 0\", \"Damage\": \"8d2+1\", \"Health\": 16.07, \"Energy\": 16.42, \"Sanity\": 15.18, \"Timestamp\": \"2024-10-03 19:46:52\"}, {\"Name\": \"Green Archfey\", \"Type\": \"Fey\", \"Level\": 6, \"Rarity\": \"Rank 2\", \"Damage\": \"6d6+4\", \"Health\": 34.75, \"Energy\": 34.37, \"Sanity\": 34.69, \"Timestamp\": \"2024-10-03 19:46:52\"}, {\"Name\": \"Magma Mephit\", \"Type\": \"Elemental\", \"Level\": 7, \"Rarity\": \"Rank 1\", \"Damage\": \"7d4\", \"Health\": 28.2, \"Energy\": 27.34, \"Sanity\": 26.06, \"Timestamp\": \"2024-10-03 19:46:52\"}, {\"Name\": \"Death Knight\", \"Type\": \"Undead\", \"Level\": 10, \"Rarity\": \"Rank 0\", \"Damage\": \"10d2+3\", \"Health\": 19.58, \"Energy\": 20.47, \"Sanity\": 20.93, \"Timestamp\": \"2024-10-03 19:46:52\"}, {\"Name\": \"Platinum Faerie\", \"Type\": \"Fey\", \"Level\": 2, \"Rarity\": \"Rank 3\", \"Damage\": \"2d8\", \"Health\": 12.14, \"Energy\": 17.58, \"Sanity\": 18.44, \"Timestamp\": \"2024-10-03 19:46:52\"}, {\"Name\": \"Shadow Mephit\", \"Type\": \"Elemental\", \"Level\": 8, \"Rarity\": \"Rank 1\", \"Damage\": \"8d4+4\", \"Health\": 32.65, \"Energy\": 31.54, \"Sanity\": 33.95, \"Timestamp\": \"2024-10-03 19:46:52\"}, {\"Name\": \"Skeletal Guard\", \"Type\": \"Undead\", \"Level\": 13, \"Rarity\": \"Rank 0\", \"Damage\": \"13d2\", \"Health\": 26.41, \"Energy\": 26.69, \"Sanity\": 26.8, \"Timestamp\": \"2024-10-03 19:46:52\"}, {\"Name\": \"Night Hag\", \"Type\": \"Demonic\", \"Level\": 5, \"Rarity\": \"Rank 2\", \"Damage\": \"5d6+3\", \"Health\": 28.32, \"Energy\": 28.01, \"Sanity\": 30.14, \"Timestamp\": \"2024-10-03 19:46:52\"}, {\"Name\": \"Pit Lord\", \"Type\": \"Devilkin\", \"Level\": 8, \"Rarity\": \"Rank 3\", \"Damage\": \"8d8+1\", \"Health\": 63.99, \"Energy\": 63.23, \"Sanity\": 62.93, \"Timestamp\": \"2024-10-03 19:46:52\"}, {\"Name\": \"Ruby Drake\", \"Type\": \"Dragon\", \"Level\": 12, \"Rarity\": \"Rank 4\", \"Damage\": \"12d10\", \"Health\": 117.24, \"Energy\": 123.09, \"Sanity\": 119.13, \"Timestamp\": \"2024-10-03 19:46:52\"}, {\"Name\": \"Lightning Archfey\", \"Type\": \"Fey\", \"Level\": 12, \"Rarity\": \"Rank 0\", \"Damage\": \"12d2\", \"Health\": 23.86, \"Energy\": 24.85, \"Sanity\": 24.05, \"Timestamp\": \"2024-10-03 19:46:52\"}, {\"Name\": \"Green Wyrmling\", \"Type\": \"Dragon\", \"Level\": 4, \"Rarity\": \"Rank 2\", \"Damage\": \"4d6+1\", \"Health\": 26.16, \"Energy\": 22.66, \"Sanity\": 22.35, \"Timestamp\": \"2024-10-03 19:46:52\"}, {\"Name\": \"Mummy\", \"Type\": \"Undead\", \"Level\": 18, \"Rarity\": \"Rank 0\", \"Damage\": \"18d2+3\", \"Health\": 35.72, \"Energy\": 36.11, \"Sanity\": 36.79, \"Timestamp\": \"2024-10-03 19:46:52\"}, {\"Name\": \"Platinum Demon\", \"Type\": \"Demonic\", \"Level\": 2, \"Rarity\": \"Rank 1\", \"Damage\": \"2d4\", \"Health\": 8.7, \"Energy\": 7.92, \"Sanity\": 7.99, \"Timestamp\": \"2024-10-03 19:46:52\"}, {\"Name\": \"Gold Faerie\", \"Type\": \"Fey\", \"Level\": 1, \"Rarity\": \"Rank 2\", \"Damage\": \"1d6\", \"Health\": 4.63, \"Energy\": 8.83, \"Sanity\": 6.83, \"Timestamp\": \"2024-10-03 19:46:52\"}, {\"Name\": \"Succubus\", \"Type\": \"Devilkin\", \"Level\": 4, \"Rarity\": \"Rank 3\", \"Damage\": \"4d8+2\", \"Health\": 29.96, \"Energy\": 34.04, \"Sanity\": 31.53, \"Timestamp\": \"2024-10-03 19:46:52\"}, {\"Name\": \"Death Knight\", \"Type\": \"Undead\", \"Level\": 5, \"Rarity\": \"Rank 0\", \"Damage\": \"5d2\", \"Health\": 10.38, \"Energy\": 10.13, \"Sanity\": 9.91, \"Timestamp\": \"2024-10-03 19:46:52\"}, {\"Name\": \"Prismatic Faerie\", \"Type\": \"Fey\", \"Level\": 2, \"Rarity\": \"Rank 3\", \"Damage\": \"2d8+2\", \"Health\": 12.36, \"Energy\": 19.9, \"Sanity\": 15.4, \"Timestamp\": \"2024-10-03 19:46:52\"}, {\"Name\": \"Djinni\", \"Type\": \"Elemental\", \"Level\": 2, \"Rarity\": \"Rank 1\", \"Damage\": \"2d4+2\", \"Health\": 9.62, \"Energy\": 7.8, \"Sanity\": 9.96, \"Timestamp\": \"2024-10-03 19:46:52\"}, {\"Name\": \"Onyx Drake\", \"Type\": \"Dragon\", \"Level\": 7, \"Rarity\": \"Rank 4\", \"Damage\": \"7d10+1\", \"Health\": 65.1, \"Energy\": 65.49, \"Sanity\": 72.45, \"Timestamp\": \"2024-10-03 19:46:52\"}, {\"Name\": \"Night Hag\", \"Type\": \"Demonic\", \"Level\": 8, \"Rarity\": \"Rank 0\", \"Damage\": \"8d2+4\", \"Health\": 15.15, \"Energy\": 16.35, \"Sanity\": 16.68, \"Timestamp\": \"2024-10-03 19:46:52\"}, {\"Name\": \"Mud Mephit\", \"Type\": \"Elemental\", \"Level\": 7, \"Rarity\": \"Rank 0\", \"Damage\": \"7d2+1\", \"Health\": 13.77, \"Energy\": 13.66, \"Sanity\": 14.53, \"Timestamp\": \"2024-10-03 19:46:52\"}, {\"Name\": \"Vampire\", \"Type\": \"Undead\", \"Level\": 7, \"Rarity\": \"Rank 2\", \"Damage\": \"7d6+2\", \"Health\": 43.37, \"Energy\": 44.54, \"Sanity\": 42.69, \"Timestamp\": \"2024-10-03 19:46:52\"}, {\"Name\": \"Imp\", \"Type\": \"Demonic\", \"Level\": 12, \"Rarity\": \"Rank 1\", \"Damage\": \"12d4\", \"Health\": 48.7, \"Energy\": 49.13, \"Sanity\": 48.39, \"Timestamp\": \"2024-10-03 19:46:52\"}, {\"Name\": \"Dust Devil\", \"Type\": \"Devilkin\", \"Level\": 11, \"Rarity\": \"Rank 2\", \"Damage\": \"11d6+1\", \"Health\": 64.0, \"Energy\": 66.58, \"Sanity\": 67.11, \"Timestamp\": \"2024-10-03 19:46:52\"}, {\"Name\": \"Pseudodragon\", \"Type\": \"Dragon\", \"Level\": 4, \"Rarity\": \"Rank 2\", \"Damage\": \"4d6\", \"Health\": 25.43, \"Energy\": 23.13, \"Sanity\": 25.07, \"Timestamp\": \"2024-10-03 19:46:52\"}, {\"Name\": \"Balor\", \"Type\": \"Demonic\", \"Level\": 4, \"Rarity\": \"Rank 1\", \"Damage\": \"4d4+2\", \"Health\": 14.35, \"Energy\": 17.91, \"Sanity\": 16.29, \"Timestamp\": \"2024-10-03 19:46:52\"}, {\"Name\": \"Pit Lord\", \"Type\": \"Devilkin\", \"Level\": 16, \"Rarity\": \"Rank 1\", \"Damage\": \"16d4+3\", \"Health\": 64.79, \"Energy\": 64.17, \"Sanity\": 64.35, \"Timestamp\": \"2024-10-03 19:46:52\"}, {\"Name\": \"Diamond Dragon\", \"Type\": \"Dragon\", \"Level\": 5, \"Rarity\": \"Rank 2\", \"Damage\": \"5d6+1\", \"Health\": 31.16, \"Energy\": 29.46, \"Sanity\": 32.19, \"Timestamp\": \"2024-10-03 19:46:52\"}, {\"Name\": \"Death Knight\", \"Type\": \"Undead\", \"Level\": 3, \"Rarity\": \"Rank 0\", \"Damage\": \"3d2+2\", \"Health\": 5.04, \"Energy\": 5.13, \"Sanity\": 6.73, \"Timestamp\": \"2024-10-03 19:46:52\"}, {\"Name\": \"Green Faerie\", \"Type\": \"Fey\", \"Level\": 10, \"Rarity\": \"Rank 0\", \"Damage\": \"10d2+5\", \"Health\": 20.14, \"Energy\": 20.41, \"Sanity\": 20.27, \"Timestamp\": \"2024-10-03 19:46:52\"}, {\"Name\": \"Efreeti\", \"Type\": \"Elemental\", \"Level\": 6, \"Rarity\": \"Rank 0\", \"Damage\": \"6d2\", \"Health\": 11.44, \"Energy\": 12.43, \"Sanity\": 11.92, \"Timestamp\": \"2024-10-03 19:46:52\"}, {\"Name\": \"Death Knight\", \"Type\": \"Undead\", \"Level\": 17, \"Rarity\": \"Rank 0\", \"Damage\": \"17d2+5\", \"Health\": 33.75, \"Energy\": 34.75, \"Sanity\": 34.29, \"Timestamp\": \"2024-10-03 19:46:52\"}, {\"Name\": \"Platinum Archfey\", \"Type\": \"Fey\", \"Level\": 20, \"Rarity\": \"Rank 1\", \"Damage\": \"20d4\", \"Health\": 79.6, \"Energy\": 80.41, \"Sanity\": 78.83, \"Timestamp\": \"2024-10-03 19:46:52\"}, {\"Name\": \"Efreeti\", \"Type\": \"Elemental\", \"Level\": 5, \"Rarity\": \"Rank 1\", \"Damage\": \"5d4\", \"Health\": 19.04, \"Energy\": 18.88, \"Sanity\": 19.93, \"Timestamp\": \"2024-10-03 19:46:52\"}, {\"Name\": \"Sapphire Dragon\", \"Type\": \"Dragon\", \"Level\": 12, \"Rarity\": \"Rank 2\", \"Damage\": \"12d6+4\", \"Health\": 71.25, \"Energy\": 72.38, \"Sanity\": 73.78, \"Timestamp\": \"2024-10-03 19:46:52\"}, {\"Name\": \"Black Faerie\", \"Type\": \"Fey\", \"Level\": 3, \"Rarity\": \"Rank 0\", \"Damage\": \"3d2+5\", \"Health\": 6.11, \"Energy\": 6.39, \"Sanity\": 5.84, \"Timestamp\": \"2024-10-03 19:46:52\"}, {\"Name\": \"Djinni\", \"Type\": \"Elemental\", \"Level\": 9, \"Rarity\": \"Rank 1\", \"Damage\": \"9d4+2\", \"Health\": 36.47, \"Energy\": 35.25, \"Sanity\": 37.83, \"Timestamp\": \"2024-10-03 19:46:52\"}, {\"Name\": \"Mummy Lord\", \"Type\": \"Undead\", \"Level\": 8, \"Rarity\": \"Rank 0\", \"Damage\": \"8d2+5\", \"Health\": 16.82, \"Energy\": 16.84, \"Sanity\": 16.75, \"Timestamp\": \"2024-10-03 19:46:52\"}, {\"Name\": \"Red Faerie\", \"Type\": \"Fey\", \"Level\": 8, \"Rarity\": \"Rank 2\", \"Damage\": \"8d6\", \"Health\": 48.27, \"Energy\": 45.53, \"Sanity\": 46.24, \"Timestamp\": \"2024-10-03 19:46:52\"}, {\"Name\": \"Efreeti\", \"Type\": \"Elemental\", \"Level\": 5, \"Rarity\": \"Rank 0\", \"Damage\": \"5d2+1\", \"Health\": 10.36, \"Energy\": 10.63, \"Sanity\": 10.21, \"Timestamp\": \"2024-10-03 19:46:52\"}, {\"Name\": \"Mummy Lord\", \"Type\": \"Undead\", \"Level\": 10, \"Rarity\": \"Rank 1\", \"Damage\": \"10d4+2\", \"Health\": 38.61, \"Energy\": 40.88, \"Sanity\": 39.86, \"Timestamp\": \"2024-10-03 19:46:52\"}, {\"Name\": \"Pit Lord\", \"Type\": \"Devilkin\", \"Level\": 7, \"Rarity\": \"Rank 0\", \"Damage\": \"7d2+3\", \"Health\": 13.37, \"Energy\": 13.47, \"Sanity\": 14.41, \"Timestamp\": \"2024-10-03 19:46:52\"}, {\"Name\": \"Djinni\", \"Type\": \"Elemental\", \"Level\": 2, \"Rarity\": \"Rank 2\", \"Damage\": \"2d6+1\", \"Health\": 9.94, \"Energy\": 10.1, \"Sanity\": 12.3, \"Timestamp\": \"2024-10-03 19:46:52\"}, {\"Name\": \"Death Knight\", \"Type\": \"Undead\", \"Level\": 8, \"Rarity\": \"Rank 3\", \"Damage\": \"8d8+4\", \"Health\": 61.78, \"Energy\": 61.05, \"Sanity\": 66.61, \"Timestamp\": \"2024-10-03 19:46:52\"}, {\"Name\": \"Lightning Spirit\", \"Type\": \"Fey\", \"Level\": 15, \"Rarity\": \"Rank 1\", \"Damage\": \"15d4+3\", \"Health\": 60.73, \"Energy\": 59.74, \"Sanity\": 60.31, \"Timestamp\": \"2024-10-03 19:46:52\"}, {\"Name\": \"Djinni\", \"Type\": \"Elemental\", \"Level\": 4, \"Rarity\": \"Rank 3\", \"Damage\": \"4d8+1\", \"Health\": 33.36, \"Energy\": 33.05, \"Sanity\": 34.85, \"Timestamp\": \"2024-10-03 19:46:52\"}, {\"Name\": \"Sapphire Drake\", \"Type\": \"Dragon\", \"Level\": 15, \"Rarity\": \"Rank 1\", \"Damage\": \"15d4+5\", \"Health\": 58.99, \"Energy\": 59.56, \"Sanity\": 58.4, \"Timestamp\": \"2024-10-03 19:46:52\"}, {\"Name\": \"Night Hag\", \"Type\": \"Demonic\", \"Level\": 4, \"Rarity\": \"Rank 0\", \"Damage\": \"4d2+1\", \"Health\": 7.87, \"Energy\": 7.03, \"Sanity\": 8.36, \"Timestamp\": \"2024-10-03 19:46:52\"}, {\"Name\": \"Prince of Fear\", \"Type\": \"Devilkin\", \"Level\": 12, \"Rarity\": \"Rank 2\", \"Damage\": \"12d6+1\", \"Health\": 69.5, \"Energy\": 73.83, \"Sanity\": 73.98, \"Timestamp\": \"2024-10-03 19:46:52\"}, {\"Name\": \"White Drake\", \"Type\": \"Dragon\", \"Level\": 7, \"Rarity\": \"Rank 2\", \"Damage\": \"7d6\", \"Health\": 39.0, \"Energy\": 41.86, \"Sanity\": 39.51, \"Timestamp\": \"2024-10-03 19:46:52\"}, {\"Name\": \"Onyx Demon\", \"Type\": \"Demonic\", \"Level\": 2, \"Rarity\": \"Rank 3\", \"Damage\": \"2d8+2\", \"Health\": 14.64, \"Energy\": 14.2, \"Sanity\": 17.91, \"Timestamp\": \"2024-10-03 19:46:52\"}, {\"Name\": \"Emerald Faerie\", \"Type\": \"Fey\", \"Level\": 7, \"Rarity\": \"Rank 1\", \"Damage\": \"7d4+3\", \"Health\": 26.69, \"Energy\": 26.95, \"Sanity\": 29.89, \"Timestamp\": \"2024-10-03 19:46:52\"}, {\"Name\": \"Efreeti\", \"Type\": \"Elemental\", \"Level\": 6, \"Rarity\": \"Rank 2\", \"Damage\": \"6d6+3\", \"Health\": 36.47, \"Energy\": 34.58, \"Sanity\": 36.76, \"Timestamp\": \"2024-10-03 19:46:52\"}, {\"Name\": \"Pseudodragon\", \"Type\": \"Dragon\", \"Level\": 9, \"Rarity\": \"Rank 3\", \"Damage\": \"9d8\", \"Health\": 73.12, \"Energy\": 75.41, \"Sanity\": 73.71, \"Timestamp\": \"2024-10-03 19:46:52\"}, {\"Name\": \"Magma Spirit\", \"Type\": \"Fey\", \"Level\": 5, \"Rarity\": \"Rank 0\", \"Damage\": \"5d2\", \"Health\": 10.76, \"Energy\": 9.54, \"Sanity\": 9.02, \"Timestamp\": \"2024-10-03 19:46:52\"}, {\"Name\": \"Djinni\", \"Type\": \"Elemental\", \"Level\": 14, \"Rarity\": \"Rank 0\", \"Damage\": \"14d2+3\", \"Health\": 27.77, \"Energy\": 27.89, \"Sanity\": 28.72, \"Timestamp\": \"2024-10-03 19:46:52\"}, {\"Name\": \"Mummy Lord\", \"Type\": \"Undead\", \"Level\": 11, \"Rarity\": \"Rank 2\", \"Damage\": \"11d6+4\", \"Health\": 64.65, \"Energy\": 66.18, \"Sanity\": 68.1, \"Timestamp\": \"2024-10-03 19:46:52\"}, {\"Name\": \"Shadow Archfey\", \"Type\": \"Fey\", \"Level\": 8, \"Rarity\": \"Rank 2\", \"Damage\": \"8d6\", \"Health\": 46.75, \"Energy\": 47.46, \"Sanity\": 47.52, \"Timestamp\": \"2024-10-03 19:46:52\"}, {\"Name\": \"Djinni\", \"Type\": \"Elemental\", \"Level\": 11, \"Rarity\": \"Rank 1\", \"Damage\": \"11d4\", \"Health\": 44.49, \"Energy\": 45.91, \"Sanity\": 45.89, \"Timestamp\": \"2024-10-03 19:46:52\"}, {\"Name\": \"Vampire\", \"Type\": \"Undead\", \"Level\": 5, \"Rarity\": \"Rank 1\", \"Damage\": \"5d4\", \"Health\": 19.73, \"Energy\": 19.98, \"Sanity\": 20.9, \"Timestamp\": \"2024-10-03 19:46:52\"}, {\"Name\": \"Hook Horror\", \"Type\": \"Demonic\", \"Level\": 3, \"Rarity\": \"Rank 1\", \"Damage\": \"3d4+3\", \"Health\": 12.73, \"Energy\": 12.61, \"Sanity\": 11.37, \"Timestamp\": \"2024-10-03 19:46:52\"}, {\"Name\": \"Kobold Archer\", \"Type\": \"Devilkin\", \"Level\": 11, \"Rarity\": \"Rank 0\", \"Damage\": \"11d2+1\", \"Health\": 21.73, \"Energy\": 22.45, \"Sanity\": 21.78, \"Timestamp\": \"2024-10-03 19:46:52\"}, {\"Name\": \"Djinni\", \"Type\": \"Elemental\", \"Level\": 5, \"Rarity\": \"Rank 0\", \"Damage\": \"5d2+2\", \"Health\": 10.87, \"Energy\": 9.97, \"Sanity\": 10.14, \"Timestamp\": \"2024-10-03 19:46:52\"}, {\"Name\": \"Nightmare\", \"Type\": \"Demonic\", \"Level\": 10, \"Rarity\": \"Rank 0\", \"Damage\": \"10d2+1\", \"Health\": 20.79, \"Energy\": 19.37, \"Sanity\": 19.3, \"Timestamp\": \"2024-10-03 19:46:52\"}, {\"Name\": \"Lightning Devil\", \"Type\": \"Devilkin\", \"Level\": 10, \"Rarity\": \"Rank 1\", \"Damage\": \"10d4\", \"Health\": 41.22, \"Energy\": 40.54, \"Sanity\": 39.87, \"Timestamp\": \"2024-10-03 19:46:52\"}, {\"Name\": \"Ghostly Knight\", \"Type\": \"Undead\", \"Level\": 6, \"Rarity\": \"Rank 4\", \"Damage\": \"6d10+1\", \"Health\": 58.94, \"Energy\": 59.31, \"Sanity\": 63.73, \"Timestamp\": \"2024-10-03 19:46:52\"}, {\"Name\": \"Smoke Spirit\", \"Type\": \"Fey\", \"Level\": 7, \"Rarity\": \"Rank 0\", \"Damage\": \"7d2+1\", \"Health\": 13.14, \"Energy\": 14.74, \"Sanity\": 14.02, \"Timestamp\": \"2024-10-03 19:46:52\"}, {\"Name\": \"Shadow Elemental\", \"Type\": \"Elemental\", \"Level\": 15, \"Rarity\": \"Rank 2\", \"Damage\": \"15d6+1\", \"Health\": 91.86, \"Energy\": 92.91, \"Sanity\": 88.06, \"Timestamp\": \"2024-10-03 19:46:52\"}, {\"Name\": \"Ghostly Villager\", \"Type\": \"Undead\", \"Level\": 5, \"Rarity\": \"Rank 0\", \"Damage\": \"5d2+4\", \"Health\": 9.28, \"Energy\": 10.24, \"Sanity\": 10.71, \"Timestamp\": \"2024-10-03 19:46:52\"}, {\"Name\": \"Green Faerie\", \"Type\": \"Fey\", \"Level\": 2, \"Rarity\": \"Rank 0\", \"Damage\": \"2d2\", \"Health\": 3.74, \"Energy\": 4.99, \"Sanity\": 4.47, \"Timestamp\": \"2024-10-03 19:46:52\"}, {\"Name\": \"Lightning Mephit\", \"Type\": \"Elemental\", \"Level\": 2, \"Rarity\": \"Rank 0\", \"Damage\": \"2d2\", \"Health\": 3.59, \"Energy\": 3.69, \"Sanity\": 3.0, \"Timestamp\": \"2024-10-03 19:46:52\"}, {\"Name\": \"Wraith\", \"Type\": \"Undead\", \"Level\": 6, \"Rarity\": \"Rank 3\", \"Damage\": \"6d8+4\", \"Health\": 45.34, \"Energy\": 51.18, \"Sanity\": 46.46, \"Timestamp\": \"2024-10-03 19:46:52\"}, {\"Name\": \"Black Faerie\", \"Type\": \"Fey\", \"Level\": 8, \"Rarity\": \"Rank 1\", \"Damage\": \"8d4+1\", \"Health\": 32.92, \"Energy\": 32.54, \"Sanity\": 31.74, \"Timestamp\": \"2024-10-03 19:46:52\"}, {\"Name\": \"Wyvern\", \"Type\": \"Dragon\", \"Level\": 5, \"Rarity\": \"Rank 1\", \"Damage\": \"5d4\", \"Health\": 21.49, \"Energy\": 20.61, \"Sanity\": 21.48, \"Timestamp\": \"2024-10-03 19:46:52\"}, {\"Name\": \"Pit Fiend\", \"Type\": \"Demonic\", \"Level\": 13, \"Rarity\": \"Rank 1\", \"Damage\": \"13d4+2\", \"Health\": 51.52, \"Energy\": 51.8, \"Sanity\": 53.03, \"Timestamp\": \"2024-10-03 19:46:52\"}, {\"Name\": \"Djinni\", \"Type\": \"Elemental\", \"Level\": 1, \"Rarity\": \"Rank 2\", \"Damage\": \"1d6+1\", \"Health\": 5.09, \"Energy\": 3.43, \"Sanity\": 7.12, \"Timestamp\": \"2024-10-03 19:46:52\"}, {\"Name\": \"Death Knight\", \"Type\": \"Undead\", \"Level\": 8, \"Rarity\": \"Rank 0\", \"Damage\": \"8d2\", \"Health\": 16.45, \"Energy\": 16.26, \"Sanity\": 16.42, \"Timestamp\": \"2024-10-03 19:46:52\"}, {\"Name\": \"Red Archfey\", \"Type\": \"Fey\", \"Level\": 3, \"Rarity\": \"Rank 1\", \"Damage\": \"3d4+3\", \"Health\": 11.3, \"Energy\": 12.06, \"Sanity\": 12.03, \"Timestamp\": \"2024-10-03 19:46:52\"}, {\"Name\": \"Bronze Drake\", \"Type\": \"Dragon\", \"Level\": 5, \"Rarity\": \"Rank 1\", \"Damage\": \"5d4+2\", \"Health\": 19.29, \"Energy\": 20.86, \"Sanity\": 19.09, \"Timestamp\": \"2024-10-03 19:46:52\"}, {\"Name\": \"Imp\", \"Type\": \"Demonic\", \"Level\": 4, \"Rarity\": \"Rank 1\", \"Damage\": \"4d4+3\", \"Health\": 16.0, \"Energy\": 17.33, \"Sanity\": 17.09, \"Timestamp\": \"2024-10-03 19:46:52\"}, {\"Name\": \"Prince of Fear\", \"Type\": \"Devilkin\", \"Level\": 7, \"Rarity\": \"Rank 2\", \"Damage\": \"7d6\", \"Health\": 43.67, \"Energy\": 43.22, \"Sanity\": 39.5, \"Timestamp\": \"2024-10-03 19:46:52\"}, {\"Name\": \"Djinni\", \"Type\": \"Elemental\", \"Level\": 10, \"Rarity\": \"Rank 1\", \"Damage\": \"10d4\", \"Health\": 41.43, \"Energy\": 41.09, \"Sanity\": 41.78, \"Timestamp\": \"2024-10-03 19:46:52\"}, {\"Name\": \"Hook Horror\", \"Type\": \"Demonic\", \"Level\": 3, \"Rarity\": \"Rank 1\", \"Damage\": \"3d4\", \"Health\": 11.77, \"Energy\": 12.33, \"Sanity\": 13.64, \"Timestamp\": \"2024-10-03 19:46:52\"}, {\"Name\": \"Djinni\", \"Type\": \"Elemental\", \"Level\": 12, \"Rarity\": \"Rank 0\", \"Damage\": \"12d2+2\", \"Health\": 23.24, \"Energy\": 23.1, \"Sanity\": 23.95, \"Timestamp\": \"2024-10-03 19:46:52\"}, {\"Name\": \"Balor\", \"Type\": \"Demonic\", \"Level\": 2, \"Rarity\": \"Rank 3\", \"Damage\": \"2d8+2\", \"Health\": 13.96, \"Energy\": 19.83, \"Sanity\": 18.78, \"Timestamp\": \"2024-10-03 19:46:52\"}, {\"Name\": \"Kobold Archer\", \"Type\": \"Devilkin\", \"Level\": 10, \"Rarity\": \"Rank 2\", \"Damage\": \"10d6+4\", \"Health\": 60.41, \"Energy\": 58.61, \"Sanity\": 58.05, \"Timestamp\": \"2024-10-03 19:46:52\"}, {\"Name\": \"Ghast\", \"Type\": \"Undead\", \"Level\": 12, \"Rarity\": \"Rank 0\", \"Damage\": \"12d2+5\", \"Health\": 24.38, \"Energy\": 23.37, \"Sanity\": 23.69, \"Timestamp\": \"2024-10-03 19:46:52\"}, {\"Name\": \"Mud Archfey\", \"Type\": \"Fey\", \"Level\": 19, \"Rarity\": \"Rank 1\", \"Damage\": \"19d4+3\", \"Health\": 77.27, \"Energy\": 76.16, \"Sanity\": 75.92, \"Timestamp\": \"2024-10-03 19:46:52\"}, {\"Name\": \"Efreeti\", \"Type\": \"Elemental\", \"Level\": 8, \"Rarity\": \"Rank 1\", \"Damage\": \"8d4\", \"Health\": 30.61, \"Energy\": 30.01, \"Sanity\": 32.79, \"Timestamp\": \"2024-10-03 19:46:52\"}, {\"Name\": \"Revenant\", \"Type\": \"Undead\", \"Level\": 6, \"Rarity\": \"Rank 1\", \"Damage\": \"6d4\", \"Health\": 25.77, \"Energy\": 24.64, \"Sanity\": 23.1, \"Timestamp\": \"2024-10-03 19:46:52\"}, {\"Name\": \"Pit Fiend\", \"Type\": \"Demonic\", \"Level\": 5, \"Rarity\": \"Rank 2\", \"Damage\": \"5d6+3\", \"Health\": 29.64, \"Energy\": 31.54, \"Sanity\": 31.07, \"Timestamp\": \"2024-10-03 19:46:52\"}, {\"Name\": \"Dust Devil\", \"Type\": \"Devilkin\", \"Level\": 7, \"Rarity\": \"Rank 2\", \"Damage\": \"7d6+2\", \"Health\": 44.63, \"Energy\": 40.6, \"Sanity\": 40.39, \"Timestamp\": \"2024-10-03 19:46:52\"}, {\"Name\": \"Faerie Dragon\", \"Type\": \"Dragon\", \"Level\": 7, \"Rarity\": \"Rank 2\", \"Damage\": \"7d6+2\", \"Health\": 43.21, \"Energy\": 40.51, \"Sanity\": 41.88, \"Timestamp\": \"2024-10-03 19:46:52\"}, {\"Name\": \"Imp\", \"Type\": \"Demonic\", \"Level\": 2, \"Rarity\": \"Rank 2\", \"Damage\": \"2d6+2\", \"Health\": 11.16, \"Energy\": 10.42, \"Sanity\": 13.18, \"Timestamp\": \"2024-10-03 19:46:52\"}, {\"Name\": \"Green Archfey\", \"Type\": \"Fey\", \"Level\": 11, \"Rarity\": \"Rank 2\", \"Damage\": \"11d6+3\", \"Health\": 67.85, \"Energy\": 67.62, \"Sanity\": 67.94, \"Timestamp\": \"2024-10-03 19:46:52\"}, {\"Name\": \"Pit Lord\", \"Type\": \"Devilkin\", \"Level\": 5, \"Rarity\": \"Rank 1\", \"Damage\": \"5d4+4\", \"Health\": 21.09, \"Energy\": 21.84, \"Sanity\": 20.16, \"Timestamp\": \"2024-10-03 19:46:52\"}, {\"Name\": \"Ghoul\", \"Type\": \"Undead\", \"Level\": 15, \"Rarity\": \"Rank 0\", \"Damage\": \"15d2\", \"Health\": 30.03, \"Energy\": 29.95, \"Sanity\": 29.64, \"Timestamp\": \"2024-10-03 19:46:52\"}, {\"Name\": \"Platinum Faerie\", \"Type\": \"Fey\", \"Level\": 9, \"Rarity\": \"Rank 1\", \"Damage\": \"9d4\", \"Health\": 37.17, \"Energy\": 34.72, \"Sanity\": 35.61, \"Timestamp\": \"2024-10-03 19:46:52\"}, {\"Name\": \"Djinni\", \"Type\": \"Elemental\", \"Level\": 13, \"Rarity\": \"Rank 0\", \"Damage\": \"13d2+3\", \"Health\": 26.62, \"Energy\": 26.02, \"Sanity\": 26.73, \"Timestamp\": \"2024-10-03 19:46:52\"}, {\"Name\": \"Pit Fiend\", \"Type\": \"Demonic\", \"Level\": 9, \"Rarity\": \"Rank 2\", \"Damage\": \"9d6\", \"Health\": 55.33, \"Energy\": 53.27, \"Sanity\": 53.08, \"Timestamp\": \"2024-10-03 19:46:52\"}, {\"Name\": \"Pit Lord\", \"Type\": \"Devilkin\", \"Level\": 3, \"Rarity\": \"Rank 4\", \"Damage\": \"3d10+2\", \"Health\": 26.55, \"Energy\": 28.51, \"Sanity\": 27.98, \"Timestamp\": \"2024-10-03 19:46:52\"}, {\"Name\": \"Faerie Dragon\", \"Type\": \"Dragon\", \"Level\": 2, \"Rarity\": \"Rank 0\", \"Damage\": \"2d2+2\", \"Health\": 3.91, \"Energy\": 4.86, \"Sanity\": 4.51, \"Timestamp\": \"2024-10-03 19:46:52\"}, {\"Name\": \"Hell Hound\", \"Type\": \"Demonic\", \"Level\": 12, \"Rarity\": \"Rank 2\", \"Damage\": \"12d6+1\", \"Health\": 72.03, \"Energy\": 69.84, \"Sanity\": 73.95, \"Timestamp\": \"2024-10-03 19:46:52\"}, {\"Name\": \"Djinni\", \"Type\": \"Elemental\", \"Level\": 5, \"Rarity\": \"Rank 0\", \"Damage\": \"5d2+1\", \"Health\": 9.51, \"Energy\": 9.82, \"Sanity\": 9.09, \"Timestamp\": \"2024-10-03 19:46:52\"}, {\"Name\": \"Poltergeist\", \"Type\": \"Undead\", \"Level\": 9, \"Rarity\": \"Rank 1\", \"Damage\": \"9d4+3\", \"Health\": 34.4, \"Energy\": 36.63, \"Sanity\": 36.11, \"Timestamp\": \"2024-10-03 19:46:52\"}, {\"Name\": \"Ice Spirit\", \"Type\": \"Fey\", \"Level\": 8, \"Rarity\": \"Rank 0\", \"Damage\": \"8d2\", \"Health\": 15.1, \"Energy\": 16.59, \"Sanity\": 16.2, \"Timestamp\": \"2024-10-03 19:46:52\"}, {\"Name\": \"Smoke Elemental\", \"Type\": \"Elemental\", \"Level\": 7, \"Rarity\": \"Rank 2\", \"Damage\": \"7d6+2\", \"Health\": 39.09, \"Energy\": 42.02, \"Sanity\": 43.4, \"Timestamp\": \"2024-10-03 19:46:52\"}, {\"Name\": \"Ghast\", \"Type\": \"Undead\", \"Level\": 15, \"Rarity\": \"Rank 0\", \"Damage\": \"15d2\", \"Health\": 30.48, \"Energy\": 30.69, \"Sanity\": 29.35, \"Timestamp\": \"2024-10-03 19:46:52\"}, {\"Name\": \"Shadow Archfey\", \"Type\": \"Fey\", \"Level\": 18, \"Rarity\": \"Rank 3\", \"Damage\": \"18d8+1\", \"Health\": 144.39, \"Energy\": 142.33, \"Sanity\": 147.84, \"Timestamp\": \"2024-10-03 19:46:52\"}, {\"Name\": \"Steam Elemental\", \"Type\": \"Elemental\", \"Level\": 5, \"Rarity\": \"Rank 2\", \"Damage\": \"5d6+1\", \"Health\": 31.54, \"Energy\": 32.88, \"Sanity\": 31.04, \"Timestamp\": \"2024-10-03 19:46:52\"}, {\"Name\": \"Quasit\", \"Type\": \"Demonic\", \"Level\": 16, \"Rarity\": \"Rank 1\", \"Damage\": \"16d4+3\", \"Health\": 63.43, \"Energy\": 64.32, \"Sanity\": 64.28, \"Timestamp\": \"2024-10-03 19:46:52\"}, {\"Name\": \"Pit Lord\", \"Type\": \"Devilkin\", \"Level\": 9, \"Rarity\": \"Rank 1\", \"Damage\": \"9d4+1\", \"Health\": 36.96, \"Energy\": 35.49, \"Sanity\": 34.01, \"Timestamp\": \"2024-10-03 19:46:52\"}, {\"Name\": \"Djinni\", \"Type\": \"Elemental\", \"Level\": 3, \"Rarity\": \"Rank 4\", \"Damage\": \"3d10\", \"Health\": 28.41, \"Energy\": 33.31, \"Sanity\": 27.42, \"Timestamp\": \"2024-10-03 19:46:52\"}, {\"Name\": \"Skeletal Knight\", \"Type\": \"Undead\", \"Level\": 5, \"Rarity\": \"Rank 2\", \"Damage\": \"5d6+4\", \"Health\": 29.73, \"Energy\": 31.24, \"Sanity\": 27.37, \"Timestamp\": \"2024-10-03 19:46:52\"}, {\"Name\": \"Flame Devil\", \"Type\": \"Devilkin\", \"Level\": 6, \"Rarity\": \"Rank 0\", \"Damage\": \"6d2+2\", \"Health\": 11.68, \"Energy\": 11.72, \"Sanity\": 12.48, \"Timestamp\": \"2024-10-03 19:46:52\"}, {\"Name\": \"Wyvern\", \"Type\": \"Dragon\", \"Level\": 17, \"Rarity\": \"Rank 1\", \"Damage\": \"17d4\", \"Health\": 66.77, \"Energy\": 67.51, \"Sanity\": 66.96, \"Timestamp\": \"2024-10-03 19:46:52\"}, {\"Name\": \"Emerald Demon\", \"Type\": \"Demonic\", \"Level\": 5, \"Rarity\": \"Rank 1\", \"Damage\": \"5d4+2\", \"Health\": 19.18, \"Energy\": 21.78, \"Sanity\": 19.49, \"Timestamp\": \"2024-10-03 19:46:52\"}, {\"Name\": \"Blue Faerie\", \"Type\": \"Fey\", \"Level\": 16, \"Rarity\": \"Rank 2\", \"Damage\": \"16d6+1\", \"Health\": 94.3, \"Energy\": 97.49, \"Sanity\": 98.46, \"Timestamp\": \"2024-10-03 19:46:52\"}, {\"Name\": \"Magma Elemental\", \"Type\": \"Elemental\", \"Level\": 5, \"Rarity\": \"Rank 2\", \"Damage\": \"5d6+2\", \"Health\": 30.43, \"Energy\": 31.75, \"Sanity\": 29.11, \"Timestamp\": \"2024-10-03 19:46:52\"}, {\"Name\": \"Banshee\", \"Type\": \"Undead\", \"Level\": 19, \"Rarity\": \"Rank 0\", \"Damage\": \"19d2+3\", \"Health\": 37.65, \"Energy\": 37.41, \"Sanity\": 38.51, \"Timestamp\": \"2024-10-03 19:46:52\"}, {\"Name\": \"Red Archfey\", \"Type\": \"Fey\", \"Level\": 5, \"Rarity\": \"Rank 0\", \"Damage\": \"5d2+4\", \"Health\": 9.5, \"Energy\": 9.01, \"Sanity\": 9.65, \"Timestamp\": \"2024-10-03 19:46:52\"}, {\"Name\": \"Diamond Wyrmling\", \"Type\": \"Dragon\", \"Level\": 5, \"Rarity\": \"Rank 2\", \"Damage\": \"5d6\", \"Health\": 30.91, \"Energy\": 31.91, \"Sanity\": 31.32, \"Timestamp\": \"2024-10-03 19:46:52\"}, {\"Name\": \"Shadow Archfey\", \"Type\": \"Fey\", \"Level\": 13, \"Rarity\": \"Rank 2\", \"Damage\": \"13d6+1\", \"Health\": 79.29, \"Energy\": 76.98, \"Sanity\": 79.97, \"Timestamp\": \"2024-10-03 19:46:52\"}, {\"Name\": \"Prince of Fear\", \"Type\": \"Devilkin\", \"Level\": 16, \"Rarity\": \"Rank 0\", \"Damage\": \"16d2+3\", \"Health\": 31.65, \"Energy\": 32.3, \"Sanity\": 31.15, \"Timestamp\": \"2024-10-03 19:46:52\"}, {\"Name\": \"Faerie Dragon\", \"Type\": \"Dragon\", \"Level\": 7, \"Rarity\": \"Rank 1\", \"Damage\": \"7d4\", \"Health\": 27.55, \"Energy\": 28.49, \"Sanity\": 28.42, \"Timestamp\": \"2024-10-03 19:46:52\"}, {\"Name\": \"Wight\", \"Type\": \"Undead\", \"Level\": 3, \"Rarity\": \"Rank 1\", \"Damage\": \"3d4\", \"Health\": 12.38, \"Energy\": 10.09, \"Sanity\": 11.04, \"Timestamp\": \"2024-10-03 19:46:52\"}, {\"Name\": \"White Archfey\", \"Type\": \"Fey\", \"Level\": 7, \"Rarity\": \"Rank 5\", \"Damage\": \"7d12+1\", \"Health\": 81.49, \"Energy\": 80.67, \"Sanity\": 86.82, \"Timestamp\": \"2024-10-03 19:46:52\"}, {\"Name\": \"Red Drake\", \"Type\": \"Dragon\", \"Level\": 3, \"Rarity\": \"Rank 1\", \"Damage\": \"3d4+1\", \"Health\": 10.09, \"Energy\": 11.56, \"Sanity\": 11.85, \"Timestamp\": \"2024-10-03 19:46:52\"}, {\"Name\": \"Emerald Demon\", \"Type\": \"Demonic\", \"Level\": 7, \"Rarity\": \"Rank 0\", \"Damage\": \"7d2+2\", \"Health\": 13.67, \"Energy\": 13.16, \"Sanity\": 13.32, \"Timestamp\": \"2024-10-03 19:46:52\"}, {\"Name\": \"Prince of Fear\", \"Type\": \"Devilkin\", \"Level\": 3, \"Rarity\": \"Rank 1\", \"Damage\": \"3d4\", \"Health\": 11.7, \"Energy\": 11.8, \"Sanity\": 12.32, \"Timestamp\": \"2024-10-03 19:46:52\"}, {\"Name\": \"Sapphire Dragon\", \"Type\": \"Dragon\", \"Level\": 6, \"Rarity\": \"Rank 3\", \"Damage\": \"6d8+1\", \"Health\": 49.83, \"Energy\": 47.42, \"Sanity\": 49.25, \"Timestamp\": \"2024-10-03 19:46:52\"}, {\"Name\": \"White Demon\", \"Type\": \"Demonic\", \"Level\": 6, \"Rarity\": \"Rank 2\", \"Damage\": \"6d6\", \"Health\": 36.94, \"Energy\": 36.5, \"Sanity\": 34.16, \"Timestamp\": \"2024-10-03 19:46:52\"}, {\"Name\": \"Brass Faerie\", \"Type\": \"Fey\", \"Level\": 12, \"Rarity\": \"Rank 4\", \"Damage\": \"12d10+4\", \"Health\": 120.19, \"Energy\": 116.14, \"Sanity\": 116.98, \"Timestamp\": \"2024-10-03 19:46:52\"}, {\"Name\": \"Djinni\", \"Type\": \"Elemental\", \"Level\": 14, \"Rarity\": \"Rank 1\", \"Damage\": \"14d4+1\", \"Health\": 55.45, \"Energy\": 54.15, \"Sanity\": 54.92, \"Timestamp\": \"2024-10-03 19:46:52\"}, {\"Name\": \"Ghast\", \"Type\": \"Undead\", \"Level\": 4, \"Rarity\": \"Rank 1\", \"Damage\": \"4d4\", \"Health\": 15.43, \"Energy\": 14.25, \"Sanity\": 15.93, \"Timestamp\": \"2024-10-03 19:46:52\"}, {\"Name\": \"Pit Lord\", \"Type\": \"Devilkin\", \"Level\": 16, \"Rarity\": \"Rank 0\", \"Damage\": \"16d2+3\", \"Health\": 31.29, \"Energy\": 32.33, \"Sanity\": 32.71, \"Timestamp\": \"2024-10-03 19:46:52\"}, {\"Name\": \"Diamond Wyrmling\", \"Type\": \"Dragon\", \"Level\": 3, \"Rarity\": \"Rank 3\", \"Damage\": \"3d8\", \"Health\": 22.31, \"Energy\": 22.66, \"Sanity\": 25.69, \"Timestamp\": \"2024-10-03 19:46:52\"}, {\"Name\": \"Nightmare\", \"Type\": \"Demonic\", \"Level\": 5, \"Rarity\": \"Rank 2\", \"Damage\": \"5d6+2\", \"Health\": 31.15, \"Energy\": 32.41, \"Sanity\": 28.72, \"Timestamp\": \"2024-10-03 19:46:52\"}, {\"Name\": \"Sapphire Faerie\", \"Type\": \"Fey\", \"Level\": 4, \"Rarity\": \"Rank 3\", \"Damage\": \"4d8\", \"Health\": 28.36, \"Energy\": 33.1, \"Sanity\": 32.6, \"Timestamp\": \"2024-10-03 19:46:52\"}, {\"Name\": \"Flame Elemental\", \"Type\": \"Elemental\", \"Level\": 3, \"Rarity\": \"Rank 0\", \"Damage\": \"3d2+2\", \"Health\": 5.86, \"Energy\": 5.54, \"Sanity\": 5.1, \"Timestamp\": \"2024-10-03 19:46:52\"}, {\"Name\": \"Pseudodragon\", \"Type\": \"Dragon\", \"Level\": 7, \"Rarity\": \"Rank 1\", \"Damage\": \"7d4+1\", \"Health\": 29.2, \"Energy\": 26.96, \"Sanity\": 27.35, \"Timestamp\": \"2024-10-03 19:46:52\"}, {\"Name\": \"Quasit\", \"Type\": \"Demonic\", \"Level\": 8, \"Rarity\": \"Rank 3\", \"Damage\": \"8d8\", \"Health\": 62.49, \"Energy\": 66.16, \"Sanity\": 65.03, \"Timestamp\": \"2024-10-03 19:46:52\"}, {\"Name\": \"Efreeti\", \"Type\": \"Elemental\", \"Level\": 6, \"Rarity\": \"Rank 2\", \"Damage\": \"6d6\", \"Health\": 37.31, \"Energy\": 33.36, \"Sanity\": 36.79, \"Timestamp\": \"2024-10-03 19:46:52\"}, {\"Name\": \"Poltergeist\", \"Type\": \"Undead\", \"Level\": 3, \"Rarity\": \"Rank 1\", \"Damage\": \"3d4\", \"Health\": 12.12, \"Energy\": 11.28, \"Sanity\": 12.98, \"Timestamp\": \"2024-10-03 19:46:52\"}, {\"Name\": \"Ice Devil\", \"Type\": \"Devilkin\", \"Level\": 5, \"Rarity\": \"Rank 0\", \"Damage\": \"5d2\", \"Health\": 9.87, \"Energy\": 9.97, \"Sanity\": 9.5, \"Timestamp\": \"2024-10-03 19:46:52\"}, {\"Name\": \"Mummy Lord\", \"Type\": \"Undead\", \"Level\": 10, \"Rarity\": \"Rank 1\", \"Damage\": \"10d4+2\", \"Health\": 38.55, \"Energy\": 39.43, \"Sanity\": 39.9, \"Timestamp\": \"2024-10-03 19:46:52\"}, {\"Name\": \"Smoke Spirit\", \"Type\": \"Fey\", \"Level\": 6, \"Rarity\": \"Rank 1\", \"Damage\": \"6d4+3\", \"Health\": 23.98, \"Energy\": 24.5, \"Sanity\": 24.52, \"Timestamp\": \"2024-10-03 19:46:52\"}, {\"Name\": \"Steam Mephit\", \"Type\": \"Elemental\", \"Level\": 6, \"Rarity\": \"Rank 1\", \"Damage\": \"6d4+1\", \"Health\": 23.58, \"Energy\": 24.47, \"Sanity\": 24.93, \"Timestamp\": \"2024-10-03 19:46:52\"}, {\"Name\": \"Mummy\", \"Type\": \"Undead\", \"Level\": 8, \"Rarity\": \"Rank 1\", \"Damage\": \"8d4+2\", \"Health\": 31.08, \"Energy\": 32.52, \"Sanity\": 33.55, \"Timestamp\": \"2024-10-03 19:46:52\"}, {\"Name\": \"Balor\", \"Type\": \"Demonic\", \"Level\": 8, \"Rarity\": \"Rank 1\", \"Damage\": \"8d4+1\", \"Health\": 33.03, \"Energy\": 32.29, \"Sanity\": 31.65, \"Timestamp\": \"2024-10-03 19:46:52\"}, {\"Name\": \"Efreeti\", \"Type\": \"Elemental\", \"Level\": 10, \"Rarity\": \"Rank 2\", \"Damage\": \"10d6+1\", \"Health\": 59.57, \"Energy\": 57.56, \"Sanity\": 61.11, \"Timestamp\": \"2024-10-03 19:46:52\"}, {\"Name\": \"Banshee\", \"Type\": \"Undead\", \"Level\": 14, \"Rarity\": \"Rank 1\", \"Damage\": \"14d4\", \"Health\": 56.34, \"Energy\": 55.86, \"Sanity\": 56.44, \"Timestamp\": \"2024-10-03 19:46:52\"}, {\"Name\": \"Goblin Guard\", \"Type\": \"Devilkin\", \"Level\": 14, \"Rarity\": \"Rank 3\", \"Damage\": \"14d8+2\", \"Health\": 110.42, \"Energy\": 115.38, \"Sanity\": 111.23, \"Timestamp\": \"2024-10-03 19:46:52\"}, {\"Name\": \"Faerie Dragon\", \"Type\": \"Dragon\", \"Level\": 6, \"Rarity\": \"Rank 2\", \"Damage\": \"6d6+1\", \"Health\": 38.13, \"Energy\": 36.88, \"Sanity\": 36.26, \"Timestamp\": \"2024-10-03 19:46:52\"}, {\"Name\": \"Green Faerie\", \"Type\": \"Fey\", \"Level\": 2, \"Rarity\": \"Rank 0\", \"Damage\": \"2d2\", \"Health\": 3.52, \"Energy\": 4.49, \"Sanity\": 3.04, \"Timestamp\": \"2024-10-03 19:46:52\"}, {\"Name\": \"Djinni\", \"Type\": \"Elemental\", \"Level\": 3, \"Rarity\": \"Rank 4\", \"Damage\": \"3d10\", \"Health\": 26.8, \"Energy\": 34.03, \"Sanity\": 30.42, \"Timestamp\": \"2024-10-03 19:46:52\"}, {\"Name\": \"Lich\", \"Type\": \"Undead\", \"Level\": 14, \"Rarity\": \"Rank 5\", \"Damage\": \"14d12+2\", \"Health\": 172.43, \"Energy\": 167.46, \"Sanity\": 163.26, \"Timestamp\": \"2024-10-03 19:46:52\"}, {\"Name\": \"Copper Faerie\", \"Type\": \"Fey\", \"Level\": 17, \"Rarity\": \"Rank 1\", \"Damage\": \"17d4+1\", \"Health\": 66.45, \"Energy\": 69.52, \"Sanity\": 68.25, \"Timestamp\": \"2024-10-03 19:46:52\"}, {\"Name\": \"Efreeti\", \"Type\": \"Elemental\", \"Level\": 7, \"Rarity\": \"Rank 1\", \"Damage\": \"7d4+2\", \"Health\": 29.7, \"Energy\": 27.24, \"Sanity\": 27.43, \"Timestamp\": \"2024-10-03 19:46:52\"}, {\"Name\": \"Vampire\", \"Type\": \"Undead\", \"Level\": 10, \"Rarity\": \"Rank 0\", \"Damage\": \"10d2+2\", \"Health\": 20.51, \"Energy\": 20.4, \"Sanity\": 20.51, \"Timestamp\": \"2024-10-03 19:46:52\"}, {\"Name\": \"Hell Hound\", \"Type\": \"Demonic\", \"Level\": 12, \"Rarity\": \"Rank 0\", \"Damage\": \"12d2+3\", \"Health\": 23.96, \"Energy\": 24.84, \"Sanity\": 24.41, \"Timestamp\": \"2024-10-03 19:46:52\"}, {\"Name\": \"Spore Elemental\", \"Type\": \"Elemental\", \"Level\": 6, \"Rarity\": \"Rank 0\", \"Damage\": \"6d2+3\", \"Health\": 12.85, \"Energy\": 12.87, \"Sanity\": 11.19, \"Timestamp\": \"2024-10-03 19:46:52\"}, {\"Name\": \"Death Knight\", \"Type\": \"Undead\", \"Level\": 9, \"Rarity\": \"Rank 1\", \"Damage\": \"9d4\", \"Health\": 37.63, \"Energy\": 38.0, \"Sanity\": 36.98, \"Timestamp\": \"2024-10-03 19:46:52\"}, {\"Name\": \"Imp\", \"Type\": \"Demonic\", \"Level\": 13, \"Rarity\": \"Rank 1\", \"Damage\": \"13d4+4\", \"Health\": 52.98, \"Energy\": 52.6, \"Sanity\": 50.43, \"Timestamp\": \"2024-10-03 19:46:52\"}, {\"Name\": \"Mud Mephit\", \"Type\": \"Elemental\", \"Level\": 3, \"Rarity\": \"Rank 0\", \"Damage\": \"3d2+3\", \"Health\": 5.09, \"Energy\": 5.67, \"Sanity\": 6.03, \"Timestamp\": \"2024-10-03 19:46:52\"}, {\"Name\": \"Hell Hound\", \"Type\": \"Demonic\", \"Level\": 9, \"Rarity\": \"Rank 0\", \"Damage\": \"9d2\", \"Health\": 17.62, \"Energy\": 18.04, \"Sanity\": 17.45, \"Timestamp\": \"2024-10-03 19:46:52\"}, {\"Name\": \"Succubus\", \"Type\": \"Devilkin\", \"Level\": 8, \"Rarity\": \"Rank 0\", \"Damage\": \"8d2+3\", \"Health\": 15.99, \"Energy\": 16.77, \"Sanity\": 15.49, \"Timestamp\": \"2024-10-03 19:46:52\"}, {\"Name\": \"Wyvern\", \"Type\": \"Dragon\", \"Level\": 10, \"Rarity\": \"Rank 0\", \"Damage\": \"10d2+3\", \"Health\": 20.9, \"Energy\": 19.39, \"Sanity\": 19.96, \"Timestamp\": \"2024-10-03 19:46:52\"}, {\"Name\": \"Mummy\", \"Type\": \"Undead\", \"Level\": 6, \"Rarity\": \"Rank 3\", \"Damage\": \"6d8+1\", \"Health\": 44.43, \"Energy\": 46.77, \"Sanity\": 45.34, \"Timestamp\": \"2024-10-03 19:46:52\"}, {\"Name\": \"Flame Archfey\", \"Type\": \"Fey\", \"Level\": 18, \"Rarity\": \"Rank 4\", \"Damage\": \"18d10+3\", \"Health\": 178.07, \"Energy\": 179.25, \"Sanity\": 181.21, \"Timestamp\": \"2024-10-03 19:46:52\"}, {\"Name\": \"Efreeti\", \"Type\": \"Elemental\", \"Level\": 3, \"Rarity\": \"Rank 2\", \"Damage\": \"3d6+1\", \"Health\": 17.84, \"Energy\": 16.5, \"Sanity\": 17.42, \"Timestamp\": \"2024-10-03 19:46:52\"}, {\"Name\": \"Skeletal Archer\", \"Type\": \"Undead\", \"Level\": 14, \"Rarity\": \"Rank 0\", \"Damage\": \"14d2+2\", \"Health\": 28.19, \"Energy\": 28.87, \"Sanity\": 27.94, \"Timestamp\": \"2024-10-03 19:46:52\"}, {\"Name\": \"Spore Devil\", \"Type\": \"Devilkin\", \"Level\": 8, \"Rarity\": \"Rank 3\", \"Damage\": \"8d8+3\", \"Health\": 62.73, \"Energy\": 61.97, \"Sanity\": 61.92, \"Timestamp\": \"2024-10-03 19:46:52\"}, {\"Name\": \"Efreeti\", \"Type\": \"Elemental\", \"Level\": 13, \"Rarity\": \"Rank 0\", \"Damage\": \"13d2+2\", \"Health\": 26.46, \"Energy\": 25.07, \"Sanity\": 25.04, \"Timestamp\": \"2024-10-03 19:46:52\"}, {\"Name\": \"Vampire\", \"Type\": \"Undead\", \"Level\": 3, \"Rarity\": \"Rank 2\", \"Damage\": \"3d6+3\", \"Health\": 19.3, \"Energy\": 20.13, \"Sanity\": 18.28, \"Timestamp\": \"2024-10-03 19:46:52\"}, {\"Name\": \"Ruby Archfey\", \"Type\": \"Fey\", \"Level\": 1, \"Rarity\": \"Rank 1\", \"Damage\": \"1d4+2\", \"Health\": 5.47, \"Energy\": 5.47, \"Sanity\": 3.99, \"Timestamp\": \"2024-10-03 19:46:52\"}, {\"Name\": \"Prismatic Wyrmling\", \"Type\": \"Dragon\", \"Level\": 5, \"Rarity\": \"Rank 2\", \"Damage\": \"5d6+1\", \"Health\": 29.14, \"Energy\": 31.49, \"Sanity\": 31.52, \"Timestamp\": \"2024-10-03 19:46:52\"}, {\"Name\": \"Hell Hound\", \"Type\": \"Demonic\", \"Level\": 5, \"Rarity\": \"Rank 3\", \"Damage\": \"5d8+1\", \"Health\": 38.22, \"Energy\": 42.83, \"Sanity\": 40.0, \"Timestamp\": \"2024-10-03 19:46:52\"}, {\"Name\": \"Djinni\", \"Type\": \"Elemental\", \"Level\": 6, \"Rarity\": \"Rank 2\", \"Damage\": \"6d6+3\", \"Health\": 36.28, \"Energy\": 36.41, \"Sanity\": 37.05, \"Timestamp\": \"2024-10-03 19:46:52\"}, {\"Name\": \"Lich King\", \"Type\": \"Undead\", \"Level\": 1, \"Rarity\": \"Rank 1\", \"Damage\": \"1d4\", \"Health\": 3.94, \"Energy\": 3.32, \"Sanity\": 2.36, \"Timestamp\": \"2024-10-03 19:46:52\"}, {\"Name\": \"Onyx Faerie\", \"Type\": \"Fey\", \"Level\": 6, \"Rarity\": \"Rank 3\", \"Damage\": \"6d8+4\", \"Health\": 49.41, \"Energy\": 49.15, \"Sanity\": 46.27, \"Timestamp\": \"2024-10-03 19:46:52\"}, {\"Name\": \"Diamond Wyrmling\", \"Type\": \"Dragon\", \"Level\": 10, \"Rarity\": \"Rank 2\", \"Damage\": \"10d6+4\", \"Health\": 58.46, \"Energy\": 57.73, \"Sanity\": 59.72, \"Timestamp\": \"2024-10-03 19:46:52\"}, {\"Name\": \"Prismatic Faerie\", \"Type\": \"Fey\", \"Level\": 18, \"Rarity\": \"Rank 0\", \"Damage\": \"18d2\", \"Health\": 35.66, \"Energy\": 35.41, \"Sanity\": 36.81, \"Timestamp\": \"2024-10-03 19:46:52\"}, {\"Name\": \"Magma Mephit\", \"Type\": \"Elemental\", \"Level\": 5, \"Rarity\": \"Rank 0\", \"Damage\": \"5d2+1\", \"Health\": 10.7, \"Energy\": 9.84, \"Sanity\": 10.81, \"Timestamp\": \"2024-10-03 19:46:52\"}, {\"Name\": \"Night Hag\", \"Type\": \"Demonic\", \"Level\": 6, \"Rarity\": \"Rank 3\", \"Damage\": \"6d8+4\", \"Health\": 47.34, \"Energy\": 48.25, \"Sanity\": 47.94, \"Timestamp\": \"2024-10-03 19:46:52\"}, {\"Name\": \"Pit Lord\", \"Type\": \"Devilkin\", \"Level\": 12, \"Rarity\": \"Rank 1\", \"Damage\": \"12d4+1\", \"Health\": 48.67, \"Energy\": 47.46, \"Sanity\": 49.04, \"Timestamp\": \"2024-10-03 19:46:52\"}, {\"Name\": \"Mummy Lord\", \"Type\": \"Undead\", \"Level\": 6, \"Rarity\": \"Rank 1\", \"Damage\": \"6d4\", \"Health\": 23.41, \"Energy\": 23.2, \"Sanity\": 24.27, \"Timestamp\": \"2024-10-03 19:46:52\"}, {\"Name\": \"Quasit\", \"Type\": \"Demonic\", \"Level\": 4, \"Rarity\": \"Rank 1\", \"Damage\": \"4d4+2\", \"Health\": 16.17, \"Energy\": 15.43, \"Sanity\": 14.97, \"Timestamp\": \"2024-10-03 19:46:52\"}, {\"Name\": \"Kobold Knight\", \"Type\": \"Devilkin\", \"Level\": 4, \"Rarity\": \"Rank 0\", \"Damage\": \"4d2\", \"Health\": 8.38, \"Energy\": 7.58, \"Sanity\": 8.72, \"Timestamp\": \"2024-10-03 19:46:52\"}, {\"Name\": \"Wight\", \"Type\": \"Undead\", \"Level\": 4, \"Rarity\": \"Rank 3\", \"Damage\": \"4d8+3\", \"Health\": 34.8, \"Energy\": 30.37, \"Sanity\": 31.22, \"Timestamp\": \"2024-10-03 19:46:52\"}, {\"Name\": \"Shadow Spirit\", \"Type\": \"Fey\", \"Level\": 7, \"Rarity\": \"Rank 0\", \"Damage\": \"7d2+1\", \"Health\": 13.56, \"Energy\": 13.91, \"Sanity\": 14.44, \"Timestamp\": \"2024-10-03 19:46:52\"}, {\"Name\": \"Black Wyrmling\", \"Type\": \"Dragon\", \"Level\": 4, \"Rarity\": \"Rank 0\", \"Damage\": \"4d2\", \"Health\": 8.38, \"Energy\": 8.99, \"Sanity\": 8.72, \"Timestamp\": \"2024-10-03 19:46:52\"}, {\"Name\": \"Night Hag\", \"Type\": \"Demonic\", \"Level\": 7, \"Rarity\": \"Rank 0\", \"Damage\": \"7d2\", \"Health\": 14.51, \"Energy\": 13.14, \"Sanity\": 14.75, \"Timestamp\": \"2024-10-03 19:46:52\"}, {\"Name\": \"Succubus\", \"Type\": \"Devilkin\", \"Level\": 5, \"Rarity\": \"Rank 0\", \"Damage\": \"5d2+1\", \"Health\": 10.13, \"Energy\": 9.77, \"Sanity\": 10.4, \"Timestamp\": \"2024-10-03 19:46:52\"}, {\"Name\": \"Gold Drake\", \"Type\": \"Dragon\", \"Level\": 6, \"Rarity\": \"Rank 0\", \"Damage\": \"6d2+1\", \"Health\": 11.28, \"Energy\": 11.41, \"Sanity\": 12.49, \"Timestamp\": \"2024-10-03 19:46:52\"}, {\"Name\": \"Hell Hound\", \"Type\": \"Demonic\", \"Level\": 11, \"Rarity\": \"Rank 1\", \"Damage\": \"11d4\", \"Health\": 43.17, \"Energy\": 42.42, \"Sanity\": 43.37, \"Timestamp\": \"2024-10-03 19:46:52\"}, {\"Name\": \"Goblin Villager\", \"Type\": \"Devilkin\", \"Level\": 3, \"Rarity\": \"Rank 1\", \"Damage\": \"3d4+1\", \"Health\": 11.06, \"Energy\": 12.56, \"Sanity\": 13.08, \"Timestamp\": \"2024-10-03 19:46:52\"}, {\"Name\": \"Pseudodragon\", \"Type\": \"Dragon\", \"Level\": 4, \"Rarity\": \"Rank 4\", \"Damage\": \"4d10\", \"Health\": 35.79, \"Energy\": 44.32, \"Sanity\": 40.54, \"Timestamp\": \"2024-10-03 19:46:52\"}, {\"Name\": \"Quasit\", \"Type\": \"Demonic\", \"Level\": 15, \"Rarity\": \"Rank 1\", \"Damage\": \"15d4+5\", \"Health\": 59.97, \"Energy\": 61.41, \"Sanity\": 60.39, \"Timestamp\": \"2024-10-03 19:46:52\"}, {\"Name\": \"Incubus\", \"Type\": \"Devilkin\", \"Level\": 1, \"Rarity\": \"Rank 0\", \"Damage\": \"1d2+3\", \"Health\": 2.6, \"Energy\": 1.95, \"Sanity\": 2.3, \"Timestamp\": \"2024-10-03 19:46:52\"}, {\"Name\": \"Emerald Dragon\", \"Type\": \"Dragon\", \"Level\": 8, \"Rarity\": \"Rank 1\", \"Damage\": \"8d4\", \"Health\": 32.84, \"Energy\": 32.06, \"Sanity\": 31.97, \"Timestamp\": \"2024-10-03 19:46:52\"}, {\"Name\": \"Green Faerie\", \"Type\": \"Fey\", \"Level\": 6, \"Rarity\": \"Rank 5\", \"Damage\": \"6d12\", \"Health\": 70.27, \"Energy\": 67.13, \"Sanity\": 71.86, \"Timestamp\": \"2024-10-03 19:46:52\"}, {\"Name\": \"Pseudodragon\", \"Type\": \"Dragon\", \"Level\": 3, \"Rarity\": \"Rank 2\", \"Damage\": \"3d6+3\", \"Health\": 17.01, \"Energy\": 19.17, \"Sanity\": 18.01, \"Timestamp\": \"2024-10-03 19:46:52\"}, {\"Name\": \"Quasit\", \"Type\": \"Demonic\", \"Level\": 15, \"Rarity\": \"Rank 1\", \"Damage\": \"15d4\", \"Health\": 61.09, \"Energy\": 58.23, \"Sanity\": 60.73, \"Timestamp\": \"2024-10-03 19:46:52\"}, {\"Name\": \"Dust Spirit\", \"Type\": \"Fey\", \"Level\": 19, \"Rarity\": \"Rank 2\", \"Damage\": \"19d6+3\", \"Health\": 112.9, \"Energy\": 115.32, \"Sanity\": 112.2, \"Timestamp\": \"2024-10-03 19:46:52\"}, {\"Name\": \"Kobold Mage\", \"Type\": \"Devilkin\", \"Level\": 6, \"Rarity\": \"Rank 2\", \"Damage\": \"6d6+2\", \"Health\": 36.54, \"Energy\": 34.17, \"Sanity\": 34.45, \"Timestamp\": \"2024-10-03 19:46:52\"}, {\"Name\": \"Faerie Dragon\", \"Type\": \"Dragon\", \"Level\": 9, \"Rarity\": \"Rank 0\", \"Damage\": \"9d2\", \"Health\": 17.89, \"Energy\": 18.11, \"Sanity\": 18.02, \"Timestamp\": \"2024-10-03 19:46:52\"}, {\"Name\": \"Flame Archfey\", \"Type\": \"Fey\", \"Level\": 11, \"Rarity\": \"Rank 1\", \"Damage\": \"11d4+2\", \"Health\": 43.1, \"Energy\": 44.34, \"Sanity\": 44.91, \"Timestamp\": \"2024-10-03 19:46:52\"}, {\"Name\": \"Succubus\", \"Type\": \"Devilkin\", \"Level\": 10, \"Rarity\": \"Rank 1\", \"Damage\": \"10d4+3\", \"Health\": 39.09, \"Energy\": 39.87, \"Sanity\": 39.33, \"Timestamp\": \"2024-10-03 19:46:52\"}, {\"Name\": \"Black Wyrmling\", \"Type\": \"Dragon\", \"Level\": 4, \"Rarity\": \"Rank 0\", \"Damage\": \"4d2+3\", \"Health\": 7.67, \"Energy\": 8.54, \"Sanity\": 8.26, \"Timestamp\": \"2024-10-03 19:46:52\"}, {\"Name\": \"Nightmare\", \"Type\": \"Demonic\", \"Level\": 6, \"Rarity\": \"Rank 5\", \"Damage\": \"6d12\", \"Health\": 77.04, \"Energy\": 77.55, \"Sanity\": 74.93, \"Timestamp\": \"2024-10-03 19:46:52\"}, {\"Name\": \"Magma Devil\", \"Type\": \"Devilkin\", \"Level\": 7, \"Rarity\": \"Rank 1\", \"Damage\": \"7d4+2\", \"Health\": 29.15, \"Energy\": 28.82, \"Sanity\": 28.35, \"Timestamp\": \"2024-10-03 19:46:52\"}, {\"Name\": \"Red Drake\", \"Type\": \"Dragon\", \"Level\": 6, \"Rarity\": \"Rank 1\", \"Damage\": \"6d4+5\", \"Health\": 22.81, \"Energy\": 24.74, \"Sanity\": 23.63, \"Timestamp\": \"2024-10-03 19:46:52\"}, {\"Name\": \"Sapphire Faerie\", \"Type\": \"Fey\", \"Level\": 7, \"Rarity\": \"Rank 3\", \"Damage\": \"7d8+4\", \"Health\": 57.07, \"Energy\": 57.91, \"Sanity\": 57.9, \"Timestamp\": \"2024-10-03 19:46:52\"}, {\"Name\": \"Smoke Elemental\", \"Type\": \"Elemental\", \"Level\": 12, \"Rarity\": \"Rank 0\", \"Damage\": \"12d2+4\", \"Health\": 23.04, \"Energy\": 24.32, \"Sanity\": 24.57, \"Timestamp\": \"2024-10-03 19:46:52\"}, {\"Name\": \"Wyvern\", \"Type\": \"Dragon\", \"Level\": 8, \"Rarity\": \"Rank 0\", \"Damage\": \"8d2+3\", \"Health\": 16.53, \"Energy\": 15.77, \"Sanity\": 16.02, \"Timestamp\": \"2024-10-03 19:46:52\"}, {\"Name\": \"Silver Archfey\", \"Type\": \"Fey\", \"Level\": 3, \"Rarity\": \"Rank 1\", \"Damage\": \"3d4+1\", \"Health\": 11.29, \"Energy\": 12.06, \"Sanity\": 11.08, \"Timestamp\": \"2024-10-03 19:46:52\"}, {\"Name\": \"Efreeti\", \"Type\": \"Elemental\", \"Level\": 4, \"Rarity\": \"Rank 2\", \"Damage\": \"4d6+1\", \"Health\": 23.98, \"Energy\": 23.94, \"Sanity\": 23.63, \"Timestamp\": \"2024-10-03 19:46:52\"}, {\"Name\": \"Pseudodragon\", \"Type\": \"Dragon\", \"Level\": 9, \"Rarity\": \"Rank 1\", \"Damage\": \"9d4+5\", \"Health\": 36.81, \"Energy\": 34.11, \"Sanity\": 34.6, \"Timestamp\": \"2024-10-03 19:46:52\"}, {\"Name\": \"Imp\", \"Type\": \"Demonic\", \"Level\": 2, \"Rarity\": \"Rank 0\", \"Damage\": \"2d2\", \"Health\": 4.52, \"Energy\": 3.94, \"Sanity\": 4.0, \"Timestamp\": \"2024-10-03 19:46:52\"}, {\"Name\": \"Incubus\", \"Type\": \"Devilkin\", \"Level\": 15, \"Rarity\": \"Rank 1\", \"Damage\": \"15d4\", \"Health\": 59.23, \"Energy\": 61.23, \"Sanity\": 58.83, \"Timestamp\": \"2024-10-03 19:46:52\"}, {\"Name\": \"Wyvern\", \"Type\": \"Dragon\", \"Level\": 9, \"Rarity\": \"Rank 2\", \"Damage\": \"9d6\", \"Health\": 51.48, \"Energy\": 54.77, \"Sanity\": 53.24, \"Timestamp\": \"2024-10-03 19:46:52\"}, {\"Name\": \"Imp\", \"Type\": \"Demonic\", \"Level\": 9, \"Rarity\": \"Rank 3\", \"Damage\": \"9d8\", \"Health\": 74.39, \"Energy\": 73.78, \"Sanity\": 69.35, \"Timestamp\": \"2024-10-03 19:46:52\"}, {\"Name\": \"Dust Mephit\", \"Type\": \"Elemental\", \"Level\": 7, \"Rarity\": \"Rank 1\", \"Damage\": \"7d4\", \"Health\": 28.42, \"Energy\": 28.17, \"Sanity\": 26.03, \"Timestamp\": \"2024-10-03 19:46:52\"}, {\"Name\": \"Blue Drake\", \"Type\": \"Dragon\", \"Level\": 5, \"Rarity\": \"Rank 4\", \"Damage\": \"5d10\", \"Health\": 50.14, \"Energy\": 53.83, \"Sanity\": 52.03, \"Timestamp\": \"2024-10-03 19:46:52\"}, {\"Name\": \"Quasit\", \"Type\": \"Demonic\", \"Level\": 12, \"Rarity\": \"Rank 0\", \"Damage\": \"12d2+4\", \"Health\": 23.11, \"Energy\": 24.41, \"Sanity\": 24.65, \"Timestamp\": \"2024-10-03 19:46:52\"}, {\"Name\": \"Succubus\", \"Type\": \"Devilkin\", \"Level\": 15, \"Rarity\": \"Rank 5\", \"Damage\": \"15d12+1\", \"Health\": 178.78, \"Energy\": 178.17, \"Sanity\": 177.34, \"Timestamp\": \"2024-10-03 19:46:52\"}, {\"Name\": \"Efreeti\", \"Type\": \"Elemental\", \"Level\": 4, \"Rarity\": \"Rank 1\", \"Damage\": \"4d4+1\", \"Health\": 15.91, \"Energy\": 16.49, \"Sanity\": 16.91, \"Timestamp\": \"2024-10-03 19:46:52\"}, {\"Name\": \"Lich\", \"Type\": \"Undead\", \"Level\": 11, \"Rarity\": \"Rank 3\", \"Damage\": \"11d8+4\", \"Health\": 86.48, \"Energy\": 88.61, \"Sanity\": 91.71, \"Timestamp\": \"2024-10-03 19:46:52\"}, {\"Name\": \"White Faerie\", \"Type\": \"Fey\", \"Level\": 15, \"Rarity\": \"Rank 5\", \"Damage\": \"15d12\", \"Health\": 175.3, \"Energy\": 179.48, \"Sanity\": 185.82, \"Timestamp\": \"2024-10-03 19:46:52\"}, {\"Name\": \"Djinni\", \"Type\": \"Elemental\", \"Level\": 7, \"Rarity\": \"Rank 1\", \"Damage\": \"7d4\", \"Health\": 26.73, \"Energy\": 27.87, \"Sanity\": 28.24, \"Timestamp\": \"2024-10-03 19:46:52\"}, {\"Name\": \"Wraith\", \"Type\": \"Undead\", \"Level\": 7, \"Rarity\": \"Rank 4\", \"Damage\": \"7d10\", \"Health\": 71.31, \"Energy\": 69.98, \"Sanity\": 66.75, \"Timestamp\": \"2024-10-03 19:46:52\"}, {\"Name\": \"Night Hag\", \"Type\": \"Demonic\", \"Level\": 18, \"Rarity\": \"Rank 0\", \"Damage\": \"18d2+5\", \"Health\": 36.07, \"Energy\": 35.76, \"Sanity\": 35.35, \"Timestamp\": \"2024-10-03 19:46:52\"}, {\"Name\": \"Goblin Guard\", \"Type\": \"Devilkin\", \"Level\": 11, \"Rarity\": \"Rank 3\", \"Damage\": \"11d8+4\", \"Health\": 85.11, \"Energy\": 86.91, \"Sanity\": 89.05, \"Timestamp\": \"2024-10-03 19:46:52\"}, {\"Name\": \"Ice Elemental\", \"Type\": \"Elemental\", \"Level\": 10, \"Rarity\": \"Rank 0\", \"Damage\": \"10d2+2\", \"Health\": 20.4, \"Energy\": 20.75, \"Sanity\": 20.55, \"Timestamp\": \"2024-10-03 19:46:52\"}, {\"Name\": \"Ghostly Archer\", \"Type\": \"Undead\", \"Level\": 14, \"Rarity\": \"Rank 0\", \"Damage\": \"14d2\", \"Health\": 27.65, \"Energy\": 27.59, \"Sanity\": 28.11, \"Timestamp\": \"2024-10-03 19:46:52\"}, {\"Name\": \"Shadow Spirit\", \"Type\": \"Fey\", \"Level\": 4, \"Rarity\": \"Rank 2\", \"Damage\": \"4d6+1\", \"Health\": 22.84, \"Energy\": 24.4, \"Sanity\": 22.12, \"Timestamp\": \"2024-10-03 19:46:52\"}, {\"Name\": \"Efreeti\", \"Type\": \"Elemental\", \"Level\": 14, \"Rarity\": \"Rank 0\", \"Damage\": \"14d2+1\", \"Health\": 27.1, \"Energy\": 28.62, \"Sanity\": 28.4, \"Timestamp\": \"2024-10-03 19:46:52\"}, {\"Name\": \"Ghostly Knight\", \"Type\": \"Undead\", \"Level\": 2, \"Rarity\": \"Rank 0\", \"Damage\": \"2d2+3\", \"Health\": 3.05, \"Energy\": 4.88, \"Sanity\": 4.98, \"Timestamp\": \"2024-10-03 19:46:52\"}, {\"Name\": \"Lightning Archfey\", \"Type\": \"Fey\", \"Level\": 17, \"Rarity\": \"Rank 1\", \"Damage\": \"17d4\", \"Health\": 69.11, \"Energy\": 68.34, \"Sanity\": 67.7, \"Timestamp\": \"2024-10-03 19:46:52\"}, {\"Name\": \"Prince of Fear\", \"Type\": \"Devilkin\", \"Level\": 7, \"Rarity\": \"Rank 3\", \"Damage\": \"7d8+1\", \"Health\": 53.81, \"Energy\": 57.79, \"Sanity\": 55.58, \"Timestamp\": \"2024-10-03 19:46:52\"}, {\"Name\": \"Gold Dragon\", \"Type\": \"Dragon\", \"Level\": 12, \"Rarity\": \"Rank 2\", \"Damage\": \"12d6+3\", \"Health\": 73.21, \"Energy\": 71.99, \"Sanity\": 74.39, \"Timestamp\": \"2024-10-03 19:46:52\"}, {\"Name\": \"Pit Fiend\", \"Type\": \"Demonic\", \"Level\": 14, \"Rarity\": \"Rank 3\", \"Damage\": \"14d8+5\", \"Health\": 108.29, \"Energy\": 114.5, \"Sanity\": 113.85, \"Timestamp\": \"2024-10-03 19:46:52\"}, {\"Name\": \"Silver Archfey\", \"Type\": \"Fey\", \"Level\": 6, \"Rarity\": \"Rank 0\", \"Damage\": \"6d2+1\", \"Health\": 11.09, \"Energy\": 12.24, \"Sanity\": 12.82, \"Timestamp\": \"2024-10-03 19:46:52\"}, {\"Name\": \"Succubus\", \"Type\": \"Devilkin\", \"Level\": 8, \"Rarity\": \"Rank 0\", \"Damage\": \"8d2\", \"Health\": 16.89, \"Energy\": 15.6, \"Sanity\": 16.45, \"Timestamp\": \"2024-10-03 19:46:52\"}, {\"Name\": \"Pseudodragon\", \"Type\": \"Dragon\", \"Level\": 9, \"Rarity\": \"Rank 3\", \"Damage\": \"9d8+1\", \"Health\": 71.63, \"Energy\": 71.43, \"Sanity\": 72.08, \"Timestamp\": \"2024-10-03 19:46:52\"}, {\"Name\": \"Nightmare\", \"Type\": \"Demonic\", \"Level\": 6, \"Rarity\": \"Rank 0\", \"Damage\": \"6d2+3\", \"Health\": 11.29, \"Energy\": 12.14, \"Sanity\": 11.41, \"Timestamp\": \"2024-10-03 19:46:52\"}, {\"Name\": \"Smoke Spirit\", \"Type\": \"Fey\", \"Level\": 6, \"Rarity\": \"Rank 3\", \"Damage\": \"6d8+1\", \"Health\": 49.75, \"Energy\": 50.44, \"Sanity\": 46.38, \"Timestamp\": \"2024-10-03 19:46:52\"}, {\"Name\": \"Efreeti\", \"Type\": \"Elemental\", \"Level\": 1, \"Rarity\": \"Rank 3\", \"Damage\": \"1d8+1\", \"Health\": 8.45, \"Energy\": 8.57, \"Sanity\": 10.98, \"Timestamp\": \"2024-10-03 19:46:52\"}, {\"Name\": \"Nightmare\", \"Type\": \"Demonic\", \"Level\": 7, \"Rarity\": \"Rank 1\", \"Damage\": \"7d4+1\", \"Health\": 27.61, \"Energy\": 29.25, \"Sanity\": 29.15, \"Timestamp\": \"2024-10-03 19:46:52\"}, {\"Name\": \"Dust Devil\", \"Type\": \"Devilkin\", \"Level\": 4, \"Rarity\": \"Rank 2\", \"Damage\": \"4d6+1\", \"Health\": 23.97, \"Energy\": 22.27, \"Sanity\": 25.31, \"Timestamp\": \"2024-10-03 19:46:52\"}, {\"Name\": \"Ice Elemental\", \"Type\": \"Elemental\", \"Level\": 19, \"Rarity\": \"Rank 3\", \"Damage\": \"19d8+3\", \"Health\": 150.21, \"Energy\": 153.49, \"Sanity\": 148.36, \"Timestamp\": \"2024-10-03 19:46:52\"}, {\"Name\": \"Lich King\", \"Type\": \"Undead\", \"Level\": 14, \"Rarity\": \"Rank 0\", \"Damage\": \"14d2+4\", \"Health\": 27.09, \"Energy\": 27.59, \"Sanity\": 27.7, \"Timestamp\": \"2024-10-03 19:46:52\"}, {\"Name\": \"Magma Spirit\", \"Type\": \"Fey\", \"Level\": 2, \"Rarity\": \"Rank 4\", \"Damage\": \"2d10+4\", \"Health\": 20.76, \"Energy\": 16.01, \"Sanity\": 23.14, \"Timestamp\": \"2024-10-03 19:46:52\"}, {\"Name\": \"Djinni\", \"Type\": \"Elemental\", \"Level\": 10, \"Rarity\": \"Rank 0\", \"Damage\": \"10d2\", \"Health\": 19.72, \"Energy\": 19.66, \"Sanity\": 19.54, \"Timestamp\": \"2024-10-03 19:46:52\"}, {\"Name\": \"Ghast\", \"Type\": \"Undead\", \"Level\": 3, \"Rarity\": \"Rank 1\", \"Damage\": \"3d4+1\", \"Health\": 10.08, \"Energy\": 13.0, \"Sanity\": 13.82, \"Timestamp\": \"2024-10-03 19:46:52\"}, {\"Name\": \"Mud Devil\", \"Type\": \"Devilkin\", \"Level\": 6, \"Rarity\": \"Rank 3\", \"Damage\": \"6d8+3\", \"Health\": 44.91, \"Energy\": 50.43, \"Sanity\": 49.33, \"Timestamp\": \"2024-10-03 19:46:52\"}, {\"Name\": \"Blue Drake\", \"Type\": \"Dragon\", \"Level\": 8, \"Rarity\": \"Rank 0\", \"Damage\": \"8d2\", \"Health\": 15.44, \"Energy\": 15.04, \"Sanity\": 15.33, \"Timestamp\": \"2024-10-03 19:46:52\"}, {\"Name\": \"Dust Archfey\", \"Type\": \"Fey\", \"Level\": 5, \"Rarity\": \"Rank 0\", \"Damage\": \"5d2+3\", \"Health\": 10.78, \"Energy\": 9.74, \"Sanity\": 10.59, \"Timestamp\": \"2024-10-03 19:46:52\"}, {\"Name\": \"Pit Lord\", \"Type\": \"Devilkin\", \"Level\": 3, \"Rarity\": \"Rank 1\", \"Damage\": \"3d4+3\", \"Health\": 13.85, \"Energy\": 12.02, \"Sanity\": 11.66, \"Timestamp\": \"2024-10-03 19:46:52\"}, {\"Name\": \"Mummy\", \"Type\": \"Undead\", \"Level\": 6, \"Rarity\": \"Rank 3\", \"Damage\": \"6d8+4\", \"Health\": 50.99, \"Energy\": 45.71, \"Sanity\": 44.65, \"Timestamp\": \"2024-10-03 19:46:52\"}, {\"Name\": \"Brass Archfey\", \"Type\": \"Fey\", \"Level\": 7, \"Rarity\": \"Rank 4\", \"Damage\": \"7d10+1\", \"Health\": 73.45, \"Energy\": 71.31, \"Sanity\": 70.77, \"Timestamp\": \"2024-10-03 19:46:52\"}, {\"Name\": \"Faerie Dragon\", \"Type\": \"Dragon\", \"Level\": 5, \"Rarity\": \"Rank 1\", \"Damage\": \"5d4+1\", \"Health\": 20.19, \"Energy\": 19.42, \"Sanity\": 21.07, \"Timestamp\": \"2024-10-03 19:46:52\"}, {\"Name\": \"Diamond Faerie\", \"Type\": \"Fey\", \"Level\": 5, \"Rarity\": \"Rank 0\", \"Damage\": \"5d2\", \"Health\": 9.71, \"Energy\": 10.5, \"Sanity\": 10.3, \"Timestamp\": \"2024-10-03 19:46:52\"}, {\"Name\": \"Lightning Elemental\", \"Type\": \"Elemental\", \"Level\": 4, \"Rarity\": \"Rank 1\", \"Damage\": \"4d4+2\", \"Health\": 14.07, \"Energy\": 15.13, \"Sanity\": 17.31, \"Timestamp\": \"2024-10-03 19:46:52\"}, {\"Name\": \"Hook Horror\", \"Type\": \"Demonic\", \"Level\": 13, \"Rarity\": \"Rank 0\", \"Damage\": \"13d2\", \"Health\": 26.85, \"Energy\": 25.08, \"Sanity\": 25.59, \"Timestamp\": \"2024-10-03 19:46:52\"}, {\"Name\": \"Smoke Spirit\", \"Type\": \"Fey\", \"Level\": 5, \"Rarity\": \"Rank 0\", \"Damage\": \"5d2+2\", \"Health\": 10.08, \"Energy\": 10.12, \"Sanity\": 9.3, \"Timestamp\": \"2024-10-03 19:46:52\"}, {\"Name\": \"Efreeti\", \"Type\": \"Elemental\", \"Level\": 5, \"Rarity\": \"Rank 0\", \"Damage\": \"5d2+4\", \"Health\": 9.85, \"Energy\": 10.35, \"Sanity\": 10.25, \"Timestamp\": \"2024-10-03 19:46:52\"}, {\"Name\": \"Zombie Villager\", \"Type\": \"Undead\", \"Level\": 12, \"Rarity\": \"Rank 4\", \"Damage\": \"12d10+2\", \"Health\": 117.69, \"Energy\": 120.44, \"Sanity\": 119.99, \"Timestamp\": \"2024-10-03 19:46:52\"}, {\"Name\": \"Shadow Spirit\", \"Type\": \"Fey\", \"Level\": 7, \"Rarity\": \"Rank 1\", \"Damage\": \"7d4\", \"Health\": 26.67, \"Energy\": 28.47, \"Sanity\": 28.86, \"Timestamp\": \"2024-10-03 19:46:52\"}, {\"Name\": \"Flame Mephit\", \"Type\": \"Elemental\", \"Level\": 13, \"Rarity\": \"Rank 0\", \"Damage\": \"13d2+1\", \"Health\": 25.17, \"Energy\": 25.17, \"Sanity\": 26.47, \"Timestamp\": \"2024-10-03 19:46:52\"}, {\"Name\": \"Lich\", \"Type\": \"Undead\", \"Level\": 7, \"Rarity\": \"Rank 3\", \"Damage\": \"7d8+1\", \"Health\": 59.84, \"Energy\": 56.05, \"Sanity\": 53.1, \"Timestamp\": \"2024-10-03 19:46:52\"}, {\"Name\": \"Lightning Spirit\", \"Type\": \"Fey\", \"Level\": 4, \"Rarity\": \"Rank 3\", \"Damage\": \"4d8\", \"Health\": 29.3, \"Energy\": 31.68, \"Sanity\": 31.14, \"Timestamp\": \"2024-10-03 19:46:52\"}, {\"Name\": \"Pseudodragon\", \"Type\": \"Dragon\", \"Level\": 4, \"Rarity\": \"Rank 0\", \"Damage\": \"4d2\", \"Health\": 7.43, \"Energy\": 7.27, \"Sanity\": 7.6, \"Timestamp\": \"2024-10-03 19:46:52\"}, {\"Name\": \"Night Hag\", \"Type\": \"Demonic\", \"Level\": 4, \"Rarity\": \"Rank 0\", \"Damage\": \"4d2+2\", \"Health\": 7.15, \"Energy\": 7.49, \"Sanity\": 8.76, \"Timestamp\": \"2024-10-03 19:46:52\"}, {\"Name\": \"Smoke Spirit\", \"Type\": \"Fey\", \"Level\": 4, \"Rarity\": \"Rank 0\", \"Damage\": \"4d2+3\", \"Health\": 8.45, \"Energy\": 7.61, \"Sanity\": 7.31, \"Timestamp\": \"2024-10-03 19:46:52\"}, {\"Name\": \"Dust Mephit\", \"Type\": \"Elemental\", \"Level\": 15, \"Rarity\": \"Rank 0\", \"Damage\": \"15d2+5\", \"Health\": 30.1, \"Energy\": 29.73, \"Sanity\": 29.53, \"Timestamp\": \"2024-10-03 19:46:52\"}, {\"Name\": \"Hook Horror\", \"Type\": \"Demonic\", \"Level\": 3, \"Rarity\": \"Rank 0\", \"Damage\": \"3d2\", \"Health\": 6.1, \"Energy\": 6.61, \"Sanity\": 5.59, \"Timestamp\": \"2024-10-03 19:46:52\"}, {\"Name\": \"Ice Devil\", \"Type\": \"Devilkin\", \"Level\": 10, \"Rarity\": \"Rank 5\", \"Damage\": \"10d12+2\", \"Health\": 116.08, \"Energy\": 116.14, \"Sanity\": 118.03, \"Timestamp\": \"2024-10-03 19:46:52\"}, {\"Name\": \"White Dragon\", \"Type\": \"Dragon\", \"Level\": 2, \"Rarity\": \"Rank 3\", \"Damage\": \"2d8\", \"Health\": 17.12, \"Energy\": 14.8, \"Sanity\": 15.77, \"Timestamp\": \"2024-10-03 19:46:52\"}, {\"Name\": \"Banshee\", \"Type\": \"Undead\", \"Level\": 3, \"Rarity\": \"Rank 0\", \"Damage\": \"3d2+1\", \"Health\": 6.35, \"Energy\": 6.32, \"Sanity\": 6.9, \"Timestamp\": \"2024-10-03 19:46:52\"}, {\"Name\": \"Mud Archfey\", \"Type\": \"Fey\", \"Level\": 7, \"Rarity\": \"Rank 0\", \"Damage\": \"7d2+2\", \"Health\": 13.69, \"Energy\": 14.75, \"Sanity\": 13.05, \"Timestamp\": \"2024-10-03 19:46:52\"}, {\"Name\": \"Djinni\", \"Type\": \"Elemental\", \"Level\": 13, \"Rarity\": \"Rank 1\", \"Damage\": \"13d4\", \"Health\": 53.49, \"Energy\": 52.48, \"Sanity\": 52.41, \"Timestamp\": \"2024-10-03 19:46:52\"}, {\"Name\": \"Gold Demon\", \"Type\": \"Demonic\", \"Level\": 8, \"Rarity\": \"Rank 0\", \"Damage\": \"8d2+1\", \"Health\": 16.79, \"Energy\": 15.97, \"Sanity\": 16.54, \"Timestamp\": \"2024-10-03 19:46:52\"}, {\"Name\": \"Pit Lord\", \"Type\": \"Devilkin\", \"Level\": 2, \"Rarity\": \"Rank 3\", \"Damage\": \"2d8+3\", \"Health\": 18.96, \"Energy\": 19.1, \"Sanity\": 17.72, \"Timestamp\": \"2024-10-03 19:46:52\"}, {\"Name\": \"Ghast\", \"Type\": \"Undead\", \"Level\": 4, \"Rarity\": \"Rank 1\", \"Damage\": \"4d4\", \"Health\": 14.46, \"Energy\": 16.91, \"Sanity\": 15.0, \"Timestamp\": \"2024-10-03 19:46:52\"}, {\"Name\": \"Diamond Archfey\", \"Type\": \"Fey\", \"Level\": 3, \"Rarity\": \"Rank 1\", \"Damage\": \"3d4+1\", \"Health\": 12.98, \"Energy\": 12.36, \"Sanity\": 10.71, \"Timestamp\": \"2024-10-03 19:46:52\"}, {\"Name\": \"Lightning Mephit\", \"Type\": \"Elemental\", \"Level\": 1, \"Rarity\": \"Rank 3\", \"Damage\": \"1d8+1\", \"Health\": 11.44, \"Energy\": 9.08, \"Sanity\": 9.15, \"Timestamp\": \"2024-10-03 19:46:52\"}, {\"Name\": \"Wyvern\", \"Type\": \"Dragon\", \"Level\": 11, \"Rarity\": \"Rank 3\", \"Damage\": \"11d8\", \"Health\": 85.74, \"Energy\": 86.5, \"Sanity\": 89.31, \"Timestamp\": \"2024-10-03 19:46:52\"}, {\"Name\": \"Quasit\", \"Type\": \"Demonic\", \"Level\": 7, \"Rarity\": \"Rank 3\", \"Damage\": \"7d8\", \"Health\": 56.68, \"Energy\": 59.14, \"Sanity\": 53.55, \"Timestamp\": \"2024-10-03 19:46:52\"}, {\"Name\": \"Succubus\", \"Type\": \"Devilkin\", \"Level\": 3, \"Rarity\": \"Rank 1\", \"Damage\": \"3d4+1\", \"Health\": 12.38, \"Energy\": 10.32, \"Sanity\": 12.26, \"Timestamp\": \"2024-10-03 19:46:52\"}, {\"Name\": \"Wyvern\", \"Type\": \"Dragon\", \"Level\": 11, \"Rarity\": \"Rank 1\", \"Damage\": \"11d4+3\", \"Health\": 45.7, \"Energy\": 44.05, \"Sanity\": 45.4, \"Timestamp\": \"2024-10-03 19:46:52\"}, {\"Name\": \"Green Demon\", \"Type\": \"Demonic\", \"Level\": 15, \"Rarity\": \"Rank 2\", \"Damage\": \"15d6\", \"Health\": 91.92, \"Energy\": 89.11, \"Sanity\": 90.32, \"Timestamp\": \"2024-10-03 19:46:52\"}, {\"Name\": \"Ice Mephit\", \"Type\": \"Elemental\", \"Level\": 4, \"Rarity\": \"Rank 2\", \"Damage\": \"4d6+2\", \"Health\": 23.14, \"Energy\": 26.69, \"Sanity\": 24.91, \"Timestamp\": \"2024-10-03 19:46:52\"}, {\"Name\": \"Lich King\", \"Type\": \"Undead\", \"Level\": 3, \"Rarity\": \"Rank 2\", \"Damage\": \"3d6+2\", \"Health\": 16.62, \"Energy\": 20.29, \"Sanity\": 19.62, \"Timestamp\": \"2024-10-03 19:46:52\"}, {\"Name\": \"Black Faerie\", \"Type\": \"Fey\", \"Level\": 9, \"Rarity\": \"Rank 2\", \"Damage\": \"9d6+3\", \"Health\": 54.46, \"Energy\": 55.26, \"Sanity\": 51.37, \"Timestamp\": \"2024-10-03 19:46:52\"}, {\"Name\": \"Mud Mephit\", \"Type\": \"Elemental\", \"Level\": 3, \"Rarity\": \"Rank 0\", \"Damage\": \"3d2+1\", \"Health\": 5.56, \"Energy\": 5.79, \"Sanity\": 5.29, \"Timestamp\": \"2024-10-03 19:46:52\"}, {\"Name\": \"Emerald Dragon\", \"Type\": \"Dragon\", \"Level\": 5, \"Rarity\": \"Rank 3\", \"Damage\": \"5d8\", \"Health\": 41.17, \"Energy\": 39.32, \"Sanity\": 36.11, \"Timestamp\": \"2024-10-03 19:46:52\"}, {\"Name\": \"Flame Spirit\", \"Type\": \"Fey\", \"Level\": 3, \"Rarity\": \"Rank 3\", \"Damage\": \"3d8+3\", \"Health\": 21.56, \"Energy\": 20.28, \"Sanity\": 25.44, \"Timestamp\": \"2024-10-03 19:46:52\"}, {\"Name\": \"Succubus\", \"Type\": \"Devilkin\", \"Level\": 6, \"Rarity\": \"Rank 1\", \"Damage\": \"6d4+1\", \"Health\": 23.95, \"Energy\": 24.26, \"Sanity\": 23.15, \"Timestamp\": \"2024-10-03 19:46:52\"}, {\"Name\": \"Wyvern\", \"Type\": \"Dragon\", \"Level\": 9, \"Rarity\": \"Rank 1\", \"Damage\": \"9d4+2\", \"Health\": 35.85, \"Energy\": 35.63, \"Sanity\": 36.01, \"Timestamp\": \"2024-10-03 19:46:52\"}, {\"Name\": \"Balor\", \"Type\": \"Demonic\", \"Level\": 12, \"Rarity\": \"Rank 0\", \"Damage\": \"12d2+3\", \"Health\": 24.25, \"Energy\": 24.38, \"Sanity\": 24.36, \"Timestamp\": \"2024-10-03 19:46:52\"}, {\"Name\": \"Magma Archfey\", \"Type\": \"Fey\", \"Level\": 5, \"Rarity\": \"Rank 2\", \"Damage\": \"5d6+1\", \"Health\": 30.71, \"Energy\": 31.67, \"Sanity\": 28.08, \"Timestamp\": \"2024-10-03 19:46:52\"}, {\"Name\": \"Dust Elemental\", \"Type\": \"Elemental\", \"Level\": 5, \"Rarity\": \"Rank 1\", \"Damage\": \"5d4\", \"Health\": 20.2, \"Energy\": 21.25, \"Sanity\": 19.48, \"Timestamp\": \"2024-10-03 19:46:52\"}, {\"Name\": \"Dracolich\", \"Type\": \"Undead\", \"Level\": 5, \"Rarity\": \"Rank 0\", \"Damage\": \"5d2\", \"Health\": 9.96, \"Energy\": 10.58, \"Sanity\": 10.4, \"Timestamp\": \"2024-10-03 19:46:52\"}, {\"Name\": \"Kobold Archer\", \"Type\": \"Devilkin\", \"Level\": 12, \"Rarity\": \"Rank 4\", \"Damage\": \"12d10+2\", \"Health\": 120.76, \"Energy\": 123.24, \"Sanity\": 120.58, \"Timestamp\": \"2024-10-03 19:46:52\"}, {\"Name\": \"Pseudodragon\", \"Type\": \"Dragon\", \"Level\": 12, \"Rarity\": \"Rank 0\", \"Damage\": \"12d2+1\", \"Health\": 24.36, \"Energy\": 23.44, \"Sanity\": 24.09, \"Timestamp\": \"2024-10-03 19:46:52\"}, {\"Name\": \"Imp\", \"Type\": \"Demonic\", \"Level\": 15, \"Rarity\": \"Rank 0\", \"Damage\": \"15d2\", \"Health\": 29.17, \"Energy\": 29.79, \"Sanity\": 29.16, \"Timestamp\": \"2024-10-03 19:46:52\"}, {\"Name\": \"Blue Archfey\", \"Type\": \"Fey\", \"Level\": 6, \"Rarity\": \"Rank 3\", \"Damage\": \"6d8+2\", \"Health\": 50.99, \"Energy\": 48.32, \"Sanity\": 46.75, \"Timestamp\": \"2024-10-03 19:46:52\"}, {\"Name\": \"Pit Lord\", \"Type\": \"Devilkin\", \"Level\": 8, \"Rarity\": \"Rank 3\", \"Damage\": \"8d8+3\", \"Health\": 61.28, \"Energy\": 62.06, \"Sanity\": 61.33, \"Timestamp\": \"2024-10-03 19:46:52\"}, {\"Name\": \"Wraith\", \"Type\": \"Undead\", \"Level\": 8, \"Rarity\": \"Rank 0\", \"Damage\": \"8d2+1\", \"Health\": 15.6, \"Energy\": 16.84, \"Sanity\": 16.69, \"Timestamp\": \"2024-10-03 19:46:52\"}, {\"Name\": \"Spore Spirit\", \"Type\": \"Fey\", \"Level\": 10, \"Rarity\": \"Rank 4\", \"Damage\": \"10d10+2\", \"Health\": 99.77, \"Energy\": 102.77, \"Sanity\": 102.45, \"Timestamp\": \"2024-10-03 19:46:52\"}, {\"Name\": \"Faerie Dragon\", \"Type\": \"Dragon\", \"Level\": 16, \"Rarity\": \"Rank 4\", \"Damage\": \"16d10+2\", \"Health\": 157.36, \"Energy\": 158.31, \"Sanity\": 157.23, \"Timestamp\": \"2024-10-03 19:46:52\"}, {\"Name\": \"Hell Hound\", \"Type\": \"Demonic\", \"Level\": 7, \"Rarity\": \"Rank 2\", \"Damage\": \"7d6+1\", \"Health\": 44.91, \"Energy\": 44.47, \"Sanity\": 40.4, \"Timestamp\": \"2024-10-03 19:46:52\"}, {\"Name\": \"Kobold Knight\", \"Type\": \"Devilkin\", \"Level\": 8, \"Rarity\": \"Rank 1\", \"Damage\": \"8d4\", \"Health\": 31.74, \"Energy\": 32.8, \"Sanity\": 30.44, \"Timestamp\": \"2024-10-03 19:46:52\"}, {\"Name\": \"Brass Drake\", \"Type\": \"Dragon\", \"Level\": 6, \"Rarity\": \"Rank 4\", \"Damage\": \"6d10+1\", \"Health\": 61.25, \"Energy\": 59.77, \"Sanity\": 61.47, \"Timestamp\": \"2024-10-03 19:46:52\"}, {\"Name\": \"Wight\", \"Type\": \"Undead\", \"Level\": 2, \"Rarity\": \"Rank 3\", \"Damage\": \"2d8+2\", \"Health\": 16.46, \"Energy\": 15.12, \"Sanity\": 14.5, \"Timestamp\": \"2024-10-03 19:46:52\"}, {\"Name\": \"Goblin Villager\", \"Type\": \"Devilkin\", \"Level\": 5, \"Rarity\": \"Rank 0\", \"Damage\": \"5d2\", \"Health\": 10.7, \"Energy\": 9.06, \"Sanity\": 10.58, \"Timestamp\": \"2024-10-03 19:46:52\"}, {\"Name\": \"Red Drake\", \"Type\": \"Dragon\", \"Level\": 11, \"Rarity\": \"Rank 0\", \"Damage\": \"11d2+3\", \"Health\": 21.54, \"Energy\": 22.13, \"Sanity\": 22.5, \"Timestamp\": \"2024-10-03 19:46:52\"}, {\"Name\": \"Balor\", \"Type\": \"Demonic\", \"Level\": 10, \"Rarity\": \"Rank 3\", \"Damage\": \"10d8\", \"Health\": 83.35, \"Energy\": 80.1, \"Sanity\": 79.0, \"Timestamp\": \"2024-10-03 19:46:52\"}, {\"Name\": \"Prince of Fear\", \"Type\": \"Devilkin\", \"Level\": 10, \"Rarity\": \"Rank 0\", \"Damage\": \"10d2\", \"Health\": 19.79, \"Energy\": 19.71, \"Sanity\": 19.88, \"Timestamp\": \"2024-10-03 19:46:52\"}, {\"Name\": \"Diamond Dragon\", \"Type\": \"Dragon\", \"Level\": 8, \"Rarity\": \"Rank 2\", \"Damage\": \"8d6+1\", \"Health\": 48.36, \"Energy\": 49.24, \"Sanity\": 45.86, \"Timestamp\": \"2024-10-03 19:46:52\"}, {\"Name\": \"Hell Hound\", \"Type\": \"Demonic\", \"Level\": 6, \"Rarity\": \"Rank 1\", \"Damage\": \"6d4+1\", \"Health\": 24.96, \"Energy\": 24.8, \"Sanity\": 23.12, \"Timestamp\": \"2024-10-03 19:46:52\"}, {\"Name\": \"Prince of Fear\", \"Type\": \"Devilkin\", \"Level\": 7, \"Rarity\": \"Rank 0\", \"Damage\": \"7d2+1\", \"Health\": 14.97, \"Energy\": 14.42, \"Sanity\": 14.16, \"Timestamp\": \"2024-10-03 19:46:52\"}, {\"Name\": \"Mud Elemental\", \"Type\": \"Elemental\", \"Level\": 3, \"Rarity\": \"Rank 1\", \"Damage\": \"3d4+1\", \"Health\": 13.69, \"Energy\": 13.14, \"Sanity\": 11.34, \"Timestamp\": \"2024-10-03 19:46:52\"}, {\"Name\": \"Balor\", \"Type\": \"Demonic\", \"Level\": 6, \"Rarity\": \"Rank 3\", \"Damage\": \"6d8+1\", \"Health\": 44.45, \"Energy\": 45.39, \"Sanity\": 49.54, \"Timestamp\": \"2024-10-03 19:46:52\"}, {\"Name\": \"Pit Lord\", \"Type\": \"Devilkin\", \"Level\": 7, \"Rarity\": \"Rank 3\", \"Damage\": \"7d8\", \"Health\": 54.25, \"Energy\": 54.96, \"Sanity\": 54.24, \"Timestamp\": \"2024-10-03 19:46:52\"}, {\"Name\": \"Faerie Dragon\", \"Type\": \"Dragon\", \"Level\": 4, \"Rarity\": \"Rank 1\", \"Damage\": \"4d4+2\", \"Health\": 14.47, \"Energy\": 16.49, \"Sanity\": 17.74, \"Timestamp\": \"2024-10-03 19:46:52\"}, {\"Name\": \"Ghast\", \"Type\": \"Undead\", \"Level\": 9, \"Rarity\": \"Rank 5\", \"Damage\": \"9d12\", \"Health\": 104.25, \"Energy\": 103.42, \"Sanity\": 102.18, \"Timestamp\": \"2024-10-03 19:46:52\"}, {\"Name\": \"Steam Archfey\", \"Type\": \"Fey\", \"Level\": 5, \"Rarity\": \"Rank 2\", \"Damage\": \"5d6+4\", \"Health\": 31.87, \"Energy\": 29.37, \"Sanity\": 28.18, \"Timestamp\": \"2024-10-03 19:46:52\"}, {\"Name\": \"Silver Dragon\", \"Type\": \"Dragon\", \"Level\": 8, \"Rarity\": \"Rank 2\", \"Damage\": \"8d6+3\", \"Health\": 45.95, \"Energy\": 45.33, \"Sanity\": 48.47, \"Timestamp\": \"2024-10-03 19:46:52\"}, {\"Name\": \"Quasit\", \"Type\": \"Demonic\", \"Level\": 5, \"Rarity\": \"Rank 2\", \"Damage\": \"5d6+2\", \"Health\": 30.96, \"Energy\": 28.48, \"Sanity\": 30.97, \"Timestamp\": \"2024-10-03 19:46:52\"}, {\"Name\": \"Prince of Fear\", \"Type\": \"Devilkin\", \"Level\": 18, \"Rarity\": \"Rank 0\", \"Damage\": \"18d2+1\", \"Health\": 35.66, \"Energy\": 36.68, \"Sanity\": 36.56, \"Timestamp\": \"2024-10-03 19:46:52\"}, {\"Name\": \"Lightning Elemental\", \"Type\": \"Elemental\", \"Level\": 10, \"Rarity\": \"Rank 0\", \"Damage\": \"10d2+1\", \"Health\": 19.45, \"Energy\": 20.61, \"Sanity\": 20.88, \"Timestamp\": \"2024-10-03 19:46:52\"}, {\"Name\": \"Revenant\", \"Type\": \"Undead\", \"Level\": 2, \"Rarity\": \"Rank 0\", \"Damage\": \"2d2+2\", \"Health\": 3.58, \"Energy\": 4.34, \"Sanity\": 3.74, \"Timestamp\": \"2024-10-03 19:46:52\"}, {\"Name\": \"Smoke Spirit\", \"Type\": \"Fey\", \"Level\": 6, \"Rarity\": \"Rank 3\", \"Damage\": \"6d8+2\", \"Health\": 48.72, \"Energy\": 48.39, \"Sanity\": 49.33, \"Timestamp\": \"2024-10-03 19:46:52\"}, {\"Name\": \"Efreeti\", \"Type\": \"Elemental\", \"Level\": 8, \"Rarity\": \"Rank 2\", \"Damage\": \"8d6\", \"Health\": 46.61, \"Energy\": 49.1, \"Sanity\": 49.21, \"Timestamp\": \"2024-10-03 19:46:52\"}, {\"Name\": \"Banshee\", \"Type\": \"Undead\", \"Level\": 11, \"Rarity\": \"Rank 0\", \"Damage\": \"11d2\", \"Health\": 22.59, \"Energy\": 22.22, \"Sanity\": 21.9, \"Timestamp\": \"2024-10-03 19:46:52\"}, {\"Name\": \"Pit Fiend\", \"Type\": \"Demonic\", \"Level\": 5, \"Rarity\": \"Rank 0\", \"Damage\": \"5d2\", \"Health\": 9.43, \"Energy\": 9.63, \"Sanity\": 10.61, \"Timestamp\": \"2024-10-03 19:46:52\"}, {\"Name\": \"Black Faerie\", \"Type\": \"Fey\", \"Level\": 6, \"Rarity\": \"Rank 5\", \"Damage\": \"6d12+4\", \"Health\": 74.92, \"Energy\": 71.4, \"Sanity\": 67.69, \"Timestamp\": \"2024-10-03 19:46:52\"}, {\"Name\": \"Steam Elemental\", \"Type\": \"Elemental\", \"Level\": 15, \"Rarity\": \"Rank 3\", \"Damage\": \"15d8+1\", \"Health\": 116.52, \"Energy\": 121.59, \"Sanity\": 121.03, \"Timestamp\": \"2024-10-03 19:46:52\"}, {\"Name\": \"Ruby Wyrmling\", \"Type\": \"Dragon\", \"Level\": 6, \"Rarity\": \"Rank 1\", \"Damage\": \"6d4+1\", \"Health\": 23.14, \"Energy\": 24.25, \"Sanity\": 24.84, \"Timestamp\": \"2024-10-03 19:46:52\"}, {\"Name\": \"Hell Hound\", \"Type\": \"Demonic\", \"Level\": 6, \"Rarity\": \"Rank 2\", \"Damage\": \"6d6+2\", \"Health\": 34.47, \"Energy\": 35.58, \"Sanity\": 37.3, \"Timestamp\": \"2024-10-03 19:46:52\"}, {\"Name\": \"Prince of Fear\", \"Type\": \"Devilkin\", \"Level\": 6, \"Rarity\": \"Rank 0\", \"Damage\": \"6d2+2\", \"Health\": 11.06, \"Energy\": 12.55, \"Sanity\": 11.67, \"Timestamp\": \"2024-10-03 19:46:52\"}, {\"Name\": \"Prismatic Wyrmling\", \"Type\": \"Dragon\", \"Level\": 4, \"Rarity\": \"Rank 5\", \"Damage\": \"4d12+5\", \"Health\": 44.51, \"Energy\": 47.22, \"Sanity\": 44.98, \"Timestamp\": \"2024-10-03 19:46:52\"}, {\"Name\": \"Spore Spirit\", \"Type\": \"Fey\", \"Level\": 8, \"Rarity\": \"Rank 2\", \"Damage\": \"8d6\", \"Health\": 47.25, \"Energy\": 49.44, \"Sanity\": 49.23, \"Timestamp\": \"2024-10-03 19:46:52\"}, {\"Name\": \"Goblin Mage\", \"Type\": \"Devilkin\", \"Level\": 6, \"Rarity\": \"Rank 0\", \"Damage\": \"6d2\", \"Health\": 12.55, \"Energy\": 12.12, \"Sanity\": 11.84, \"Timestamp\": \"2024-10-03 19:46:52\"}, {\"Name\": \"Lich\", \"Type\": \"Undead\", \"Level\": 8, \"Rarity\": \"Rank 2\", \"Damage\": \"8d6\", \"Health\": 47.92, \"Energy\": 48.93, \"Sanity\": 50.42, \"Timestamp\": \"2024-10-03 19:46:52\"}, {\"Name\": \"Shadow Spirit\", \"Type\": \"Fey\", \"Level\": 11, \"Rarity\": \"Rank 0\", \"Damage\": \"11d2+3\", \"Health\": 22.59, \"Energy\": 22.02, \"Sanity\": 21.87, \"Timestamp\": \"2024-10-03 19:46:52\"}, {\"Name\": \"Ice Elemental\", \"Type\": \"Elemental\", \"Level\": 4, \"Rarity\": \"Rank 0\", \"Damage\": \"4d2+3\", \"Health\": 8.76, \"Energy\": 7.64, \"Sanity\": 8.59, \"Timestamp\": \"2024-10-03 19:46:52\"}, {\"Name\": \"Mummy Lord\", \"Type\": \"Undead\", \"Level\": 1, \"Rarity\": \"Rank 2\", \"Damage\": \"1d6+2\", \"Health\": 4.46, \"Energy\": 3.64, \"Sanity\": 4.29, \"Timestamp\": \"2024-10-03 19:46:52\"}, {\"Name\": \"Smoke Spirit\", \"Type\": \"Fey\", \"Level\": 17, \"Rarity\": \"Rank 2\", \"Damage\": \"17d6+1\", \"Health\": 102.74, \"Energy\": 99.53, \"Sanity\": 102.0, \"Timestamp\": \"2024-10-03 19:46:52\"}, {\"Name\": \"Shadow Mephit\", \"Type\": \"Elemental\", \"Level\": 5, \"Rarity\": \"Rank 0\", \"Damage\": \"5d2\", \"Health\": 10.54, \"Energy\": 10.59, \"Sanity\": 10.52, \"Timestamp\": \"2024-10-03 19:46:52\"}, {\"Name\": \"Lich King\", \"Type\": \"Undead\", \"Level\": 2, \"Rarity\": \"Rank 0\", \"Damage\": \"2d2+2\", \"Health\": 4.44, \"Energy\": 4.87, \"Sanity\": 3.84, \"Timestamp\": \"2024-10-03 19:46:52\"}, {\"Name\": \"Night Hag\", \"Type\": \"Demonic\", \"Level\": 5, \"Rarity\": \"Rank 4\", \"Damage\": \"5d10+4\", \"Health\": 46.36, \"Energy\": 47.25, \"Sanity\": 53.54, \"Timestamp\": \"2024-10-03 19:46:52\"}, {\"Name\": \"Prince of Fear\", \"Type\": \"Devilkin\", \"Level\": 5, \"Rarity\": \"Rank 2\", \"Damage\": \"5d6\", \"Health\": 30.71, \"Energy\": 31.72, \"Sanity\": 31.96, \"Timestamp\": \"2024-10-03 19:46:52\"}, {\"Name\": \"Faerie Dragon\", \"Type\": \"Dragon\", \"Level\": 16, \"Rarity\": \"Rank 2\", \"Damage\": \"16d6+1\", \"Health\": 94.79, \"Energy\": 95.85, \"Sanity\": 96.41, \"Timestamp\": \"2024-10-03 19:46:52\"}, {\"Name\": \"Balor\", \"Type\": \"Demonic\", \"Level\": 12, \"Rarity\": \"Rank 2\", \"Damage\": \"12d6+1\", \"Health\": 70.73, \"Energy\": 70.98, \"Sanity\": 74.87, \"Timestamp\": \"2024-10-03 19:46:52\"}, {\"Name\": \"Pit Lord\", \"Type\": \"Devilkin\", \"Level\": 7, \"Rarity\": \"Rank 1\", \"Damage\": \"7d4\", \"Health\": 26.04, \"Energy\": 28.72, \"Sanity\": 26.07, \"Timestamp\": \"2024-10-03 19:46:52\"}, {\"Name\": \"Faerie Dragon\", \"Type\": \"Dragon\", \"Level\": 12, \"Rarity\": \"Rank 3\", \"Damage\": \"12d8+1\", \"Health\": 93.85, \"Energy\": 94.24, \"Sanity\": 93.74, \"Timestamp\": \"2024-10-03 19:46:52\"}, {\"Name\": \"Nightmare\", \"Type\": \"Demonic\", \"Level\": 7, \"Rarity\": \"Rank 5\", \"Damage\": \"7d12+5\", \"Health\": 86.67, \"Energy\": 83.08, \"Sanity\": 78.17, \"Timestamp\": \"2024-10-03 19:46:52\"}, {\"Name\": \"Dust Devil\", \"Type\": \"Devilkin\", \"Level\": 3, \"Rarity\": \"Rank 0\", \"Damage\": \"3d2\", \"Health\": 6.19, \"Energy\": 5.08, \"Sanity\": 5.35, \"Timestamp\": \"2024-10-03 19:46:52\"}, {\"Name\": \"Poltergeist\", \"Type\": \"Undead\", \"Level\": 7, \"Rarity\": \"Rank 2\", \"Damage\": \"7d6+2\", \"Health\": 39.43, \"Energy\": 41.2, \"Sanity\": 40.69, \"Timestamp\": \"2024-10-03 19:46:52\"}, {\"Name\": \"Pit Fiend\", \"Type\": \"Demonic\", \"Level\": 7, \"Rarity\": \"Rank 0\", \"Damage\": \"7d2+1\", \"Health\": 13.18, \"Energy\": 13.75, \"Sanity\": 13.7, \"Timestamp\": \"2024-10-03 19:46:52\"}, {\"Name\": \"Pit Lord\", \"Type\": \"Devilkin\", \"Level\": 8, \"Rarity\": \"Rank 0\", \"Damage\": \"8d2+4\", \"Health\": 16.83, \"Energy\": 16.73, \"Sanity\": 15.03, \"Timestamp\": \"2024-10-03 19:46:52\"}, {\"Name\": \"Skeletal Guard\", \"Type\": \"Undead\", \"Level\": 19, \"Rarity\": \"Rank 1\", \"Damage\": \"19d4\", \"Health\": 76.71, \"Energy\": 75.51, \"Sanity\": 76.01, \"Timestamp\": \"2024-10-03 19:46:52\"}, {\"Name\": \"Balor\", \"Type\": \"Demonic\", \"Level\": 12, \"Rarity\": \"Rank 0\", \"Damage\": \"12d2\", \"Health\": 24.89, \"Energy\": 23.09, \"Sanity\": 24.7, \"Timestamp\": \"2024-10-03 19:46:52\"}, {\"Name\": \"Onyx Faerie\", \"Type\": \"Fey\", \"Level\": 12, \"Rarity\": \"Rank 4\", \"Damage\": \"12d10+1\", \"Health\": 118.19, \"Energy\": 118.49, \"Sanity\": 118.62, \"Timestamp\": \"2024-10-03 19:46:52\"}, {\"Name\": \"Faerie Dragon\", \"Type\": \"Dragon\", \"Level\": 2, \"Rarity\": \"Rank 0\", \"Damage\": \"2d2\", \"Health\": 4.48, \"Energy\": 4.02, \"Sanity\": 3.62, \"Timestamp\": \"2024-10-03 19:46:52\"}, {\"Name\": \"Hook Horror\", \"Type\": \"Demonic\", \"Level\": 12, \"Rarity\": \"Rank 0\", \"Damage\": \"12d2\", \"Health\": 24.11, \"Energy\": 24.62, \"Sanity\": 24.94, \"Timestamp\": \"2024-10-03 19:46:52\"}, {\"Name\": \"Red Faerie\", \"Type\": \"Fey\", \"Level\": 8, \"Rarity\": \"Rank 0\", \"Damage\": \"8d2\", \"Health\": 16.78, \"Energy\": 16.31, \"Sanity\": 15.82, \"Timestamp\": \"2024-10-03 19:46:52\"}, {\"Name\": \"Flame Elemental\", \"Type\": \"Elemental\", \"Level\": 2, \"Rarity\": \"Rank 2\", \"Damage\": \"2d6+1\", \"Health\": 9.92, \"Energy\": 13.97, \"Sanity\": 12.47, \"Timestamp\": \"2024-10-03 19:46:52\"}, {\"Name\": \"Death Knight\", \"Type\": \"Undead\", \"Level\": 7, \"Rarity\": \"Rank 0\", \"Damage\": \"7d2+1\", \"Health\": 13.19, \"Energy\": 14.02, \"Sanity\": 14.86, \"Timestamp\": \"2024-10-03 19:46:52\"}, {\"Name\": \"Succubus\", \"Type\": \"Devilkin\", \"Level\": 3, \"Rarity\": \"Rank 0\", \"Damage\": \"3d2\", \"Health\": 6.78, \"Energy\": 5.01, \"Sanity\": 5.88, \"Timestamp\": \"2024-10-03 19:46:52\"}, {\"Name\": \"Emerald Dragon\", \"Type\": \"Dragon\", \"Level\": 18, \"Rarity\": \"Rank 2\", \"Damage\": \"18d6+2\", \"Health\": 106.5, \"Energy\": 110.89, \"Sanity\": 107.25, \"Timestamp\": \"2024-10-03 19:46:52\"}, {\"Name\": \"Death Knight\", \"Type\": \"Undead\", \"Level\": 10, \"Rarity\": \"Rank 5\", \"Damage\": \"10d12+3\", \"Health\": 120.73, \"Energy\": 119.05, \"Sanity\": 124.57, \"Timestamp\": \"2024-10-03 19:46:52\"}, {\"Name\": \"Magma Spirit\", \"Type\": \"Fey\", \"Level\": 10, \"Rarity\": \"Rank 2\", \"Damage\": \"10d6+2\", \"Health\": 57.76, \"Energy\": 59.32, \"Sanity\": 58.24, \"Timestamp\": \"2024-10-03 19:46:52\"}]}}, {\"mode\": \"vega-lite\"});\n",
       "</script>"
      ],
      "text/plain": [
       "alt.Chart(...)"
      ]
     },
     "execution_count": 17,
     "metadata": {},
     "output_type": "execute_result"
    }
   ],
   "source": [
    "chart = altair.Chart(mf, title='title').mark_point().encode(\n",
    "    x='Health',\n",
    "    y='Energy',\n",
    "    color='Rarity',\n",
    "    tooltip=['Name', 'Type', 'Level', 'Rarity', 'Damage', 'Health', 'Energy', 'Sanity', 'Timestamp']\n",
    ")\n",
    "chart"
   ]
  },
  {
   "cell_type": "code",
   "execution_count": 18,
   "metadata": {},
   "outputs": [
    {
     "data": {
      "text/plain": [
       "<bound method TopLevelMixin.to_json of alt.Chart(...)>"
      ]
     },
     "execution_count": 18,
     "metadata": {},
     "output_type": "execute_result"
    }
   ],
   "source": [
    "chart.to_json"
   ]
  },
  {
   "cell_type": "code",
   "execution_count": 2,
   "metadata": {},
   "outputs": [],
   "source": [
    "from sklearn.ensemble import RandomForestClassifier\n",
    "from sklearn.dummy import DummyClassifier\n",
    "from sklearn.linear_model import LogisticRegression"
   ]
  },
  {
   "cell_type": "code",
   "execution_count": 21,
   "metadata": {},
   "outputs": [
    {
     "data": {
      "text/html": [
       "<div>\n",
       "<style scoped>\n",
       "    .dataframe tbody tr th:only-of-type {\n",
       "        vertical-align: middle;\n",
       "    }\n",
       "\n",
       "    .dataframe tbody tr th {\n",
       "        vertical-align: top;\n",
       "    }\n",
       "\n",
       "    .dataframe thead th {\n",
       "        text-align: right;\n",
       "    }\n",
       "</style>\n",
       "<table border=\"1\" class=\"dataframe\">\n",
       "  <thead>\n",
       "    <tr style=\"text-align: right;\">\n",
       "      <th></th>\n",
       "      <th>Level</th>\n",
       "      <th>Health</th>\n",
       "      <th>Energy</th>\n",
       "      <th>Sanity</th>\n",
       "      <th>Rarity</th>\n",
       "    </tr>\n",
       "  </thead>\n",
       "  <tbody>\n",
       "    <tr>\n",
       "      <th>0</th>\n",
       "      <td>6</td>\n",
       "      <td>11.77</td>\n",
       "      <td>12.34</td>\n",
       "      <td>11.54</td>\n",
       "      <td>Rank 0</td>\n",
       "    </tr>\n",
       "    <tr>\n",
       "      <th>1</th>\n",
       "      <td>4</td>\n",
       "      <td>8.18</td>\n",
       "      <td>7.35</td>\n",
       "      <td>7.03</td>\n",
       "      <td>Rank 0</td>\n",
       "    </tr>\n",
       "    <tr>\n",
       "      <th>2</th>\n",
       "      <td>20</td>\n",
       "      <td>39.38</td>\n",
       "      <td>39.38</td>\n",
       "      <td>39.88</td>\n",
       "      <td>Rank 0</td>\n",
       "    </tr>\n",
       "    <tr>\n",
       "      <th>3</th>\n",
       "      <td>12</td>\n",
       "      <td>72.67</td>\n",
       "      <td>73.99</td>\n",
       "      <td>72.29</td>\n",
       "      <td>Rank 2</td>\n",
       "    </tr>\n",
       "    <tr>\n",
       "      <th>4</th>\n",
       "      <td>11</td>\n",
       "      <td>63.02</td>\n",
       "      <td>67.39</td>\n",
       "      <td>64.52</td>\n",
       "      <td>Rank 2</td>\n",
       "    </tr>\n",
       "  </tbody>\n",
       "</table>\n",
       "</div>"
      ],
      "text/plain": [
       "   Level  Health  Energy  Sanity  Rarity\n",
       "0      6   11.77   12.34   11.54  Rank 0\n",
       "1      4    8.18    7.35    7.03  Rank 0\n",
       "2     20   39.38   39.38   39.88  Rank 0\n",
       "3     12   72.67   73.99   72.29  Rank 2\n",
       "4     11   63.02   67.39   64.52  Rank 2"
      ]
     },
     "execution_count": 21,
     "metadata": {},
     "output_type": "execute_result"
    }
   ],
   "source": [
    "cols = [\"Level\", \"Health\", \"Energy\", \"Sanity\", \"Rarity\"]\n",
    "\n",
    "df = mons_df(1000)[cols]\n",
    "val = mons_df(200)[cols]\n",
    "test = mons_df(200)[cols]\n",
    "\n",
    "target = 'Rarity'\n",
    "X = df.drop(columns=target)\n",
    "y = [int(x.split()[1]) for x in df[target]]\n",
    "\n",
    "df.head()"
   ]
  },
  {
   "cell_type": "code",
   "execution_count": 22,
   "metadata": {},
   "outputs": [],
   "source": [
    "X_val = val.drop(columns=target)\n",
    "y_val = [int(x.split()[1]) for x in val[target]]\n",
    "\n",
    "X_test = test.drop(columns= target)\n",
    "y_test = [int(x.split()[1]) for x in test[target]]"
   ]
  },
  {
   "cell_type": "code",
   "execution_count": 25,
   "metadata": {},
   "outputs": [
    {
     "data": {
      "text/plain": [
       "0.285"
      ]
     },
     "execution_count": 25,
     "metadata": {},
     "output_type": "execute_result"
    }
   ],
   "source": [
    "baseline = DummyClassifier()\n",
    "baseline.fit(X,y)\n",
    "baseline.score(X_val, y_val)"
   ]
  },
  {
   "cell_type": "code",
   "execution_count": 26,
   "metadata": {},
   "outputs": [
    {
     "data": {
      "text/plain": [
       "0.75"
      ]
     },
     "execution_count": 26,
     "metadata": {},
     "output_type": "execute_result"
    }
   ],
   "source": [
    "logr = LogisticRegression(multi_class='ovr').fit(X, y)\n",
    "logr.score(X_val, y_val)"
   ]
  },
  {
   "cell_type": "code",
   "execution_count": 68,
   "metadata": {},
   "outputs": [
    {
     "data": {
      "text/plain": [
       "0.935"
      ]
     },
     "execution_count": 68,
     "metadata": {},
     "output_type": "execute_result"
    }
   ],
   "source": [
    "clf1 = RandomForestClassifier(random_state=42)\n",
    "clf1.fit(X, y)\n",
    "clf1.score(X_val, y_val)"
   ]
  },
  {
   "cell_type": "code",
   "execution_count": 40,
   "metadata": {},
   "outputs": [
    {
     "data": {
      "text/plain": [
       "0.985"
      ]
     },
     "execution_count": 40,
     "metadata": {},
     "output_type": "execute_result"
    }
   ],
   "source": [
    "clf1.score(X_test, y_test)"
   ]
  },
  {
   "cell_type": "code",
   "execution_count": 60,
   "metadata": {},
   "outputs": [],
   "source": [
    "from sklearn.experimental import enable_halving_search_cv\n",
    "from sklearn.model_selection import HalvingRandomSearchCV"
   ]
  },
  {
   "cell_type": "code",
   "execution_count": 57,
   "metadata": {},
   "outputs": [
    {
     "data": {
      "text/plain": [
       "array([2])"
      ]
     },
     "execution_count": 57,
     "metadata": {},
     "output_type": "execute_result"
    }
   ],
   "source": [
    "sample = [{\"Level\": 9,\n",
    "          \"Health\": 59.0,\n",
    "          \"Energy\": 67.0,\n",
    "          \"Sanity\": 37.0\n",
    "}]\n",
    "feature_basis = pd.DataFrame(sample)\n",
    "\n",
    "pred = clf1.predict(feature_basis)\n",
    "pred"
   ]
  },
  {
   "cell_type": "code",
   "execution_count": 69,
   "metadata": {},
   "outputs": [
    {
     "data": {
      "text/plain": [
       "'45.00%'"
      ]
     },
     "execution_count": 69,
     "metadata": {},
     "output_type": "execute_result"
    }
   ],
   "source": [
    "proba = clf1.predict_proba(pd.DataFrame(sample))[0].max()\n",
    "f'{proba:.2%}'"
   ]
  },
  {
   "cell_type": "code",
   "execution_count": 65,
   "metadata": {},
   "outputs": [
    {
     "data": {
      "text/plain": [
       "1728368784.143855"
      ]
     },
     "execution_count": 65,
     "metadata": {},
     "output_type": "execute_result"
    }
   ],
   "source": [
    "import time\n",
    "t = time.time()\n"
   ]
  }
 ],
 "metadata": {
  "kernelspec": {
   "display_name": ".venv",
   "language": "python",
   "name": "python3"
  },
  "language_info": {
   "codemirror_mode": {
    "name": "ipython",
    "version": 3
   },
   "file_extension": ".py",
   "mimetype": "text/x-python",
   "name": "python",
   "nbconvert_exporter": "python",
   "pygments_lexer": "ipython3",
   "version": "3.8.13"
  }
 },
 "nbformat": 4,
 "nbformat_minor": 2
}
